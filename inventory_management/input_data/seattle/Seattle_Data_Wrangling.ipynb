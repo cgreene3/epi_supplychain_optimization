{
 "cells": [
  {
   "cell_type": "code",
   "execution_count": 1,
   "metadata": {},
   "outputs": [],
   "source": [
    "import os\n",
    "import pandas as pd\n",
    "import numpy as np\n",
    "\n",
    "import matplotlib.pyplot as plot\n",
    "import math\n",
    "\n",
    "from datetime import timedelta\n",
    "from datetime import datetime"
   ]
  },
  {
   "cell_type": "code",
   "execution_count": 2,
   "metadata": {},
   "outputs": [],
   "source": [
    "#id directories\n",
    "data_dir = os.getcwd()"
   ]
  },
  {
   "cell_type": "code",
   "execution_count": 3,
   "metadata": {},
   "outputs": [],
   "source": [
    "items_df = pd.read_excel('item_sets.xlsx')\n",
    "orders_df = pd.read_excel('Critical_Supply_Dashboard_19 items_Aug_19.xlsx', \n",
    "                          sheet_name='DATA_Orders')\n",
    "orders_df.columns = orders_df.iloc[0]\n",
    "orders_df.columns = orders_df.columns.str.replace(' ', '')\n",
    "items_df.columns = items_df.columns.str.replace(' ', '')\n",
    "orders_df.columns = orders_df.columns.str.replace('.', '_')\n",
    "orders_df = orders_df.iloc[1:]\n",
    "orders_df = orders_df[orders_df['Category'].notnull()]"
   ]
  },
  {
   "cell_type": "code",
   "execution_count": 4,
   "metadata": {},
   "outputs": [],
   "source": [
    "#clean orders data frame to get types\n",
    "\n",
    "orders_df['item_type_list_clean'] = ''\n",
    "temp = ['PAWS','Disinfectant Wipes', \n",
    "        'Hand Sanitizer','Hand Soap',\n",
    "        'N-95 Filter',\n",
    "        'Surgical Mask']\n",
    "\n",
    "\n",
    "for i in range(len(orders_df)):\n",
    "    \n",
    "    category_temp = orders_df['Category'].iloc[i]\n",
    "    \n",
    "    if category_temp in temp:\n",
    "        orders_df['item_type_list_clean'].iloc[i] = category_temp\n",
    "    elif category_temp in ['DS', 'DSS']:\n",
    "        orders_df['item_type_list_clean'].iloc[i] = 'Disinfecting Solution'\n",
    "    elif category_temp in ['IA']:\n",
    "        orders_df['item_type_list_clean'].iloc[i] = 'Isopropyl Alcohol'\n",
    "    elif ((category_temp.find('Gloves') != -1) and (orders_df['Description'].iloc[i].find('exam') != -1)):\n",
    "        orders_df['item_type_list_clean'].iloc[i] = 'Nitrile Gloves (Public Safety)'\n",
    "    elif ((category_temp.find('Gloves') != -1) and (orders_df['Description'].iloc[i].find('exam') == -1)):\n",
    "        orders_df['item_type_list_clean'].iloc[i] = 'Nitrile Gloves (General Use)'\n",
    "    elif category_temp in ['CMask']:\n",
    "        orders_df['item_type_list_clean'].iloc[i] = 'Mask (Cloth)'\n",
    "    elif category_temp in ['Therm']:\n",
    "        orders_df['item_type_list_clean'].iloc[i] = 'Thermometer'\n",
    "    elif (category_temp.find('Tyvek') != -1):\n",
    "        if (category_temp.find('NH') != -1):\n",
    "            orders_df['item_type_list_clean'].iloc[i] = 'Tyvek Suits'\n",
    "        else:\n",
    "            orders_df['item_type_list_clean'].iloc[i] = 'Tyvek Suits w/ hoods'\n",
    "    elif category_temp in ['Gowns']:\n",
    "        orders_df['item_type_list_clean'].iloc[i] = 'Surgical Gowns'\n",
    "    elif category_temp in ['HS Refill Bags']:\n",
    "        orders_df['item_type_list_clean'].iloc[i] = 'Purell (1200 ml stand refill)'\n",
    "    elif (category_temp.find('Toilet') != -1):\n",
    "        orders_df['item_type_list_clean'].iloc[i] = 'Toilet Paper'\n",
    "    else:\n",
    "        orders_df['item_type_list_clean'].iloc[i] = 'NA'\n",
    "        \n",
    "orders_df = orders_df[orders_df['item_type_list_clean'] != 'NA']"
   ]
  },
  {
   "cell_type": "code",
   "execution_count": 5,
   "metadata": {},
   "outputs": [],
   "source": [
    "#delay time df\n",
    "delay_time_df = orders_df[['item_type_list_clean', 'Date', 'EstimatedDeliveryDate']]\n",
    "\n",
    "#clean to only include df with estimated/realized delay times\n",
    "delay_time_df = delay_time_df[delay_time_df['EstimatedDeliveryDate'] != 'TBD']\n",
    "delay_time_df = delay_time_df[delay_time_df['EstimatedDeliveryDate'].notnull()]\n",
    "delay_time_df['Date'] = pd.to_datetime(delay_time_df['Date'])\n",
    "delay_time_df['EstimatedDeliveryDate'] = (delay_time_df['EstimatedDeliveryDate']).astype(str)\n",
    "delay_time_df['filter'] = delay_time_df['EstimatedDeliveryDate'].str.contains('-') #to filter out other misc errors\n",
    "delay_time_df = delay_time_df[delay_time_df['filter'] == True]\n",
    "delay_time_df['EstimatedDeliveryDate'] = pd.to_datetime(delay_time_df['EstimatedDeliveryDate'])\n",
    "delay_time_df['delay_time'] = delay_time_df['EstimatedDeliveryDate'] - delay_time_df['Date']"
   ]
  },
  {
   "cell_type": "code",
   "execution_count": null,
   "metadata": {},
   "outputs": [],
   "source": []
  }
 ],
 "metadata": {
  "kernelspec": {
   "display_name": "Python 3",
   "language": "python",
   "name": "python3"
  },
  "language_info": {
   "codemirror_mode": {
    "name": "ipython",
    "version": 3
   },
   "file_extension": ".py",
   "mimetype": "text/x-python",
   "name": "python",
   "nbconvert_exporter": "python",
   "pygments_lexer": "ipython3",
   "version": "3.7.3"
  }
 },
 "nbformat": 4,
 "nbformat_minor": 4
}
