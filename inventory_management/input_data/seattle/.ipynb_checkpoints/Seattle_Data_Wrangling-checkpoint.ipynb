{
 "cells": [
  {
   "cell_type": "code",
   "execution_count": 1,
   "metadata": {},
   "outputs": [],
   "source": [
    "import os\n",
    "import pandas as pd\n",
    "import numpy as np\n",
    "\n",
    "import matplotlib.pyplot as plot\n",
    "import math\n",
    "\n",
    "from datetime import timedelta\n",
    "from datetime import datetime\n",
    "\n",
    "import requests\n",
    "import json \n",
    "\n",
    "import re"
   ]
  },
  {
   "cell_type": "code",
   "execution_count": 2,
   "metadata": {},
   "outputs": [],
   "source": [
    "#id directories\n",
    "data_dir = os.getcwd()"
   ]
  },
  {
   "cell_type": "code",
   "execution_count": 3,
   "metadata": {},
   "outputs": [],
   "source": [
    "#supply data\n",
    "items_df = pd.read_excel('item_sets.xlsx')\n",
    "orders_df = pd.read_excel('Critical_Supply_Dashboard_19 items_Aug_19.xlsx', \n",
    "                          sheet_name='DATA_Orders')\n",
    "orders_df.columns = orders_df.columns.str.replace(' ', '')\n",
    "items_df.columns = items_df.columns.str.replace(' ', '')\n",
    "orders_df.columns = orders_df.columns.str.replace('.', '_')\n",
    "orders_df = orders_df.iloc[1:]\n",
    "orders_df = orders_df[orders_df['Category'].notnull()]"
   ]
  },
  {
   "cell_type": "code",
   "execution_count": 4,
   "metadata": {},
   "outputs": [],
   "source": [
    "#demand data\n",
    "r = requests.get('https://data.seattle.gov/resource/33kz-ixgy.json')\n",
    "calls_df = pd.read_json(r.text)\n",
    "\n",
    "r = requests.get('https://data.seattle.gov/resource/fire-911.json')\n",
    "fire_reponses_df = pd.read_json(r.text)\n",
    "\n",
    "call_types_df = pd.read_excel('City_of_Seattle_set_of_call_types.xlsx')"
   ]
  },
  {
   "cell_type": "code",
   "execution_count": 5,
   "metadata": {},
   "outputs": [
    {
     "name": "stderr",
     "output_type": "stream",
     "text": [
      "/usr/local/anaconda3/lib/python3.7/site-packages/pandas/core/indexing.py:670: SettingWithCopyWarning: \n",
      "A value is trying to be set on a copy of a slice from a DataFrame\n",
      "\n",
      "See the caveats in the documentation: https://pandas.pydata.org/pandas-docs/stable/user_guide/indexing.html#returning-a-view-versus-a-copy\n",
      "  self._setitem_with_indexer(indexer, value)\n"
     ]
    }
   ],
   "source": [
    "calls_df['classification'] = ''\n",
    "calls_df['date_clean'] = ''\n",
    "calls_df['week'] = ''\n",
    "calls_df['year'] = ''\n",
    "\n",
    "for i in range(len(calls_df)):\n",
    "    classification_temp = re.split(' - ', calls_df['initial_call_type'].iloc[i])\n",
    "    time_temp = re.split(' ', calls_df['original_time_queued'].iloc[i])\n",
    "    calls_df['classification'].iloc[i] = classification_temp[0]\n",
    "    calls_df['date_clean'].iloc[i] = time_temp[0]\n",
    "\n",
    "for i in range(len(calls_df)):\n",
    "    date_temp = datetime.strptime(calls_df['date_clean'].iloc[i], \"%d/%W/%Y\")\n",
    "    calls_df['year'].iloc[i] = date_temp.isocalendar()[0]\n",
    "    calls_df['week'].iloc[i] = date_temp.isocalendar()[1]"
   ]
  },
  {
   "cell_type": "code",
   "execution_count": 16,
   "metadata": {},
   "outputs": [],
   "source": [
    "#calculate arrival rates per week\n",
    "calls_df_arrival_per_week = calls_df[['classification',\n",
    "                                              'year', \n",
    "                                              'week', 'cad_event_number']].groupby(['classification',\n",
    "                                              'year', \n",
    "                                              'week']).agg('count')"
   ]
  },
  {
   "cell_type": "code",
   "execution_count": null,
   "metadata": {},
   "outputs": [],
   "source": [
    "#clean orders data frame to get types\n",
    "\n",
    "orders_df['FullItemList'] = ''\n",
    "temp = ['Disinfectant Wipes', \n",
    "        'Hand Sanitizer','Hand Soap']\n",
    "\n",
    "\n",
    "for i in range(len(orders_df)):\n",
    "    \n",
    "    category_temp = orders_df['Category'].iloc[i]\n",
    "    \n",
    "    if category_temp in temp:\n",
    "        orders_df['FullItemList'].iloc[i] = category_temp\n",
    "    elif category_temp in ['N-95 Filter']:\n",
    "        orders_df['FullItemList'].iloc[i] = 'Masks (N95)'   \n",
    "    elif category_temp in ['Surgical Mask']:\n",
    "        orders_df['FullItemList'].iloc[i] = 'Masks (Surgical)'\n",
    "    elif category_temp in ['PAWS']:\n",
    "        orders_df['FullItemList'].iloc[i] = 'Antimicrobial (PAWS) Wipes'\n",
    "    elif category_temp in ['DS', 'DSS']:\n",
    "        orders_df['FullItemList'].iloc[i] = 'Disinfecting Solution'\n",
    "    elif category_temp in ['IA']:\n",
    "        orders_df['FullItemList'].iloc[i] = 'Isopropyl Alcohol'\n",
    "    elif ((category_temp.find('Gloves') != -1) and (orders_df['Description'].iloc[i].find('exam') != -1)):\n",
    "        orders_df['FullItemList'].iloc[i] = 'Nitrile Gloves (Public Safety)'\n",
    "    elif ((category_temp.find('Gloves') != -1) and (orders_df['Description'].iloc[i].find('exam') == -1)):\n",
    "        orders_df['FullItemList'].iloc[i] = 'Nitrile Gloves (General Use)'\n",
    "    elif category_temp in ['CMask']:\n",
    "        orders_df['FullItemList'].iloc[i] = 'Masks (Cloth)'\n",
    "    elif category_temp in ['Therm']:\n",
    "        orders_df['FullItemList'].iloc[i] = 'Thermometer'\n",
    "    elif (category_temp.find('Tyvek') != -1):\n",
    "        if (category_temp.find('NH') != -1):\n",
    "            orders_df['FullItemList'].iloc[i] = 'Tyvek Suits'\n",
    "        else:\n",
    "            orders_df['FullItemList'].iloc[i] = 'Tyvek Suits w/hoods'\n",
    "    elif category_temp in ['Gowns']:\n",
    "        orders_df['FullItemList'].iloc[i] = 'Surgical Gowns'\n",
    "    elif category_temp in ['HS Refill Bags']:\n",
    "        orders_df['FullItemList'].iloc[i] = 'Purell (1200 ml stand refill)'\n",
    "    elif (category_temp.find('Toilet') != -1):\n",
    "        orders_df['FullItemList'].iloc[i] = 'Toilet Paper'\n",
    "    else:\n",
    "        orders_df['FullItemList'].iloc[i] = 'NA'\n",
    "        \n",
    "orders_df = orders_df[orders_df['FullItemList'] != 'NA']"
   ]
  },
  {
   "cell_type": "code",
   "execution_count": null,
   "metadata": {},
   "outputs": [],
   "source": [
    "#delay time df\n",
    "delay_time_df = orders_df[['FullItemList', 'Date', 'EstimatedDeliveryDate']]\n",
    "\n",
    "#clean to only include df with estimated/realized delay times\n",
    "delay_time_df = delay_time_df[delay_time_df['EstimatedDeliveryDate'] != 'TBD']\n",
    "delay_time_df = delay_time_df[delay_time_df['EstimatedDeliveryDate'].notnull()]\n",
    "delay_time_df['Date'] = pd.to_datetime(delay_time_df['Date'])\n",
    "delay_time_df['EstimatedDeliveryDate'] = (delay_time_df['EstimatedDeliveryDate']).astype(str)\n",
    "delay_time_df['filter'] = delay_time_df['EstimatedDeliveryDate'].str.contains('-') #to filter out other misc errors\n",
    "delay_time_df = delay_time_df[delay_time_df['filter'] == True]\n",
    "delay_time_df['EstimatedDeliveryDate'] = pd.to_datetime(delay_time_df['EstimatedDeliveryDate'])\n",
    "delay_time_df['delay_time'] = delay_time_df['EstimatedDeliveryDate'] - delay_time_df['Date']\n",
    "\n",
    "#merge with items df\n",
    "delay_time_df = delay_time_df.merge(items_df, on = 'FullItemList', how='left')"
   ]
  },
  {
   "cell_type": "code",
   "execution_count": null,
   "metadata": {},
   "outputs": [],
   "source": [
    "#generate f_k_i_tdiff distributions\n",
    "\n",
    "#start with masks\n",
    "delay_time_df_masks_dist = delay_time_df[delay_time_df['ItemType'] == 'Masks']\n",
    "delay_time_df_masks_dist = delay_time_df_masks_dist[['ItemListID', \n",
    "                                                     'FullItemList', 'delay_time', \n",
    "                                                     'filter']]"
   ]
  },
  {
   "cell_type": "code",
   "execution_count": null,
   "metadata": {},
   "outputs": [],
   "source": [
    "#start with masks\n",
    "delay_time_df_masks_dist = \\\n",
    "delay_time_df_masks_dist.groupby(['ItemListID', \n",
    "                                  'FullItemList', \n",
    "                                  'delay_time']).agg({'filter': 'count'}).reset_index()\n",
    "\n",
    "delay_time_df_masks_dist_temp = \\\n",
    "delay_time_df_masks_dist[['ItemListID', 'filter']].groupby(['ItemListID']).agg({'filter': 'sum'}).reset_index()\n",
    "\n",
    "delay_time_df_masks_dist = delay_time_df_masks_dist.merge(delay_time_df_masks_dist_temp, \n",
    "                                                         on = 'ItemListID',\n",
    "                                                         how = 'left')\n",
    "\n",
    "delay_time_df_masks_dist['probability'] = \\\n",
    "delay_time_df_masks_dist['filter_x']/delay_time_df_masks_dist['filter_y']\n",
    "\n",
    "delay_time_df_masks_dist = delay_time_df_masks_dist[['ItemListID', 'FullItemList', 'delay_time', 'probability']]\n",
    "\n",
    "for s in set(delay_time_df_masks_dist['FullItemList']):\n",
    "    temp_df = \\\n",
    "    delay_time_df_masks_dist[delay_time_df_masks_dist['FullItemList'] == s]\n",
    "    delay_time = (temp_df['delay_time']).astype(str)\n",
    "    #print(delay_time)\n",
    "    delay_time = delay_time.str.replace(' 00:00:00.000000000', '')\n",
    "    delay_time = delay_time.str.replace(' days', '')\n",
    "    delay_time = delay_time.astype(np.float)\n",
    "    delay_time = [math.floor(x /7) for x in delay_time]\n",
    "    probability = temp_df['probability']\n",
    "    plot.bar(delay_time, probability, color='green')\n",
    "    plot.xlabel(\"delay time (in weeks)\")\n",
    "    plot.ylabel(\"probability\")\n",
    "    plot.title(\"Delay Probability Distribution for \" + s)\n",
    "    plot.show()"
   ]
  },
  {
   "cell_type": "code",
   "execution_count": null,
   "metadata": {},
   "outputs": [],
   "source": []
  }
 ],
 "metadata": {
  "kernelspec": {
   "display_name": "Python 3",
   "language": "python",
   "name": "python3"
  },
  "language_info": {
   "codemirror_mode": {
    "name": "ipython",
    "version": 3
   },
   "file_extension": ".py",
   "mimetype": "text/x-python",
   "name": "python",
   "nbconvert_exporter": "python",
   "pygments_lexer": "ipython3",
   "version": "3.7.3"
  }
 },
 "nbformat": 4,
 "nbformat_minor": 4
}
