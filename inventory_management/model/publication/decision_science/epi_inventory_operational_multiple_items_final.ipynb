{
 "cells": [
  {
   "cell_type": "code",
   "execution_count": 1,
   "metadata": {},
   "outputs": [],
   "source": [
    "import numpy as np\n",
    "import pandas as pd\n",
    "import random as r\n",
    "import math\n",
    "import os\n",
    "from datetime import timedelta\n",
    "import statistics as stats \n",
    "\n",
    "import matplotlib.pyplot as plot\n",
    "import networkx as nx\n",
    "import seaborn as sns\n",
    "import matplotlib.ticker as mtick\n",
    "\n",
    "from pyomo.environ import *\n",
    "from pyomo.opt import SolverFactory\n",
    "from gurobipy import GRB"
   ]
  },
  {
   "cell_type": "raw",
   "metadata": {},
   "source": [
    "#id directories\n",
    "data_dir = os.getcwd().replace('/model', '/data')\n",
    "results_dir = os.getcwd().replace('/model', '/results')"
   ]
  },
  {
   "cell_type": "code",
   "execution_count": 2,
   "metadata": {},
   "outputs": [],
   "source": [
    "K_set = 3\n",
    "T_set = 10\n",
    "I_set = 4 #note there are actually 12 Supplier_SKUS but for ease I just say 4, \n",
    "#because in this example item types are supplied by the same suppliers\n",
    "#supplier_SKU_set = 12"
   ]
  },
  {
   "cell_type": "code",
   "execution_count": 3,
   "metadata": {},
   "outputs": [],
   "source": [
    "dem_dictionary_k = {1: [40000, 80000, 50000],\n",
    "                    2: [40000, 80000, 50000],\n",
    "                    3: [40000, 80000, 50000]\n",
    "}\n",
    "\n",
    "#define supply attributes\n",
    "#capacity\n",
    "cap_dictionary_supplier_SKU = {1: [9000,11000,10000], #min, max, likely, a,b,c\n",
    "                     2: [10000,20000,15000], \n",
    "                     3: [13000,20000,17000],\n",
    "                     4: [40000,100000,60000]}\n",
    "\n",
    "\n",
    "#lead-time\n",
    "lead_time_dictionary_supplier_SKU = {1: [3,5,4], #min, max, likely, a,b,c\n",
    "                     2: [1,3,2], \n",
    "                     3: [3,5,4],\n",
    "                     4: [0,2,0]}\n",
    "\n",
    "#dynamic adj\n",
    "dynamic_adj_dem = [0.5, 0.55, 0.6, 1, 1.1, 1.5, 1.6, 1.2, 1.1, 0.85]\n",
    "dynamic_adj_supply = np.zeros(T_set)\n",
    "for t in range(1, T_set+1):\n",
    "    if dynamic_adj_dem[t-1] < 1:\n",
    "        dynamic_adj_supply[t-1] = 1+(1-dynamic_adj_dem[t-1])\n",
    "    else:\n",
    "        dynamic_adj_supply[t-1] = 2-dynamic_adj_dem[t-1]\n",
    "\n",
    "budget = 500000*K_set\n",
    "warehouse_cap_level = 1.5*K_set #time intervals of expected supply needed that can be stored\n",
    "reliability_level = .75\n",
    "dynamic = True\n",
    "\n",
    "#supplier-SKU names\n",
    "#names_supplier_SKU = ['Supplier 1 - SKU: N95-MG', 'Supplier 1 - SKU: N95-N', \n",
    "# 'Supplier 2 - SKU: SUR-MG', 'Supplier 2 - SKU: SUR-N']"
   ]
  },
  {
   "cell_type": "code",
   "execution_count": 4,
   "metadata": {},
   "outputs": [],
   "source": [
    "def triangular_dist_demand(a,b,c,prob):\n",
    "    if prob <= (c-a)/(b-a):\n",
    "        return(a+((((prob)*(b-a)*(c-a)))**(1/2)))\n",
    "    else:\n",
    "        return(b-(((1-prob)*(b-a)*(b-c))**(1/2)))"
   ]
  },
  {
   "cell_type": "code",
   "execution_count": 5,
   "metadata": {},
   "outputs": [],
   "source": [
    "def triangular_dist_supply(a,b,c,prob):\n",
    "    if 1-prob <= (c-a)/(b-a):\n",
    "        return(a+((((1-prob)*(b-a)*(c-a)))**(1/2)))\n",
    "    else:\n",
    "        return(b-(((prob)*(b-a)*(b-c))**(1/2)))"
   ]
  },
  {
   "cell_type": "code",
   "execution_count": 6,
   "metadata": {},
   "outputs": [],
   "source": [
    "def lead_time_dist(a,b,c):\n",
    "    lead_time_dist_array = np.zeros(T_set+1)\n",
    "    cum_prob = 0\n",
    "    t = 0\n",
    "    \n",
    "    while t < b+1:\n",
    "        if t+1 <= a:\n",
    "            t = t+1 \n",
    "        elif (a < t+1 & t+1 <= c):\n",
    "            cum_prob_temp = ((t+1-a)**2)/((b+1-a)*(c-a))\n",
    "            prob = cum_prob_temp - cum_prob\n",
    "            lead_time_dist_array[t] = prob\n",
    "            cum_prob = cum_prob_temp\n",
    "            t = t+1\n",
    "        elif c < t+1 & t+1 <= b+1:\n",
    "            cum_prob_temp = 1-((b+1-(t+1))**2)/((b+1-a)*(b+1-c))\n",
    "            prob = cum_prob_temp - cum_prob\n",
    "            lead_time_dist_array[t] = prob\n",
    "            cum_prob = cum_prob_temp\n",
    "            t = t+1\n",
    "    \n",
    "    return(lead_time_dist_array)"
   ]
  },
  {
   "cell_type": "code",
   "execution_count": 7,
   "metadata": {},
   "outputs": [],
   "source": [
    "#define parameters\n",
    "\n",
    "###health care commodity metric parameters####\n",
    "#rank\n",
    "r_k_dict = {\n",
    "    1 : 1,\n",
    "    2 : 2,\n",
    "    3 : 3\n",
    "}\n",
    "\n",
    "#quality \n",
    "q_k_i_dict = {}\n",
    "\n",
    "\n",
    "for k in range(1,K_set+1):\n",
    "    for i in range(1, I_set+1):\n",
    "        if i == 1:\n",
    "            q_k_i_dict[tuple([k,i])] = 1.3\n",
    "        elif i == 2:\n",
    "            q_k_i_dict[tuple([k,i])] = 1.2\n",
    "        elif i == 3:\n",
    "            q_k_i_dict[tuple([k,i])] = 1.2\n",
    "        else:\n",
    "            q_k_i_dict[tuple([k,i])] = 1.1\n",
    "\n",
    "\n",
    "####Supply Parameters#####\n",
    "\n",
    "#lead time (supplier 3 has the lowest lead time)\n",
    "f_k_i_tDiff_dict = {}\n",
    "\n",
    "for k in range(1,K_set+1):\n",
    "    for i in range(1,I_set+1):\n",
    "        lead_time_dist_array = lead_time_dist(lead_time_dictionary_supplier_SKU.get(i)[0],\n",
    "                                              lead_time_dictionary_supplier_SKU.get(i)[1],\n",
    "                                              lead_time_dictionary_supplier_SKU.get(i)[2])\n",
    "        for t in range(0,T_set+1):\n",
    "            f_k_i_tDiff_dict[tuple([k,i,t])] = lead_time_dist_array[t]\n",
    "\n",
    "\n",
    "#incoming orders\n",
    "o_k_i_t_dict = {}\n",
    "\n",
    "for k in range(1,K_set+1):\n",
    "    for i in range(1,I_set+1): \n",
    "        for t in range(1,T_set+1):\n",
    "            if t <= 2:\n",
    "                o_k_i_t_dict[tuple([k,i,t])] = 0 #20000/4 #5000\n",
    "            else:\n",
    "                o_k_i_t_dict[tuple([k,i,t])] = 0\n",
    "\n",
    "\n",
    "\n",
    "#lead time (supplier 1 has the higest capacity)\n",
    "CAP_k_i_t_dict = {}\n",
    "\n",
    "for k in range(1,K_set+1):\n",
    "    for i in range(1,I_set+1): \n",
    "        cap_temp = triangular_dist_supply(cap_dictionary_supplier_SKU.get(i)[0],\n",
    "                                          cap_dictionary_supplier_SKU.get(i)[1],\n",
    "                                          cap_dictionary_supplier_SKU.get(i)[2],\n",
    "                                          reliability_level)\n",
    "        if (dynamic == True):\n",
    "            for t in range(1,T_set+1):\n",
    "                cap_temp_2 = cap_temp*dynamic_adj_supply[t-1]\n",
    "                CAP_k_i_t_dict[tuple([k,i,t])] = cap_temp_2\n",
    "        else:\n",
    "            for t in range(1,T_set+1):\n",
    "                CAP_k_i_t_dict[tuple([k,i,t])] = cap_temp\n",
    "\n",
    "####Demand Parameters####\n",
    "n_k_init_dict = {\n",
    "    1 : 0,\n",
    "    2 : 0,\n",
    "    3 : 0\n",
    "}\n",
    "\n",
    "\n",
    "#demand RV\n",
    "D_k_t_dict = {}\n",
    "for k in range (1, K_set+1):\n",
    "    demand_temp = triangular_dist_demand(dem_dictionary_k.get(k)[0],\n",
    "                                         dem_dictionary_k.get(k)[1],\n",
    "                                         dem_dictionary_k.get(k)[2],\n",
    "                                         reliability_level)\n",
    "    if (dynamic == True):\n",
    "        for t in range(1,T_set+1):\n",
    "            demand_temp_2 =demand_temp*dynamic_adj_dem[t-1]\n",
    "            D_k_t_dict[tuple([k,t])] = demand_temp_2\n",
    "    else:\n",
    "        for t in range(1,T_set+1):\n",
    "            D_k_t_dict[tuple([k,t])] = demand_temp\n",
    "\n",
    "\n",
    "#starting inventory\n",
    "z_k_i_init_dict = {}\n",
    "\n",
    "for k in range(1,K_set+1):\n",
    "    for i in range(1,I_set+1):\n",
    "        z_k_i_init_dict[tuple([k,i])] = 80000/4\n",
    "\n",
    "#size\n",
    "s_k_dict = {\n",
    "    1 : 1,\n",
    "    2 : 1,\n",
    "    3 : 1\n",
    "}\n",
    "\n",
    "#warehouse capacity\n",
    "h = 80000*warehouse_cap_level \n",
    "\n",
    "#cost\n",
    "c_k_i_dict = {}\n",
    "\n",
    "for i in range(1,I_set+1):\n",
    "    for k in range(1,K_set+1):\n",
    "        if i == 1:\n",
    "            c_k_i_dict[tuple([k,i])] = 2\n",
    "        elif i == 2:\n",
    "            c_k_i_dict[tuple([k,i])] = 1.5\n",
    "        elif i == 3:\n",
    "            c_k_i_dict[tuple([k,i])] = 1\n",
    "        else:\n",
    "            c_k_i_dict[tuple([k,i])] = .8\n",
    "\n",
    "b = budget"
   ]
  },
  {
   "cell_type": "code",
   "execution_count": 8,
   "metadata": {},
   "outputs": [],
   "source": [
    "model = ConcreteModel()\n",
    "\n",
    "#####define sets#######\n",
    "model.K = Set(initialize = range(1,K_set+1))\n",
    "model.I = Set(initialize = range(1,I_set+1))\n",
    "model.T = Set(initialize = range(1,T_set+1))\n",
    "model.T_0 = Set(initialize = range(0,T_set+1))\n",
    "\n",
    "####initialize parameters####\n",
    "\n",
    "def rank_param_initialize(model, k):\n",
    "    return(r_k_dict.get(k))\n",
    "\n",
    "model.r_k = Param(model.K, initialize = rank_param_initialize)\n",
    "\n",
    "def discount_param_initialize(model, k, t):\n",
    "    discount_temp = 1/model.r_k[k]\n",
    "    return(1/((1+discount_temp)**(t)))\n",
    "\n",
    "model.tau_k_t = Param(model.K, model.T_0, initialize = discount_param_initialize)\n",
    "\n",
    "#model.tau_k_t.pprint()\n",
    "\n",
    "def essentiality_param_initialize(model, k):\n",
    "    return(1/model.tau_k_t[k, T_set])\n",
    "    \n",
    "model.e_k = Param(model.K, initialize = essentiality_param_initialize)\n",
    "\n",
    "def quality_param_initialize(model, k, i):\n",
    "    return(q_k_i_dict.get(tuple([k,i])))\n",
    "\n",
    "model.q_k_i = Param(model.K, model.I, initialize = quality_param_initialize)\n",
    "\n",
    "#model.q_k_i.pprint()\n",
    "\n",
    "def delay_dist_param_initialize(model, k, i, t):\n",
    "    return(f_k_i_tDiff_dict.get(tuple([k,i,t])))\n",
    "\n",
    "model.f_k_i_tDiff = Param(model.K, model.I, model.T_0, \n",
    "                          initialize = delay_dist_param_initialize)\n",
    "\n",
    "#model.f_k_i_tDiff.pprint()\n",
    "\n",
    "def incoming_orders_initialize(model, k, i, t):\n",
    "    return(o_k_i_t_dict.get(tuple([k,i,t])))\n",
    "\n",
    "model.o_k_i_t = Param(model.K, model.I, model.T, initialize = incoming_orders_initialize)\n",
    "\n",
    "#model.o_k_i_t.pprint()\n",
    "\n",
    "def supplier_cap_param_initialize(model, k, i, t):\n",
    "    return(CAP_k_i_t_dict.get(tuple([k,i,t])))\n",
    "\n",
    "model.cap_k_i_t = Param(model.K, model.I, model.T, initialize = supplier_cap_param_initialize)\n",
    "\n",
    "#model.cap_k_i_t.pprint()\n",
    "\n",
    "def unfulfilled_demand_param_initialize(model, k):\n",
    "    return(n_k_init_dict.get(k))\n",
    "\n",
    "model.n_k_intialize = Param(model.K, initialize = unfulfilled_demand_param_initialize)\n",
    "\n",
    "#model.n_k_intialize.pprint()\n",
    "\n",
    "#assume preparing for one sd above the mean\n",
    "def demand_param_initialize(model, k, t):\n",
    "    return(D_k_t_dict.get(tuple([k,t])))\n",
    "\n",
    "model.d_k_t = Param(model.K, model.T, initialize = demand_param_initialize)\n",
    "\n",
    "#model.d_k_t.pprint()\n",
    "\n",
    "def beg_inv_param_initialize(model, k, i):\n",
    "    return(z_k_i_init_dict.get(tuple([k,i])))\n",
    "\n",
    "model.z_k_i_init = Param(model.K, model.I, initialize = beg_inv_param_initialize)\n",
    "\n",
    "#model.z_k_i_init.pprint()\n",
    "\n",
    "def item_size_param_initialize(model, k):\n",
    "    return(s_k_dict.get(k))\n",
    "\n",
    "model.s_k = Param(model.K, initialize = item_size_param_initialize)\n",
    "\n",
    "#model.s_k.pprint()\n",
    "\n",
    "def warehouse_cap_param_initialize(model):\n",
    "    return(h)\n",
    "\n",
    "model.h = Param(initialize = h)\n",
    "\n",
    "#model.h.pprint()\n",
    "\n",
    "def cost_param_initialize(model, k, i):\n",
    "    return(c_k_i_dict.get(tuple([k,i])))\n",
    "\n",
    "model.c_k_i = Param(model.K, model.I, initialize = cost_param_initialize)\n",
    "\n",
    "#model.c_k_i.pprint()\n",
    "\n",
    "def budget_param_initialize(model):\n",
    "    return(b)\n",
    "\n",
    "model.b = Param(initialize = budget_param_initialize)\n",
    "\n",
    "#model.b.pprint()\n",
    "\n",
    "####initialize variables####\n",
    "model.x_k_i_t = Var(model.K, model.I, model.T, within = NonNegativeReals) #amount ordered\n",
    "model.y_k_i_t = Var(model.K, model.I, model.T, within = NonNegativeReals) #amount recieved\n",
    "model.z_k_i_t = Var(model.K, model.I, model.T, within = NonNegativeReals)\n",
    "model.n_k_t = Var(model.K, model.T, model.T_0, within = NonNegativeReals)\n",
    "model.m_k_i_t = Var(model.K, model.I, model.T, model.T_0, within = NonNegativeReals)"
   ]
  },
  {
   "cell_type": "code",
   "execution_count": 9,
   "metadata": {},
   "outputs": [],
   "source": [
    "#def initialize_objective(model):\n",
    "model.Objective = Objective(expr = \n",
    "                            (sum(model.e_k[k]*model.q_k_i[k,i]*sum(model.tau_k_t[k,t-1]*model.m_k_i_t[k,i,t, t_req] \n",
    "                                                      for t in model.T for t_req in range(0,t+1)) \n",
    "                                 for i in model.I for k in model.K)),\n",
    "                            sense = maximize)"
   ]
  },
  {
   "cell_type": "code",
   "execution_count": 10,
   "metadata": {},
   "outputs": [],
   "source": [
    "def incoming_orders_constraint_initialize(model, k, i, t):\n",
    "    return(model.y_k_i_t[k,i,t] - \n",
    "           sum(model.f_k_i_tDiff[k, i, t-t_ordered_time]*model.x_k_i_t[k,i,t_ordered_time] \n",
    "               for t_ordered_time in range(1,t+1)) - model.o_k_i_t[k,i,t] == 0)\n",
    "\n",
    "model.incoming_ordered_constraint = Constraint(model.K, model.I, model.T, \n",
    "                                               rule = incoming_orders_constraint_initialize)"
   ]
  },
  {
   "cell_type": "code",
   "execution_count": 11,
   "metadata": {},
   "outputs": [],
   "source": [
    "def supplier_constraint_initialize(model, k, i, t):\n",
    "    return(model.x_k_i_t[k,i,t] <= model.cap_k_i_t[k,i,t])\n",
    "\n",
    "model.supplier_constraint = \\\n",
    "Constraint(model.K, model.I, model.T, rule = supplier_constraint_initialize)"
   ]
  },
  {
   "cell_type": "code",
   "execution_count": 12,
   "metadata": {},
   "outputs": [],
   "source": [
    "def initalize_unsatisfied_demand_constraint_initialize(model, k):\n",
    "    return(model.n_k_t[k,1,0] == model.n_k_intialize[k])\n",
    "\n",
    "model.initalize_unsatisfied_demand_constraint= \\\n",
    "Constraint(model.K, rule = initalize_unsatisfied_demand_constraint_initialize)"
   ]
  },
  {
   "cell_type": "code",
   "execution_count": 13,
   "metadata": {},
   "outputs": [],
   "source": [
    "def calculate_unsatisfied_demand_constraint_initialize(model,k,t, t_req):\n",
    "    if (t == t_req):\n",
    "        return(model.n_k_t[k,t,t_req] == model.d_k_t[k,t] - \\\n",
    "               sum(model.m_k_i_t[k,i,t,t_req] for i in model.I))\n",
    "    elif (t_req < t & t > 1):\n",
    "        return(model.n_k_t[k,t,t_req] == model.n_k_t[k,t-1,t_req] -\\\n",
    "               sum(model.m_k_i_t[k,i,t,t_req] for i in model.I))\n",
    "    else:\n",
    "        return(Constraint.Skip)\n",
    "\n",
    "model.calculate_unsatisfied_demand_constraint = \\\n",
    "Constraint(model.K, model.T, model.T_0, rule = calculate_unsatisfied_demand_constraint_initialize)"
   ]
  },
  {
   "cell_type": "code",
   "execution_count": 14,
   "metadata": {},
   "outputs": [],
   "source": [
    "def beggining_inventory_constraint_initialize(model, k, i):\n",
    "    return(model.z_k_i_t[k,i,1] == model.z_k_i_init[k,i])\n",
    "    \n",
    "model.beggining_inventory_constraint = Constraint(model.K, model.I, \n",
    "                                                  rule = beggining_inventory_constraint_initialize)"
   ]
  },
  {
   "cell_type": "code",
   "execution_count": 15,
   "metadata": {},
   "outputs": [],
   "source": [
    "def calculate_available_inventory_constraint_initialize(model, k, i, t):\n",
    "    if (t > 1):\n",
    "        return(model.z_k_i_t[k,i,t] - model.z_k_i_t[k,i,t-1] - model.y_k_i_t[k,i,t-1] + \n",
    "               sum(model.m_k_i_t[k,i,t-1, t_hat] for t_hat in model.T_0) == 0)\n",
    "    else:\n",
    "        return(Constraint.Skip)\n",
    "    \n",
    "model.calculate_available_inventory_constraint = Constraint(model.K, model.I, model.T,\n",
    "                                                            rule = \n",
    "                                                            calculate_available_inventory_constraint_initialize)"
   ]
  },
  {
   "cell_type": "code",
   "execution_count": 16,
   "metadata": {},
   "outputs": [],
   "source": [
    "def cannot_fulfill_more_than_available_constraint_initialize(model, k,i,t):\n",
    "    return(sum(model.m_k_i_t[k,i,t, t_hat] for t_hat in model.T_0) - model.z_k_i_t[k,i,t] <= 0)\n",
    "\n",
    "model.cannot_fulfill_more_than_available_constraint = \\\n",
    "Constraint(model.K, model.I, model.T, rule = cannot_fulfill_more_than_available_constraint_initialize)"
   ]
  },
  {
   "cell_type": "code",
   "execution_count": 17,
   "metadata": {},
   "outputs": [],
   "source": [
    "def warehouse_capacity_constraint_initialize(model, t):\n",
    "    return(sum(model.s_k[k]*model.z_k_i_t[k,i,t] for k in model.K for i in model.I) <= model.h)\n",
    "\n",
    "model.warehouse_capacity_constraint = \\\n",
    "Constraint(model.T, rule = warehouse_capacity_constraint_initialize)"
   ]
  },
  {
   "cell_type": "code",
   "execution_count": 18,
   "metadata": {},
   "outputs": [],
   "source": [
    "def budget_constraint_initialize(model):\n",
    "    return(sum(model.c_k_i[k,i]*model.x_k_i_t[k,i,t] \n",
    "               for k in model.K for i in model.I for t in model.T) \n",
    "           <= model.b)\n",
    "\n",
    "model.budget_constraint = \\\n",
    "Constraint(rule = budget_constraint_initialize)"
   ]
  },
  {
   "cell_type": "code",
   "execution_count": 19,
   "metadata": {},
   "outputs": [
    {
     "name": "stdout",
     "output_type": "stream",
     "text": [
      "Using license file /Users/chelseagreene/gurobi.lic\n",
      "Academic license - for non-commercial use only - expires 2021-02-20\n"
     ]
    },
    {
     "data": {
      "text/plain": [
       "{'Problem': [{'Name': 'unknown', 'Lower bound': 179439347.060761, 'Upper bound': 179439347.060761, 'Number of objectives': 1, 'Number of constraints': 686, 'Number of variables': 2010, 'Number of binary variables': 0, 'Number of integer variables': 0, 'Number of continuous variables': 2010, 'Number of nonzeros': 4830, 'Sense': -1, 'Number of solutions': 1}], 'Solver': [{'Name': 'Gurobi 9.10', 'Status': 'ok', 'Wallclock time': 0.004578828811645508, 'Termination condition': 'optimal', 'Termination message': 'Model was solved to optimality (subject to tolerances), and an optimal solution is available.'}], 'Solution': [OrderedDict([('number of solutions', 0), ('number of solutions displayed', 0)])]}"
      ]
     },
     "execution_count": 19,
     "metadata": {},
     "output_type": "execute_result"
    }
   ],
   "source": [
    "opt = SolverFactory('gurobi_persistent')\n",
    "opt.set_instance(model)\n",
    "opt.solve(model)"
   ]
  },
  {
   "cell_type": "code",
   "execution_count": 20,
   "metadata": {},
   "outputs": [],
   "source": [
    "#extract ordering df\n",
    "ordered_df = pd.DataFrame(list(model.x_k_i_t.extract_values().items()),columns = ['sets','units_to_order'])\n",
    "ordered_df.loc[:,'item_type']=ordered_df.sets.map(lambda x:x[0])\n",
    "ordered_df.loc[:,'supplier']=ordered_df.sets.map(lambda x:x[1])\n",
    "ordered_df.loc[:,'time_interval']=ordered_df.sets.map(lambda x:x[2])"
   ]
  },
  {
   "cell_type": "code",
   "execution_count": 21,
   "metadata": {},
   "outputs": [],
   "source": [
    "#extract expected arrivals df\n",
    "recieved_df = pd.DataFrame(list(model.y_k_i_t.extract_values().items()),columns = ['sets','expected_units_recieved'])\n",
    "recieved_df.loc[:,'item_type']=recieved_df.sets.map(lambda x:x[0])\n",
    "recieved_df.loc[:,'supplier']=recieved_df.sets.map(lambda x:x[1])\n",
    "recieved_df.loc[:,'time_interval']=recieved_df.sets.map(lambda x:x[2])"
   ]
  },
  {
   "cell_type": "code",
   "execution_count": 22,
   "metadata": {},
   "outputs": [],
   "source": [
    "#extract expected fulfilled df\n",
    "fulfilled_df = pd.DataFrame(list(model.m_k_i_t.extract_values().items()),columns = ['sets','units_fulfilled'])\n",
    "fulfilled_df.loc[:,'item_type']=fulfilled_df.sets.map(lambda x:x[0])\n",
    "fulfilled_df.loc[:,'supplier']=fulfilled_df.sets.map(lambda x:x[1])\n",
    "fulfilled_df.loc[:,'time_interval']=fulfilled_df.sets.map(lambda x:x[2])\n",
    "fulfilled_df.loc[:,'time_interval_req']=fulfilled_df.sets.map(lambda x:x[3])\n",
    "fulfilled_df['delay'] = fulfilled_df['time_interval'] - fulfilled_df['time_interval_req']"
   ]
  },
  {
   "cell_type": "code",
   "execution_count": 23,
   "metadata": {},
   "outputs": [],
   "source": [
    "#extract expected available df\n",
    "available_df = pd.DataFrame(list(model.z_k_i_t.extract_values().items()),columns = ['sets','units_available'])\n",
    "available_df.loc[:,'item_type']=available_df.sets.map(lambda x:x[0])\n",
    "available_df.loc[:,'supplier']=available_df.sets.map(lambda x:x[1])\n",
    "available_df.loc[:,'time_interval']=available_df.sets.map(lambda x:x[2])"
   ]
  },
  {
   "cell_type": "code",
   "execution_count": 24,
   "metadata": {},
   "outputs": [],
   "source": [
    "#extract expected unsatisfied df\n",
    "unsatisfied_df = pd.DataFrame(list(model.n_k_t.extract_values().items()),columns = ['sets','units_unsatisfied'])\n",
    "unsatisfied_df.loc[:,'item_type']=unsatisfied_df.sets.map(lambda x:x[0])\n",
    "unsatisfied_df.loc[:,'time_interval']=unsatisfied_df.sets.map(lambda x:x[1])"
   ]
  },
  {
   "cell_type": "code",
   "execution_count": 25,
   "metadata": {},
   "outputs": [],
   "source": [
    "demand_df = pd.DataFrame(list(model.d_k_t.extract_values().items()), columns = ['sets', 'demand_in_units'])\n",
    "demand_df.loc[:,'item_type']=demand_df.sets.map(lambda x:x[0])\n",
    "demand_df.loc[:,'time_interval']=demand_df.sets.map(lambda x:x[1])"
   ]
  },
  {
   "cell_type": "code",
   "execution_count": 26,
   "metadata": {},
   "outputs": [],
   "source": [
    "ordered_and_recieved_df = ordered_df[['item_type', 'supplier', 'time_interval', 'sets']]\n",
    "ordered_and_recieved_df = ordered_and_recieved_df.merge(recieved_df[['sets', 'expected_units_recieved']],\n",
    "                                                        on='sets', how='left')\n",
    "ordered_and_recieved_df = ordered_and_recieved_df.merge(ordered_df[['sets', 'units_to_order']],\n",
    "                                                        on='sets', how='left')\n",
    "\n",
    "ordered_and_recieved_df = ordered_and_recieved_df[['item_type', 'supplier', \n",
    "                                                   'time_interval','units_to_order', \n",
    "                                                   'expected_units_recieved']]\n",
    "\n",
    "ordered_and_recieved_df['units_to_order'] = (round(ordered_and_recieved_df['units_to_order'])).astype(int)\n",
    "ordered_and_recieved_df['expected_units_recieved'] = (round(ordered_and_recieved_df['expected_units_recieved'])).astype(int)"
   ]
  },
  {
   "cell_type": "code",
   "execution_count": 27,
   "metadata": {},
   "outputs": [],
   "source": [
    "#os.chdir(results_dir)\n",
    "ordered_and_recieved_df.to_csv('ordering_and_recieving_schedule.csv')\n",
    "\n",
    "recieved_df.to_csv('recieving_schedule.csv')\n",
    "ordered_df.to_csv('ordering_schedule.csv')"
   ]
  },
  {
   "cell_type": "code",
   "execution_count": 28,
   "metadata": {},
   "outputs": [],
   "source": [
    "#for k in range(1,K+1):\n",
    "unsatisfied_temp_df = unsatisfied_df[unsatisfied_df['item_type'] == 1].groupby(['time_interval'])['units_unsatisfied']\\\n",
    ".sum().reset_index()\n",
    "fulfilled_temp_df = fulfilled_df[fulfilled_df['item_type'] == 1].groupby(['time_interval'])[\"units_fulfilled\"]\\\n",
    ".sum().reset_index()\n",
    "available_temp_df = available_df[available_df['item_type'] == 1].groupby(['time_interval'])[\"units_available\"]\\\n",
    ".sum().reset_index()"
   ]
  },
  {
   "cell_type": "code",
   "execution_count": 29,
   "metadata": {},
   "outputs": [],
   "source": [
    "fulfilled_df_item_time = fulfilled_df.groupby(['item_type', \n",
    "                                               'time_interval'])['units_fulfilled'].sum().reset_index()\n",
    "unsatisfied_df_item_time = unsatisfied_df.groupby(['item_type', \n",
    "                                                   'time_interval'])['units_unsatisfied'].sum().reset_index()"
   ]
  },
  {
   "cell_type": "code",
   "execution_count": 30,
   "metadata": {},
   "outputs": [],
   "source": [
    "reliability_df = pd.merge(fulfilled_df_item_time[['item_type', 'time_interval', 'units_fulfilled']], \n",
    "                          unsatisfied_df_item_time[['item_type', 'time_interval', 'units_unsatisfied']], \n",
    "                          how='left', on=['item_type','time_interval'])\n",
    "\n",
    "reliability_df['total_number_of_open_requests'] = reliability_df['units_fulfilled'] +\\\n",
    "reliability_df['units_unsatisfied'] \n",
    "\n",
    "reliability_df['percent_unsatisfied'] = \\\n",
    "reliability_df['units_unsatisfied']/reliability_df['total_number_of_open_requests']"
   ]
  },
  {
   "cell_type": "code",
   "execution_count": 31,
   "metadata": {},
   "outputs": [],
   "source": [
    "budget_limitation_graph = reliability_df.groupby(['item_type'])['percent_unsatisfied'].mean().reset_index()"
   ]
  },
  {
   "cell_type": "code",
   "execution_count": 32,
   "metadata": {},
   "outputs": [],
   "source": [
    "budget_limitation_graph = budget_limitation_graph.append(budget_limitation_graph).reset_index()\n",
    "budget_limitation_graph['Percent Unsatisfied'] = [.0556,.0556,.0556, 0.101870, 0.166491, 0.342247]"
   ]
  },
  {
   "cell_type": "code",
   "execution_count": 33,
   "metadata": {},
   "outputs": [
    {
     "data": {
      "text/html": [
       "<div>\n",
       "<style scoped>\n",
       "    .dataframe tbody tr th:only-of-type {\n",
       "        vertical-align: middle;\n",
       "    }\n",
       "\n",
       "    .dataframe tbody tr th {\n",
       "        vertical-align: top;\n",
       "    }\n",
       "\n",
       "    .dataframe thead th {\n",
       "        text-align: right;\n",
       "    }\n",
       "</style>\n",
       "<table border=\"1\" class=\"dataframe\">\n",
       "  <thead>\n",
       "    <tr style=\"text-align: right;\">\n",
       "      <th></th>\n",
       "      <th>index</th>\n",
       "      <th>item_type</th>\n",
       "      <th>percent_unsatisfied</th>\n",
       "      <th>Percent Unsatisfied</th>\n",
       "    </tr>\n",
       "  </thead>\n",
       "  <tbody>\n",
       "    <tr>\n",
       "      <th>0</th>\n",
       "      <td>0</td>\n",
       "      <td>1</td>\n",
       "      <td>0.101870</td>\n",
       "      <td>0.055600</td>\n",
       "    </tr>\n",
       "    <tr>\n",
       "      <th>1</th>\n",
       "      <td>1</td>\n",
       "      <td>2</td>\n",
       "      <td>0.166491</td>\n",
       "      <td>0.055600</td>\n",
       "    </tr>\n",
       "    <tr>\n",
       "      <th>2</th>\n",
       "      <td>2</td>\n",
       "      <td>3</td>\n",
       "      <td>0.342247</td>\n",
       "      <td>0.055600</td>\n",
       "    </tr>\n",
       "    <tr>\n",
       "      <th>3</th>\n",
       "      <td>0</td>\n",
       "      <td>1</td>\n",
       "      <td>0.101870</td>\n",
       "      <td>0.101870</td>\n",
       "    </tr>\n",
       "    <tr>\n",
       "      <th>4</th>\n",
       "      <td>1</td>\n",
       "      <td>2</td>\n",
       "      <td>0.166491</td>\n",
       "      <td>0.166491</td>\n",
       "    </tr>\n",
       "    <tr>\n",
       "      <th>5</th>\n",
       "      <td>2</td>\n",
       "      <td>3</td>\n",
       "      <td>0.342247</td>\n",
       "      <td>0.342247</td>\n",
       "    </tr>\n",
       "  </tbody>\n",
       "</table>\n",
       "</div>"
      ],
      "text/plain": [
       "   index  item_type  percent_unsatisfied  Percent Unsatisfied\n",
       "0      0          1             0.101870             0.055600\n",
       "1      1          2             0.166491             0.055600\n",
       "2      2          3             0.342247             0.055600\n",
       "3      0          1             0.101870             0.101870\n",
       "4      1          2             0.166491             0.166491\n",
       "5      2          3             0.342247             0.342247"
      ]
     },
     "execution_count": 33,
     "metadata": {},
     "output_type": "execute_result"
    }
   ],
   "source": [
    "budget_limitation_graph"
   ]
  },
  {
   "cell_type": "code",
   "execution_count": 34,
   "metadata": {},
   "outputs": [],
   "source": [
    "os.chdir('/Users/chelseagreene/github/epi_supplychain_optimization/inventory_management/model/publication/example_ouputs')"
   ]
  },
  {
   "cell_type": "code",
   "execution_count": 35,
   "metadata": {},
   "outputs": [
    {
     "ename": "FileNotFoundError",
     "evalue": "[Errno 2] No such file or directory: 'budget_limitation_example.csv'",
     "output_type": "error",
     "traceback": [
      "\u001b[0;31m---------------------------------------------------------------------------\u001b[0m",
      "\u001b[0;31mFileNotFoundError\u001b[0m                         Traceback (most recent call last)",
      "\u001b[0;32m<ipython-input-35-e20944120873>\u001b[0m in \u001b[0;36m<module>\u001b[0;34m\u001b[0m\n\u001b[0;32m----> 1\u001b[0;31m \u001b[0mbudget_limitation_graph\u001b[0m \u001b[0;34m=\u001b[0m \u001b[0mpd\u001b[0m\u001b[0;34m.\u001b[0m\u001b[0mread_csv\u001b[0m\u001b[0;34m(\u001b[0m\u001b[0;34m'budget_limitation_example.csv'\u001b[0m\u001b[0;34m)\u001b[0m\u001b[0;34m\u001b[0m\u001b[0;34m\u001b[0m\u001b[0m\n\u001b[0m\u001b[1;32m      2\u001b[0m \u001b[0mbudget_limitation_graph\u001b[0m \u001b[0;34m=\u001b[0m \u001b[0mbudget_limitation_graph\u001b[0m\u001b[0;34m.\u001b[0m\u001b[0mhead\u001b[0m\u001b[0;34m(\u001b[0m\u001b[0;36m6\u001b[0m\u001b[0;34m)\u001b[0m\u001b[0;34m\u001b[0m\u001b[0;34m\u001b[0m\u001b[0m\n\u001b[1;32m      3\u001b[0m \u001b[0mbudget_limitation_graph\u001b[0m\u001b[0;34m[\u001b[0m\u001b[0;34m'Item Type'\u001b[0m\u001b[0;34m]\u001b[0m \u001b[0;34m=\u001b[0m \u001b[0;34m(\u001b[0m\u001b[0mbudget_limitation_graph\u001b[0m\u001b[0;34m[\u001b[0m\u001b[0;34m'Item Type'\u001b[0m\u001b[0;34m]\u001b[0m\u001b[0;34m)\u001b[0m\u001b[0;34m.\u001b[0m\u001b[0mastype\u001b[0m\u001b[0;34m(\u001b[0m\u001b[0mint\u001b[0m\u001b[0;34m)\u001b[0m\u001b[0;34m\u001b[0m\u001b[0;34m\u001b[0m\u001b[0m\n\u001b[1;32m      4\u001b[0m \u001b[0mbudget_limitation_graph\u001b[0m\u001b[0;34m[\u001b[0m\u001b[0;34m'Essentiality Rank'\u001b[0m\u001b[0;34m]\u001b[0m \u001b[0;34m=\u001b[0m \u001b[0;34m(\u001b[0m\u001b[0mbudget_limitation_graph\u001b[0m\u001b[0;34m[\u001b[0m\u001b[0;34m'Essentiality Rank'\u001b[0m\u001b[0;34m]\u001b[0m\u001b[0;34m)\u001b[0m\u001b[0;34m.\u001b[0m\u001b[0mastype\u001b[0m\u001b[0;34m(\u001b[0m\u001b[0mint\u001b[0m\u001b[0;34m)\u001b[0m\u001b[0;34m\u001b[0m\u001b[0;34m\u001b[0m\u001b[0m\n",
      "\u001b[0;32m~/opt/anaconda3/envs/epi_supplychain_env/lib/python3.8/site-packages/pandas/io/parsers.py\u001b[0m in \u001b[0;36mread_csv\u001b[0;34m(filepath_or_buffer, sep, delimiter, header, names, index_col, usecols, squeeze, prefix, mangle_dupe_cols, dtype, engine, converters, true_values, false_values, skipinitialspace, skiprows, skipfooter, nrows, na_values, keep_default_na, na_filter, verbose, skip_blank_lines, parse_dates, infer_datetime_format, keep_date_col, date_parser, dayfirst, cache_dates, iterator, chunksize, compression, thousands, decimal, lineterminator, quotechar, quoting, doublequote, escapechar, comment, encoding, dialect, error_bad_lines, warn_bad_lines, delim_whitespace, low_memory, memory_map, float_precision)\u001b[0m\n\u001b[1;32m    686\u001b[0m     )\n\u001b[1;32m    687\u001b[0m \u001b[0;34m\u001b[0m\u001b[0m\n\u001b[0;32m--> 688\u001b[0;31m     \u001b[0;32mreturn\u001b[0m \u001b[0m_read\u001b[0m\u001b[0;34m(\u001b[0m\u001b[0mfilepath_or_buffer\u001b[0m\u001b[0;34m,\u001b[0m \u001b[0mkwds\u001b[0m\u001b[0;34m)\u001b[0m\u001b[0;34m\u001b[0m\u001b[0;34m\u001b[0m\u001b[0m\n\u001b[0m\u001b[1;32m    689\u001b[0m \u001b[0;34m\u001b[0m\u001b[0m\n\u001b[1;32m    690\u001b[0m \u001b[0;34m\u001b[0m\u001b[0m\n",
      "\u001b[0;32m~/opt/anaconda3/envs/epi_supplychain_env/lib/python3.8/site-packages/pandas/io/parsers.py\u001b[0m in \u001b[0;36m_read\u001b[0;34m(filepath_or_buffer, kwds)\u001b[0m\n\u001b[1;32m    452\u001b[0m \u001b[0;34m\u001b[0m\u001b[0m\n\u001b[1;32m    453\u001b[0m     \u001b[0;31m# Create the parser.\u001b[0m\u001b[0;34m\u001b[0m\u001b[0;34m\u001b[0m\u001b[0;34m\u001b[0m\u001b[0m\n\u001b[0;32m--> 454\u001b[0;31m     \u001b[0mparser\u001b[0m \u001b[0;34m=\u001b[0m \u001b[0mTextFileReader\u001b[0m\u001b[0;34m(\u001b[0m\u001b[0mfp_or_buf\u001b[0m\u001b[0;34m,\u001b[0m \u001b[0;34m**\u001b[0m\u001b[0mkwds\u001b[0m\u001b[0;34m)\u001b[0m\u001b[0;34m\u001b[0m\u001b[0;34m\u001b[0m\u001b[0m\n\u001b[0m\u001b[1;32m    455\u001b[0m \u001b[0;34m\u001b[0m\u001b[0m\n\u001b[1;32m    456\u001b[0m     \u001b[0;32mif\u001b[0m \u001b[0mchunksize\u001b[0m \u001b[0;32mor\u001b[0m \u001b[0miterator\u001b[0m\u001b[0;34m:\u001b[0m\u001b[0;34m\u001b[0m\u001b[0;34m\u001b[0m\u001b[0m\n",
      "\u001b[0;32m~/opt/anaconda3/envs/epi_supplychain_env/lib/python3.8/site-packages/pandas/io/parsers.py\u001b[0m in \u001b[0;36m__init__\u001b[0;34m(self, f, engine, **kwds)\u001b[0m\n\u001b[1;32m    946\u001b[0m             \u001b[0mself\u001b[0m\u001b[0;34m.\u001b[0m\u001b[0moptions\u001b[0m\u001b[0;34m[\u001b[0m\u001b[0;34m\"has_index_names\"\u001b[0m\u001b[0;34m]\u001b[0m \u001b[0;34m=\u001b[0m \u001b[0mkwds\u001b[0m\u001b[0;34m[\u001b[0m\u001b[0;34m\"has_index_names\"\u001b[0m\u001b[0;34m]\u001b[0m\u001b[0;34m\u001b[0m\u001b[0;34m\u001b[0m\u001b[0m\n\u001b[1;32m    947\u001b[0m \u001b[0;34m\u001b[0m\u001b[0m\n\u001b[0;32m--> 948\u001b[0;31m         \u001b[0mself\u001b[0m\u001b[0;34m.\u001b[0m\u001b[0m_make_engine\u001b[0m\u001b[0;34m(\u001b[0m\u001b[0mself\u001b[0m\u001b[0;34m.\u001b[0m\u001b[0mengine\u001b[0m\u001b[0;34m)\u001b[0m\u001b[0;34m\u001b[0m\u001b[0;34m\u001b[0m\u001b[0m\n\u001b[0m\u001b[1;32m    949\u001b[0m \u001b[0;34m\u001b[0m\u001b[0m\n\u001b[1;32m    950\u001b[0m     \u001b[0;32mdef\u001b[0m \u001b[0mclose\u001b[0m\u001b[0;34m(\u001b[0m\u001b[0mself\u001b[0m\u001b[0;34m)\u001b[0m\u001b[0;34m:\u001b[0m\u001b[0;34m\u001b[0m\u001b[0;34m\u001b[0m\u001b[0m\n",
      "\u001b[0;32m~/opt/anaconda3/envs/epi_supplychain_env/lib/python3.8/site-packages/pandas/io/parsers.py\u001b[0m in \u001b[0;36m_make_engine\u001b[0;34m(self, engine)\u001b[0m\n\u001b[1;32m   1178\u001b[0m     \u001b[0;32mdef\u001b[0m \u001b[0m_make_engine\u001b[0m\u001b[0;34m(\u001b[0m\u001b[0mself\u001b[0m\u001b[0;34m,\u001b[0m \u001b[0mengine\u001b[0m\u001b[0;34m=\u001b[0m\u001b[0;34m\"c\"\u001b[0m\u001b[0;34m)\u001b[0m\u001b[0;34m:\u001b[0m\u001b[0;34m\u001b[0m\u001b[0;34m\u001b[0m\u001b[0m\n\u001b[1;32m   1179\u001b[0m         \u001b[0;32mif\u001b[0m \u001b[0mengine\u001b[0m \u001b[0;34m==\u001b[0m \u001b[0;34m\"c\"\u001b[0m\u001b[0;34m:\u001b[0m\u001b[0;34m\u001b[0m\u001b[0;34m\u001b[0m\u001b[0m\n\u001b[0;32m-> 1180\u001b[0;31m             \u001b[0mself\u001b[0m\u001b[0;34m.\u001b[0m\u001b[0m_engine\u001b[0m \u001b[0;34m=\u001b[0m \u001b[0mCParserWrapper\u001b[0m\u001b[0;34m(\u001b[0m\u001b[0mself\u001b[0m\u001b[0;34m.\u001b[0m\u001b[0mf\u001b[0m\u001b[0;34m,\u001b[0m \u001b[0;34m**\u001b[0m\u001b[0mself\u001b[0m\u001b[0;34m.\u001b[0m\u001b[0moptions\u001b[0m\u001b[0;34m)\u001b[0m\u001b[0;34m\u001b[0m\u001b[0;34m\u001b[0m\u001b[0m\n\u001b[0m\u001b[1;32m   1181\u001b[0m         \u001b[0;32melse\u001b[0m\u001b[0;34m:\u001b[0m\u001b[0;34m\u001b[0m\u001b[0;34m\u001b[0m\u001b[0m\n\u001b[1;32m   1182\u001b[0m             \u001b[0;32mif\u001b[0m \u001b[0mengine\u001b[0m \u001b[0;34m==\u001b[0m \u001b[0;34m\"python\"\u001b[0m\u001b[0;34m:\u001b[0m\u001b[0;34m\u001b[0m\u001b[0;34m\u001b[0m\u001b[0m\n",
      "\u001b[0;32m~/opt/anaconda3/envs/epi_supplychain_env/lib/python3.8/site-packages/pandas/io/parsers.py\u001b[0m in \u001b[0;36m__init__\u001b[0;34m(self, src, **kwds)\u001b[0m\n\u001b[1;32m   2008\u001b[0m         \u001b[0mkwds\u001b[0m\u001b[0;34m[\u001b[0m\u001b[0;34m\"usecols\"\u001b[0m\u001b[0;34m]\u001b[0m \u001b[0;34m=\u001b[0m \u001b[0mself\u001b[0m\u001b[0;34m.\u001b[0m\u001b[0musecols\u001b[0m\u001b[0;34m\u001b[0m\u001b[0;34m\u001b[0m\u001b[0m\n\u001b[1;32m   2009\u001b[0m \u001b[0;34m\u001b[0m\u001b[0m\n\u001b[0;32m-> 2010\u001b[0;31m         \u001b[0mself\u001b[0m\u001b[0;34m.\u001b[0m\u001b[0m_reader\u001b[0m \u001b[0;34m=\u001b[0m \u001b[0mparsers\u001b[0m\u001b[0;34m.\u001b[0m\u001b[0mTextReader\u001b[0m\u001b[0;34m(\u001b[0m\u001b[0msrc\u001b[0m\u001b[0;34m,\u001b[0m \u001b[0;34m**\u001b[0m\u001b[0mkwds\u001b[0m\u001b[0;34m)\u001b[0m\u001b[0;34m\u001b[0m\u001b[0;34m\u001b[0m\u001b[0m\n\u001b[0m\u001b[1;32m   2011\u001b[0m         \u001b[0mself\u001b[0m\u001b[0;34m.\u001b[0m\u001b[0munnamed_cols\u001b[0m \u001b[0;34m=\u001b[0m \u001b[0mself\u001b[0m\u001b[0;34m.\u001b[0m\u001b[0m_reader\u001b[0m\u001b[0;34m.\u001b[0m\u001b[0munnamed_cols\u001b[0m\u001b[0;34m\u001b[0m\u001b[0;34m\u001b[0m\u001b[0m\n\u001b[1;32m   2012\u001b[0m \u001b[0;34m\u001b[0m\u001b[0m\n",
      "\u001b[0;32mpandas/_libs/parsers.pyx\u001b[0m in \u001b[0;36mpandas._libs.parsers.TextReader.__cinit__\u001b[0;34m()\u001b[0m\n",
      "\u001b[0;32mpandas/_libs/parsers.pyx\u001b[0m in \u001b[0;36mpandas._libs.parsers.TextReader._setup_parser_source\u001b[0;34m()\u001b[0m\n",
      "\u001b[0;31mFileNotFoundError\u001b[0m: [Errno 2] No such file or directory: 'budget_limitation_example.csv'"
     ]
    }
   ],
   "source": [
    "budget_limitation_graph = pd.read_csv('budget_limitation_example.csv')\n",
    "budget_limitation_graph = budget_limitation_graph.head(6)\n",
    "budget_limitation_graph['Item Type'] = (budget_limitation_graph['Item Type']).astype(int)\n",
    "budget_limitation_graph['Essentiality Rank'] = (budget_limitation_graph['Essentiality Rank']).astype(int)"
   ]
  },
  {
   "cell_type": "code",
   "execution_count": 36,
   "metadata": {},
   "outputs": [],
   "source": [
    "budget_limitation_graph['Percent Unsatisfied'] = budget_limitation_graph['Percent Unsatisfied']*100"
   ]
  },
  {
   "cell_type": "code",
   "execution_count": 37,
   "metadata": {},
   "outputs": [
    {
     "data": {
      "image/png": "[encoded data removed]",
      "text/plain": [
       "<Figure size 504x288 with 1 Axes>"
      ]
     },
     "metadata": {
      "needs_background": "light"
     },
     "output_type": "display_data"
    }
   ],
   "source": [
    "os.chdir('/Users/chelseagreene/github/epi_supplychain_optimization/inventory_management/model/publication/Final/outputs/3_3_program_expansion')\n",
    "\n",
    "fig, ax = plot.subplots(figsize=(7,4))\n",
    "\n",
    "# set width of bar\n",
    "barWidth = 0.25\n",
    " \n",
    "# set height of bar\n",
    "bars1 = budget_limitation_graph[budget_limitation_graph['item_type'] == 1]['Percent Unsatisfied']\n",
    "bars2 = budget_limitation_graph[budget_limitation_graph['item_type'] == 2]['Percent Unsatisfied']\n",
    "bars3 = budget_limitation_graph[budget_limitation_graph['item_type'] == 3]['Percent Unsatisfied']\n",
    " \n",
    "# Set position of bar on X axis\n",
    "r1 = np.arange(len(bars1))\n",
    "r2 = [x + barWidth for x in r1]\n",
    "r3 = [x + barWidth for x in r2]\n",
    "\n",
    " \n",
    "# Make the plot\n",
    "plot.bar(r1, bars1, color='#03C04A', \n",
    "         width=barWidth, edgecolor='white', label='Masks - Highest (Rank 1)')\n",
    "plot.bar(r2, bars2, color='#028A0F', \n",
    "         width=barWidth, edgecolor='white', label='Gloves - Average (Rank 2)')\n",
    "plot.bar(r3, bars3, color='#354A21', \n",
    "         width=barWidth, edgecolor='white', label='Gowns - Lowest (Rank 3)')\n",
    " \n",
    "# Add xticks on the middle of the group bars\n",
    "plot.xlabel('Budget Limitations', fontsize=13)\n",
    "plot.ylabel('Overall Percent of Unsatisfied Demand', fontsize = 13)\n",
    "plot.xticks([r + barWidth for r in range(len(bars1))], ['Unlimited Budget', 'Limited Budget'], fontsize = 13)\n",
    "ax.yaxis.set_ticks(np.arange(0, 120, 20))\n",
    "\n",
    "ax.yaxis.set_major_formatter(mtick.PercentFormatter())\n",
    "    \n",
    "# Create legend & Show graphic\n",
    "plot.legend(fontsize=13, fancybox=True)\n",
    "plot.savefig('multiple_items.jpg')"
   ]
  },
  {
   "cell_type": "code",
   "execution_count": null,
   "metadata": {},
   "outputs": [],
   "source": []
  }
 ],
 "metadata": {
  "kernelspec": {
   "display_name": "Python 3",
   "language": "python",
   "name": "python3"
  },
  "language_info": {
   "codemirror_mode": {
    "name": "ipython",
    "version": 3
   },
   "file_extension": ".py",
   "mimetype": "text/x-python",
   "name": "python",
   "nbconvert_exporter": "python",
   "pygments_lexer": "ipython3",
   "version": "3.8.6"
  }
 },
 "nbformat": 4,
 "nbformat_minor": 4
}
