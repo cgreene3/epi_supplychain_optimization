{
 "cells": [
  {
   "cell_type": "code",
   "execution_count": 1,
   "metadata": {},
   "outputs": [],
   "source": [
    "import numpy as np\n",
    "import pandas as pd\n",
    "import random as r\n",
    "import math\n",
    "import os\n",
    "from datetime import timedelta\n",
    "import statistics as stats \n",
    "\n",
    "import matplotlib.pyplot as plot\n",
    "import networkx as nx\n",
    "import seaborn as sns\n",
    "\n",
    "from pyomo.environ import *\n",
    "from pyomo.opt import SolverFactory\n",
    "from gurobipy import GRB"
   ]
  },
  {
   "cell_type": "raw",
   "metadata": {},
   "source": [
    "#id directories\n",
    "data_dir = os.getcwd().replace('/model', '/data')\n",
    "results_dir = os.getcwd().replace('/model', '/results')"
   ]
  },
  {
   "cell_type": "code",
   "execution_count": 2,
   "metadata": {},
   "outputs": [],
   "source": [
    "os.chdir(os.getcwd()+'/outputs/3_2_1_strategic_decisions')"
   ]
  },
  {
   "cell_type": "code",
   "execution_count": 3,
   "metadata": {},
   "outputs": [],
   "source": [
    "K_set = 1\n",
    "T_set = 10\n",
    "I_set = 4"
   ]
  },
  {
   "cell_type": "code",
   "execution_count": 4,
   "metadata": {},
   "outputs": [],
   "source": [
    "dem_dictionary_k = {1: [40000, 80000, 50000]\n",
    "}\n",
    "\n",
    "#define supply attributes\n",
    "#capacity\n",
    "cap_dictionary_supplier_SKU = {1: [9000,11000,10000], #min, max, likely, a,b,c\n",
    "                     2: [10000,20000,15000], \n",
    "                     3: [13000,20000,17000],\n",
    "                     4: [40000,100000,60000]}\n",
    "\n",
    "\n",
    "#lead-time\n",
    "lead_time_dictionary_supplier_SKU = {1: [3,5,4], #min, max, likely, a,b,c\n",
    "                     2: [1,3,2], \n",
    "                     3: [3,5,4],\n",
    "                     4: [0,2,0]}\n",
    "\n",
    "#dynamic adj\n",
    "dynamic_adj_dem = [0.5, 0.55, 0.6, 1, 1.1, 1.5, 1.6, 1.2, 1.1, 0.85]\n",
    "dynamic_adj_supply = np.zeros(T_set)\n",
    "for t in range(1, T_set+1):\n",
    "    if dynamic_adj_dem[t-1] < 1:\n",
    "        dynamic_adj_supply[t-1] = 1+(1-dynamic_adj_dem[t-1])\n",
    "    else:\n",
    "        dynamic_adj_supply[t-1] = 2-dynamic_adj_dem[t-1]\n",
    "\n",
    "budget = 700000\n",
    "warehouse_cap_level = 1.5 #time intervals of expected supply needed that can be stored\n",
    "reliability_level = .75\n",
    "dynamic = True\n",
    "\n",
    "#supplier-SKU names\n",
    "names_supplier_SKU = ['Supplier 1 - SKU: N95-MG', 'Supplier 1 - SKU: N95-N', \n",
    " 'Supplier 2 - SKU: SUR-MG', 'Supplier 2 - SKU: SUR-N']"
   ]
  },
  {
   "cell_type": "code",
   "execution_count": 5,
   "metadata": {},
   "outputs": [],
   "source": [
    "def triangular_dist_demand(a,b,c,prob):\n",
    "    if prob <= (c-a)/(b-a):\n",
    "        return(a+((((prob)*(b-a)*(c-a)))**(1/2)))\n",
    "    else:\n",
    "        return(b-(((1-prob)*(b-a)*(b-c))**(1/2)))"
   ]
  },
  {
   "cell_type": "code",
   "execution_count": 6,
   "metadata": {},
   "outputs": [],
   "source": [
    "def triangular_dist_supply(a,b,c,prob):\n",
    "    if 1-prob <= (c-a)/(b-a):\n",
    "        return(a+((((1-prob)*(b-a)*(c-a)))**(1/2)))\n",
    "    else:\n",
    "        return(b-(((prob)*(b-a)*(b-c))**(1/2)))"
   ]
  },
  {
   "cell_type": "code",
   "execution_count": 7,
   "metadata": {},
   "outputs": [],
   "source": [
    "def lead_time_dist(a,b,c):\n",
    "    lead_time_dist_array = np.zeros(T_set+1)\n",
    "    cum_prob = 0\n",
    "    t = 0\n",
    "    \n",
    "    while t < b+1:\n",
    "        if t+1 <= a:\n",
    "            t = t+1 \n",
    "        elif (a < t+1 & t+1 <= c):\n",
    "            cum_prob_temp = ((t+1-a)**2)/((b+1-a)*(c-a))\n",
    "            prob = cum_prob_temp - cum_prob\n",
    "            lead_time_dist_array[t] = prob\n",
    "            cum_prob = cum_prob_temp\n",
    "            t = t+1\n",
    "        elif c < t+1 & t+1 <= b+1:\n",
    "            cum_prob_temp = 1-((b+1-(t+1))**2)/((b+1-a)*(b+1-c))\n",
    "            prob = cum_prob_temp - cum_prob\n",
    "            lead_time_dist_array[t] = prob\n",
    "            cum_prob = cum_prob_temp\n",
    "            t = t+1\n",
    "    \n",
    "    return(lead_time_dist_array)"
   ]
  },
  {
   "cell_type": "code",
   "execution_count": 8,
   "metadata": {},
   "outputs": [],
   "source": [
    "k = 1\n",
    "\n",
    "#define parameters\n",
    "\n",
    "###health care commodity metric parameters####\n",
    "#rank\n",
    "r_k_dict = {\n",
    "    1 : 1\n",
    "}\n",
    "\n",
    "#quality \n",
    "q_k_i_dict = {\n",
    "    tuple([1,1]) : 1.3,\n",
    "    tuple([1,2]): 1.2,\n",
    "    tuple([1,3]): 1.2,\n",
    "    tuple([1,4]): 1.1\n",
    "}\n",
    "\n",
    "\n",
    "####Supply Parameters#####\n",
    "\n",
    "#lead time (supplier 3 has the lowest lead time)\n",
    "f_k_i_tDiff_dict = {}\n",
    "for i in range(1,I_set+1):\n",
    "    lead_time_dist_array = lead_time_dist(lead_time_dictionary_supplier_SKU.get(i)[0],\n",
    "                                         lead_time_dictionary_supplier_SKU.get(i)[1],\n",
    "                                         lead_time_dictionary_supplier_SKU.get(i)[2])\n",
    "    for t in range(0,T_set+1):\n",
    "                f_k_i_tDiff_dict[tuple([k,i,t])] = lead_time_dist_array[t]\n",
    "\n",
    "\n",
    "#incoming orders\n",
    "o_k_i_t_dict = {}\n",
    "\n",
    "for k in range(1,K_set+1):\n",
    "    for i in range(1,I_set+1):\n",
    "        for t in range(1,T_set+1):\n",
    "            if t <= 2:\n",
    "                o_k_i_t_dict[tuple([k,i,t])] = 0 #20000/4 #5000\n",
    "            else:\n",
    "                o_k_i_t_dict[tuple([k,i,t])] = 0\n",
    "\n",
    "\n",
    "\n",
    "#lead time (supplier 1 has the higest capacity)\n",
    "CAP_k_i_t_dict = {}\n",
    "\n",
    "for i in range(1,I_set+1):\n",
    "    cap_temp = triangular_dist_supply(cap_dictionary_supplier_SKU.get(i)[0],\n",
    "                                      cap_dictionary_supplier_SKU.get(i)[1],\n",
    "                                      cap_dictionary_supplier_SKU.get(i)[2],\n",
    "                                      reliability_level)\n",
    "    if (dynamic == True):\n",
    "        for t in range(1,T_set+1):\n",
    "            cap_temp_2 = cap_temp*dynamic_adj_supply[t-1]\n",
    "            CAP_k_i_t_dict[tuple([k,i,t])] = cap_temp_2\n",
    "    else:\n",
    "        for t in range(1,T_set+1):\n",
    "            CAP_k_i_t_dict[tuple([k,i,t])] = cap_temp\n",
    "\n",
    "####Demand Parameters####\n",
    "n_k_init_dict = {\n",
    "    1 : 0\n",
    "}\n",
    "\n",
    "\n",
    "#demand RV\n",
    "D_k_t_dict = {}\n",
    "demand_temp = triangular_dist_demand(dem_dictionary_k.get(k)[0],\n",
    "                                     dem_dictionary_k.get(k)[1],\n",
    "                                     dem_dictionary_k.get(k)[2],\n",
    "                                     reliability_level)\n",
    "\n",
    "if (dynamic == True):\n",
    "    for t in range(1,T_set+1):\n",
    "        demand_temp_2 =demand_temp*dynamic_adj_dem[t-1]\n",
    "        D_k_t_dict[tuple([k,t])] = demand_temp_2\n",
    "else:\n",
    "    for t in range(1,T_set+1):\n",
    "        D_k_t_dict[tuple([k,t])] = demand_temp\n",
    "\n",
    "\n",
    "#starting inventory\n",
    "z_k_i_init_dict = {\n",
    "    tuple([1,1]) : 80000/4,\n",
    "    tuple([1,2]) : 80000/4,\n",
    "    tuple([1,3]) : 80000/4,\n",
    "    tuple([1,4]) : 80000/4\n",
    "}\n",
    "\n",
    "#size\n",
    "s_k_dict = {\n",
    "    1 : 1\n",
    "}\n",
    "\n",
    "#warehouse capacity\n",
    "h = 80000*warehouse_cap_level \n",
    "\n",
    "#cost (supplier 2 has the lowest cost)\n",
    "c_k_i_dict = {\n",
    "    tuple([1,1]) : 2,\n",
    "    tuple([1,2]) : 1.5,\n",
    "    tuple([1,3]) : 1,\n",
    "    tuple([1,4]) : .8\n",
    "}\n",
    "\n",
    "b = budget"
   ]
  },
  {
   "cell_type": "code",
   "execution_count": 9,
   "metadata": {},
   "outputs": [],
   "source": [
    "model = ConcreteModel()\n",
    "\n",
    "#####define sets#######\n",
    "model.K = Set(initialize = range(1,K_set+1))\n",
    "model.I = Set(initialize = range(1,I_set+1))\n",
    "model.T = Set(initialize = range(1,T_set+1))\n",
    "model.T_0 = Set(initialize = range(0,T_set+1))\n",
    "\n",
    "####initialize parameters####\n",
    "\n",
    "def rank_param_initialize(model, k):\n",
    "    return(r_k_dict.get(k))\n",
    "\n",
    "model.r_k = Param(model.K, initialize = rank_param_initialize)\n",
    "\n",
    "def discount_param_initialize(model, k, t):\n",
    "    discount_temp = 1/model.r_k[k]\n",
    "    return(1/((1+discount_temp)**(t)))\n",
    "\n",
    "model.tau_k_t = Param(model.K, model.T_0, initialize = discount_param_initialize)\n",
    "\n",
    "#model.tau_k_t.pprint()\n",
    "\n",
    "def quality_param_initialize(model, k, i):\n",
    "    return(q_k_i_dict.get(tuple([k,i])))\n",
    "\n",
    "model.q_k_i = Param(model.K, model.I, initialize = quality_param_initialize)\n",
    "\n",
    "#model.q_k_i.pprint()\n",
    "\n",
    "def delay_dist_param_initialize(model, k, i, t):\n",
    "    return(f_k_i_tDiff_dict.get(tuple([k,i,t])))\n",
    "\n",
    "model.f_k_i_tDiff = Param(model.K, model.I, model.T_0, \n",
    "                          initialize = delay_dist_param_initialize)\n",
    "\n",
    "#model.f_k_i_tDiff.pprint()\n",
    "\n",
    "def incoming_orders_initialize(model, k, i, t):\n",
    "    return(o_k_i_t_dict.get(tuple([k,i,t])))\n",
    "\n",
    "model.o_k_i_t = Param(model.K, model.I, model.T, initialize = incoming_orders_initialize)\n",
    "\n",
    "#model.o_k_i_t.pprint()\n",
    "\n",
    "def supplier_cap_param_initialize(model, k, i, t):\n",
    "    return(CAP_k_i_t_dict.get(tuple([k,i,t])))\n",
    "\n",
    "model.cap_k_i_t = Param(model.K, model.I, model.T, initialize = supplier_cap_param_initialize)\n",
    "\n",
    "#model.cap_k_i_t.pprint()\n",
    "\n",
    "def unfulfilled_demand_param_initialize(model, k):\n",
    "    return(n_k_init_dict.get(k))\n",
    "\n",
    "model.n_k_intialize = Param(model.K, initialize = unfulfilled_demand_param_initialize)\n",
    "\n",
    "#model.n_k_intialize.pprint()\n",
    "\n",
    "#assume preparing for one sd above the mean\n",
    "def demand_param_initialize(model, k, t):\n",
    "    return(D_k_t_dict.get(tuple([k,t])))\n",
    "\n",
    "model.d_k_t = Param(model.K, model.T, initialize = demand_param_initialize)\n",
    "\n",
    "#model.d_k_t.pprint()\n",
    "\n",
    "def beg_inv_param_initialize(model, k, i):\n",
    "    return(z_k_i_init_dict.get(tuple([k,i])))\n",
    "\n",
    "model.z_k_i_init = Param(model.K, model.I, initialize = beg_inv_param_initialize)\n",
    "\n",
    "#model.z_k_i_init.pprint()\n",
    "\n",
    "def item_size_param_initialize(model, k):\n",
    "    return(s_k_dict.get(k))\n",
    "\n",
    "model.s_k = Param(model.K, initialize = item_size_param_initialize)\n",
    "\n",
    "#model.s_k.pprint()\n",
    "\n",
    "def warehouse_cap_param_initialize(model):\n",
    "    return(h)\n",
    "\n",
    "model.h = Param(initialize = h)\n",
    "\n",
    "#model.h.pprint()\n",
    "\n",
    "def cost_param_initialize(model, k, i):\n",
    "    return(c_k_i_dict.get(tuple([k,i])))\n",
    "\n",
    "model.c_k_i = Param(model.K, model.I, initialize = cost_param_initialize)\n",
    "\n",
    "#model.c_k_i.pprint()\n",
    "\n",
    "def budget_param_initialize(model):\n",
    "    return(b)\n",
    "\n",
    "model.b = Param(initialize = budget_param_initialize)\n",
    "\n",
    "#model.b.pprint()\n",
    "\n",
    "####initialize variables####\n",
    "model.x_k_i_t = Var(model.K, model.I, model.T, within = NonNegativeReals) #amount ordered\n",
    "model.y_k_i_t = Var(model.K, model.I, model.T, within = NonNegativeReals) #amount recieved\n",
    "model.z_k_i_t = Var(model.K, model.I, model.T, within = NonNegativeReals)\n",
    "model.n_k_t = Var(model.K, model.T, model.T_0, within = NonNegativeReals)\n",
    "model.m_k_i_t = Var(model.K, model.I, model.T, model.T_0, within = NonNegativeReals)"
   ]
  },
  {
   "cell_type": "code",
   "execution_count": 10,
   "metadata": {},
   "outputs": [],
   "source": [
    "#def initialize_objective(model):\n",
    "model.Objective = Objective(expr = \n",
    "                            (sum(model.q_k_i[k,i]*sum(model.tau_k_t[k,t-1]*model.m_k_i_t[k,i,t, t_req] \n",
    "                                                      for t in model.T for t_req in range(0,t+1)) \n",
    "                                 for i in model.I for k in model.K)),\n",
    "                            sense = maximize)"
   ]
  },
  {
   "cell_type": "code",
   "execution_count": 11,
   "metadata": {},
   "outputs": [],
   "source": [
    "def incoming_orders_constraint_initialize(model, k, i, t):\n",
    "    return(model.y_k_i_t[k,i,t] - \n",
    "           sum(model.f_k_i_tDiff[k, i, t-t_ordered_time]*model.x_k_i_t[k,i,t_ordered_time] \n",
    "               for t_ordered_time in range(1,t+1)) - model.o_k_i_t[k,i,t] == 0)\n",
    "\n",
    "model.incoming_ordered_constraint = Constraint(model.K, model.I, model.T, \n",
    "                                               rule = incoming_orders_constraint_initialize)"
   ]
  },
  {
   "cell_type": "code",
   "execution_count": 12,
   "metadata": {},
   "outputs": [],
   "source": [
    "def supplier_constraint_initialize(model, k, i, t):\n",
    "    return(model.x_k_i_t[k,i,t] <= model.cap_k_i_t[k,i,t])\n",
    "\n",
    "model.supplier_constraint = \\\n",
    "Constraint(model.K, model.I, model.T, rule = supplier_constraint_initialize)"
   ]
  },
  {
   "cell_type": "code",
   "execution_count": 13,
   "metadata": {},
   "outputs": [],
   "source": [
    "def initalize_unsatisfied_demand_constraint_initialize(model, k):\n",
    "    return(model.n_k_t[k,1,0] == model.n_k_intialize[k])\n",
    "\n",
    "model.initalize_unsatisfied_demand_constraint= \\\n",
    "Constraint(model.K, rule = initalize_unsatisfied_demand_constraint_initialize)"
   ]
  },
  {
   "cell_type": "code",
   "execution_count": 14,
   "metadata": {},
   "outputs": [],
   "source": [
    "def calculate_unsatisfied_demand_constraint_initialize(model,k,t, t_req):\n",
    "    if (t == t_req):\n",
    "        return(model.n_k_t[k,t,t_req] == model.d_k_t[k,t] - \\\n",
    "               sum(model.m_k_i_t[k,i,t,t_req] for i in model.I))\n",
    "    elif (t_req < t & t > 1):\n",
    "        return(model.n_k_t[k,t,t_req] == model.n_k_t[k,t-1,t_req] -\\\n",
    "               sum(model.m_k_i_t[k,i,t,t_req] for i in model.I))\n",
    "    else:\n",
    "        return(Constraint.Skip)\n",
    "\n",
    "model.calculate_unsatisfied_demand_constraint = \\\n",
    "Constraint(model.K, model.T, model.T_0, rule = calculate_unsatisfied_demand_constraint_initialize)"
   ]
  },
  {
   "cell_type": "code",
   "execution_count": 15,
   "metadata": {},
   "outputs": [],
   "source": [
    "def beggining_inventory_constraint_initialize(model, k, i):\n",
    "    return(model.z_k_i_t[k,i,1] == model.z_k_i_init[k,i])\n",
    "    \n",
    "model.beggining_inventory_constraint = Constraint(model.K, model.I, \n",
    "                                                  rule = beggining_inventory_constraint_initialize)"
   ]
  },
  {
   "cell_type": "code",
   "execution_count": 16,
   "metadata": {},
   "outputs": [],
   "source": [
    "def calculate_available_inventory_constraint_initialize(model, k, i, t):\n",
    "    if (t > 1):\n",
    "        return(model.z_k_i_t[k,i,t] - model.z_k_i_t[k,i,t-1] - model.y_k_i_t[k,i,t-1] + \n",
    "               sum(model.m_k_i_t[k,i,t-1, t_hat] for t_hat in model.T_0) == 0)\n",
    "    else:\n",
    "        return(Constraint.Skip)\n",
    "    \n",
    "model.calculate_available_inventory_constraint = Constraint(model.K, model.I, model.T,\n",
    "                                                            rule = \n",
    "                                                            calculate_available_inventory_constraint_initialize)"
   ]
  },
  {
   "cell_type": "code",
   "execution_count": 17,
   "metadata": {},
   "outputs": [],
   "source": [
    "def cannot_fulfill_more_than_available_constraint_initialize(model, k,i,t):\n",
    "    return(sum(model.m_k_i_t[k,i,t, t_hat] for t_hat in model.T_0) - model.z_k_i_t[k,i,t] <= 0)\n",
    "\n",
    "model.cannot_fulfill_more_than_available_constraint = \\\n",
    "Constraint(model.K, model.I, model.T, rule = cannot_fulfill_more_than_available_constraint_initialize)"
   ]
  },
  {
   "cell_type": "code",
   "execution_count": 18,
   "metadata": {},
   "outputs": [],
   "source": [
    "def warehouse_capacity_constraint_initialize(model, t):\n",
    "    return(sum(model.s_k[k]*model.z_k_i_t[k,i,t] for k in model.K for i in model.I) <= model.h)\n",
    "\n",
    "model.warehouse_capacity_constraint = \\\n",
    "Constraint(model.T, rule = warehouse_capacity_constraint_initialize)"
   ]
  },
  {
   "cell_type": "code",
   "execution_count": 19,
   "metadata": {},
   "outputs": [],
   "source": [
    "def budget_constraint_initialize(model):\n",
    "    return(sum(model.c_k_i[k,i]*model.x_k_i_t[k,i,t] \n",
    "               for k in model.K for i in model.I for t in model.T) \n",
    "           <= model.b)\n",
    "\n",
    "model.budget_constraint = \\\n",
    "Constraint(rule = budget_constraint_initialize)"
   ]
  },
  {
   "cell_type": "code",
   "execution_count": 20,
   "metadata": {},
   "outputs": [
    {
     "name": "stdout",
     "output_type": "stream",
     "text": [
      "Using license file /Users/chelseagreene/gurobi.lic\n",
      "Academic license - for non-commercial use only - expires 2021-02-20\n"
     ]
    },
    {
     "data": {
      "text/plain": [
       "{'Problem': [{'Name': 'unknown', 'Lower bound': 157914.31202918006, 'Upper bound': 157914.31202918006, 'Number of objectives': 1, 'Number of constraints': 236, 'Number of variables': 670, 'Number of binary variables': 0, 'Number of integer variables': 0, 'Number of continuous variables': 670, 'Number of nonzeros': 1610, 'Sense': -1, 'Number of solutions': 1}], 'Solver': [{'Name': 'Gurobi 9.10', 'Status': 'ok', 'Wallclock time': 0.0024449825286865234, 'Termination condition': 'optimal', 'Termination message': 'Model was solved to optimality (subject to tolerances), and an optimal solution is available.'}], 'Solution': [OrderedDict([('number of solutions', 0), ('number of solutions displayed', 0)])]}"
      ]
     },
     "execution_count": 20,
     "metadata": {},
     "output_type": "execute_result"
    }
   ],
   "source": [
    "opt = SolverFactory('gurobi_persistent')\n",
    "opt.set_instance(model)\n",
    "opt.solve(model)"
   ]
  },
  {
   "cell_type": "code",
   "execution_count": 21,
   "metadata": {},
   "outputs": [],
   "source": [
    "#extract ordering df\n",
    "ordered_df = pd.DataFrame(list(model.x_k_i_t.extract_values().items()),columns = ['sets','units_to_order'])\n",
    "ordered_df.loc[:,'item_type']=ordered_df.sets.map(lambda x:x[0])\n",
    "ordered_df.loc[:,'supplier']=ordered_df.sets.map(lambda x:x[1])\n",
    "ordered_df.loc[:,'time_interval']=ordered_df.sets.map(lambda x:x[2])"
   ]
  },
  {
   "cell_type": "code",
   "execution_count": 22,
   "metadata": {},
   "outputs": [],
   "source": [
    "#extract expected arrivals df\n",
    "recieved_df = pd.DataFrame(list(model.y_k_i_t.extract_values().items()),columns = ['sets','expected_units_recieved'])\n",
    "recieved_df.loc[:,'item_type']=recieved_df.sets.map(lambda x:x[0])\n",
    "recieved_df.loc[:,'supplier']=recieved_df.sets.map(lambda x:x[1])\n",
    "recieved_df.loc[:,'time_interval']=recieved_df.sets.map(lambda x:x[2])"
   ]
  },
  {
   "cell_type": "code",
   "execution_count": 23,
   "metadata": {},
   "outputs": [],
   "source": [
    "#extract expected fulfilled df\n",
    "fulfilled_df = pd.DataFrame(list(model.m_k_i_t.extract_values().items()),columns = ['sets','units_fulfilled'])\n",
    "fulfilled_df.loc[:,'item_type']=fulfilled_df.sets.map(lambda x:x[0])\n",
    "fulfilled_df.loc[:,'supplier']=fulfilled_df.sets.map(lambda x:x[1])\n",
    "fulfilled_df.loc[:,'time_interval']=fulfilled_df.sets.map(lambda x:x[2])\n",
    "fulfilled_df.loc[:,'time_interval_req']=fulfilled_df.sets.map(lambda x:x[3])\n",
    "fulfilled_df['delay'] = fulfilled_df['time_interval'] - fulfilled_df['time_interval_req']"
   ]
  },
  {
   "cell_type": "code",
   "execution_count": 24,
   "metadata": {},
   "outputs": [],
   "source": [
    "#extract expected available df\n",
    "available_df = pd.DataFrame(list(model.z_k_i_t.extract_values().items()),columns = ['sets','units_available'])\n",
    "available_df.loc[:,'item_type']=available_df.sets.map(lambda x:x[0])\n",
    "available_df.loc[:,'supplier']=available_df.sets.map(lambda x:x[1])\n",
    "available_df.loc[:,'time_interval']=available_df.sets.map(lambda x:x[2])"
   ]
  },
  {
   "cell_type": "code",
   "execution_count": 25,
   "metadata": {},
   "outputs": [],
   "source": [
    "#extract expected unsatisfied df\n",
    "unsatisfied_df = pd.DataFrame(list(model.n_k_t.extract_values().items()),columns = ['sets','units_unsatisfied'])\n",
    "unsatisfied_df.loc[:,'item_type']=unsatisfied_df.sets.map(lambda x:x[0])\n",
    "unsatisfied_df.loc[:,'time_interval']=unsatisfied_df.sets.map(lambda x:x[1])"
   ]
  },
  {
   "cell_type": "code",
   "execution_count": 26,
   "metadata": {},
   "outputs": [],
   "source": [
    "demand_df = pd.DataFrame(list(model.d_k_t.extract_values().items()), columns = ['sets', 'demand_in_units'])\n",
    "demand_df.loc[:,'item_type']=demand_df.sets.map(lambda x:x[0])\n",
    "demand_df.loc[:,'time_interval']=demand_df.sets.map(lambda x:x[1])"
   ]
  },
  {
   "cell_type": "code",
   "execution_count": 27,
   "metadata": {},
   "outputs": [],
   "source": [
    "ordered_and_recieved_df = ordered_df[['item_type', 'supplier', 'time_interval', 'sets']]\n",
    "ordered_and_recieved_df = ordered_and_recieved_df.merge(recieved_df[['sets', 'expected_units_recieved']],\n",
    "                                                        on='sets', how='left')\n",
    "ordered_and_recieved_df = ordered_and_recieved_df.merge(ordered_df[['sets', 'units_to_order']],\n",
    "                                                        on='sets', how='left')\n",
    "\n",
    "ordered_and_recieved_df = ordered_and_recieved_df[['item_type', 'supplier', \n",
    "                                                   'time_interval','units_to_order', \n",
    "                                                   'expected_units_recieved']]\n",
    "\n",
    "ordered_and_recieved_df['units_to_order'] = (round(ordered_and_recieved_df['units_to_order'])).astype(int)\n",
    "ordered_and_recieved_df['expected_units_recieved'] = (round(ordered_and_recieved_df['expected_units_recieved'])).astype(int)"
   ]
  },
  {
   "cell_type": "code",
   "execution_count": 28,
   "metadata": {},
   "outputs": [],
   "source": [
    "#os.chdir(results_dir)\n",
    "ordered_and_recieved_df.to_csv('ordering_and_recieving_schedule.csv')\n",
    "\n",
    "recieved_df.to_csv('recieving_schedule.csv')\n",
    "ordered_df.to_csv('ordering_schedule.csv')"
   ]
  },
  {
   "cell_type": "code",
   "execution_count": 29,
   "metadata": {},
   "outputs": [],
   "source": [
    "#for k in range(1,K+1):\n",
    "unsatisfied_temp_df = unsatisfied_df[unsatisfied_df['item_type'] == 1].groupby(['time_interval'])['units_unsatisfied']\\\n",
    ".sum().reset_index()\n",
    "fulfilled_temp_df = fulfilled_df[fulfilled_df['item_type'] == 1].groupby(['time_interval'])[\"units_fulfilled\"]\\\n",
    ".sum().reset_index()\n",
    "available_temp_df = available_df[available_df['item_type'] == 1].groupby(['time_interval'])[\"units_available\"]\\\n",
    ".sum().reset_index()"
   ]
  },
  {
   "cell_type": "code",
   "execution_count": 30,
   "metadata": {},
   "outputs": [],
   "source": [
    "temp_all = unsatisfied_temp_df[['time_interval', 'units_unsatisfied']].\\\n",
    "merge(fulfilled_temp_df, how='inner', on='time_interval')"
   ]
  },
  {
   "cell_type": "code",
   "execution_count": 31,
   "metadata": {},
   "outputs": [
    {
     "data": {
      "image/png": "[encoded data removed]",
      "text/plain": [
       "<Figure size 864x432 with 1 Axes>"
      ]
     },
     "metadata": {
      "needs_background": "light"
     },
     "output_type": "display_data"
    }
   ],
   "source": [
    "temp_all = unsatisfied_temp_df[['time_interval', 'units_unsatisfied']].\\\n",
    "merge(fulfilled_temp_df, how='inner', on='time_interval')\n",
    "\n",
    "fig2, ax2 = plot.subplots(figsize=(12,6))\n",
    "\n",
    "ax2.plot(available_temp_df['time_interval'], \n",
    "          available_temp_df['units_available']/1000, \n",
    "          label='units available',\n",
    "          color =\"black\",\n",
    "         linewidth=5) \n",
    "\n",
    "#ax2.plot(demand_df['time_interval'], \n",
    "#         (demand_df['demand_in_units'])/1000 , \n",
    "#         label='incoming demand', #\\n additional demand \\nplus unfulfilled demand\\nfrom the day before',\n",
    "#         linewidth=10,\n",
    "#         color = \"lime\")\n",
    "\n",
    "ax2.plot(demand_df['time_interval'], \n",
    "         (temp_all['units_fulfilled']+temp_all['units_unsatisfied'])/1000, \n",
    "         label='Cumulative Demand',\n",
    "         linewidth=4,\n",
    "         color = \"purple\",\n",
    "         linestyle='dashed')\n",
    "\n",
    "# Your x and y axis\n",
    "x=range(1,T_set+1)\n",
    "y=[temp_all['units_fulfilled']/1000, temp_all['units_unsatisfied']/1000]\n",
    " \n",
    "# use a known color palette (see..)\n",
    "pal = [\"#D3D3D3\", \"#808080\"]\n",
    "plot.stackplot(x,y, labels=['Satisfied Demand', 'Unsatisfied Demand'], colors=pal)\n",
    "plot.legend(loc='upper right')\n",
    "plot.xticks(fontsize= 15)\n",
    "plot.yticks(fontsize= 15)\n",
    "ax2.xaxis.set_ticks(np.arange(1, T_set+1, 1))\n",
    "ax2.yaxis.set_ticks(np.arange(0, 160, 20))\n",
    "\n",
    "ax2.set_xlabel('Ordering period (week)', fontsize=15)\n",
    "ax2.set_ylabel('Units (in thousands)', fontsize=15)\n",
    "#ax2.set_title('Option 1: Budget of \\$700,000 and renew lease', fontsize = 15)\n",
    "#ax2.set_title('Available, Unsatisfied, and Satisfied Units of Masks (k=1) \\n summed over all suppliers (i) at each Time Interval (t)\\\n",
    "#\\n medium supplier risk, medium demand reliability', fontsize='xx-large')\n",
    "#ax2.set_title('Available, Unsatisfied, and Satisfied Units of Masks during each Time Interval\\\n",
    "#\\n Assuming Average (no variation) Supplier Capacity and Demand Projections, \\n \\\n",
    "#and a Budget of \\$80,000 over 10 Weeks', fontsize=24)\n",
    "ax2.legend(loc='upper right', shadow=True, fontsize=13)\n",
    "\n",
    "\n",
    "plot.savefig('700K_overtime.jpg')\n",
    "#plot.savefig('500K_overtime.jpg')"
   ]
  },
  {
   "cell_type": "code",
   "execution_count": 32,
   "metadata": {},
   "outputs": [],
   "source": [
    "#extract expected unsatisfied df\n",
    "unsatisfied_df = pd.DataFrame(list(model.n_k_t.extract_values().items()),columns = ['sets','units_unsatisfied'])\n",
    "unsatisfied_df.loc[:,'item_type']=unsatisfied_df.sets.map(lambda x:x[0])\n",
    "unsatisfied_df.loc[:,'time_interval']=unsatisfied_df.sets.map(lambda x:x[1])\n",
    "\n",
    "#for k in range(1,K+1):\n",
    "unsatisfied_temp_df = unsatisfied_df[unsatisfied_df['item_type'] == 1].groupby(['time_interval'])['units_unsatisfied']\\\n",
    ".sum().reset_index()\n",
    "fulfilled_temp_df = fulfilled_df[fulfilled_df['item_type'] == 1].groupby(['time_interval'])[\"units_fulfilled\"]\\\n",
    ".sum().reset_index()\n",
    "available_temp_df = available_df[available_df['item_type'] == 1].groupby(['time_interval'])[\"units_available\"]\\\n",
    ".sum().reset_index()\n",
    "temp_all = unsatisfied_temp_df[['time_interval', 'units_unsatisfied']].\\\n",
    "merge(fulfilled_temp_df, how='inner', on='time_interval')\n",
    "temp_all['percent_unsatisfied'] = temp_all['units_unsatisfied']/(temp_all['units_fulfilled'] + temp_all['units_unsatisfied'])\n",
    "temp_all['stacked'] = temp_all['units_fulfilled'] + temp_all['units_unsatisfied']"
   ]
  },
  {
   "cell_type": "code",
   "execution_count": 33,
   "metadata": {},
   "outputs": [],
   "source": [
    "units = []\n",
    "name = []\n",
    "time_interval = []"
   ]
  },
  {
   "cell_type": "code",
   "execution_count": 34,
   "metadata": {},
   "outputs": [],
   "source": [
    "for i in fulfilled_df.index:\n",
    "    units.append(fulfilled_df['units_fulfilled'].iloc[i])\n",
    "    time_interval.append(fulfilled_df['time_interval'].iloc[i])\n",
    "    if (fulfilled_df['supplier'].iloc[i] == 1):\n",
    "        name.append('SKU: N95-MG')\n",
    "    elif (fulfilled_df['supplier'].iloc[i] == 2):\n",
    "        name.append('SKU: N95-N')\n",
    "    elif (fulfilled_df['supplier'].iloc[i] == 3):\n",
    "        name.append('SKU: SUR-MG')\n",
    "    else:\n",
    "        name.append('SKU: SUR-N')\n",
    "\n",
    "        \n",
    "for i in unsatisfied_df.index:\n",
    "    units.append(unsatisfied_df['units_unsatisfied'].iloc[i])\n",
    "    time_interval.append(unsatisfied_df['time_interval'].iloc[i])\n",
    "    name.append('unsatisfied_demand')"
   ]
  },
  {
   "cell_type": "code",
   "execution_count": 35,
   "metadata": {},
   "outputs": [],
   "source": [
    "stacked_temp = pd.DataFrame(list(zip(name, time_interval, units)), \n",
    "                    columns =['name', 'time_interval', 'units']).groupby(['time_interval', 'name']).sum()\\\n",
    ".reset_index()"
   ]
  },
  {
   "cell_type": "code",
   "execution_count": 36,
   "metadata": {},
   "outputs": [],
   "source": [
    "stacked_temp['units'] = stacked_temp['units']/1000"
   ]
  },
  {
   "cell_type": "code",
   "execution_count": 37,
   "metadata": {},
   "outputs": [
    {
     "data": {
      "image/png": "[encoded data removed]",
      "text/plain": [
       "<Figure size 864x432 with 1 Axes>"
      ]
     },
     "metadata": {
      "needs_background": "light"
     },
     "output_type": "display_data"
    }
   ],
   "source": [
    "fig2, ax3 = plot.subplots(figsize=(12,6))\n",
    "\n",
    "ax3.plot(available_temp_df['time_interval'], \n",
    "          available_temp_df['units_available']/1000,  \n",
    "          label='Units Available',\n",
    "          color =\"black\",\n",
    "         linewidth=5) \n",
    "\n",
    "#ax3.plot(demand_df['time_interval'], \n",
    "#         (demand_df['demand_in_units'])/1000 , \n",
    "#         label='incoming demand', #\\n additional demand \\nplus unfulfilled demand\\nfrom the day before',\n",
    "#         linewidth=5,\n",
    "#         color = \"#fb169b\")\n",
    "\n",
    "ax3.plot(demand_df['time_interval'], \n",
    "         (temp_all['units_fulfilled']+temp_all['units_unsatisfied'])/1000, \n",
    "         label='Cumulative Demand',\n",
    "         linewidth=4,\n",
    "         color = \"purple\",\n",
    "         linestyle='dashed')\n",
    "\n",
    "# Your x and y axis\n",
    "x=range(1,T_set+1)\n",
    "y=[stacked_temp[stacked_temp['name'] == 'SKU: N95-MG']['units'], stacked_temp[stacked_temp['name'] == 'SKU: N95-N']['units'],\n",
    "  stacked_temp[stacked_temp['name'] == 'SKU: SUR-MG']['units'], stacked_temp[stacked_temp['name'] == 'SKU: SUR-N']['units'],\n",
    "  stacked_temp[stacked_temp['name'] == 'unsatisfied_demand']['units']]\n",
    " \n",
    "# use a known color palette (see..)\n",
    "pal = ['#1f77b4', '#ff7f0e', '#2ca02c', '#d62728', \"808080\"]\n",
    "#ax3.stackplot(x,y)#, labels=['High Capacity R US (Surgical Masks)', 'Affordable PPE (Cloth Masks)', 'Speedy Industries (Surgical Masks)', \n",
    "                            #'High Quality Inc. (N95 Masks)', 'Unsatisfied Demand '], colors=pal)#, alpha=0.4)\n",
    "ax3.stackplot(x,y, labels=['SKU: N95-MG', 'SKU: N95-N', 'SKU: SUR-MG', \n",
    "                            'SKU: SUR-N', 'Unsatisfied Demand '], colors=pal)#, alpha=0.4)\n",
    "\n",
    "plot.xticks(fontsize= 15)\n",
    "plot.yticks(fontsize= 15)\n",
    "\n",
    "ax3.xaxis.set_ticks(np.arange(1, T_set+1, 1))\n",
    "ax3.yaxis.set_ticks(np.arange(0, 160, 20))\n",
    "#ax3.yaxis.set_ticks(np.arange(0, 100000, 10000))\n",
    "\n",
    "\n",
    "ax3.set_xlabel('Ordering period (week)', fontsize=15)\n",
    "ax3.set_ylabel('Units (in thousands)', fontsize=15)\n",
    "#ax3.set_title('Option 1: Budget of \\$700,000 and renew lease \\n by supplier-SKU identified for fulfilling orders', fontsize = 15)\n",
    "#ax3.set_title('Available, Unsatisfied, and Satisfied Units of Masks from each Supplier during each Time Interval\\\n",
    "#\\nAssuming Average (no variation) Supplier Capacity and Demand Projections, \\n \\\n",
    "#and a Budget of \\$80,000 over 10 Weeks', fontsize=24)\n",
    "ax3.legend(loc='upper right', shadow=True, fontsize=13)\n",
    "plot.savefig('700K_overtime_supplier.jpg')\n",
    "#plot.savefig('500K_overtime_supplier.jpg')"
   ]
  },
  {
   "cell_type": "code",
   "execution_count": 38,
   "metadata": {},
   "outputs": [],
   "source": [
    "I_set = 4"
   ]
  },
  {
   "cell_type": "raw",
   "metadata": {},
   "source": [
    "### ordering and recieving picture\n",
    "pos_dict_all = {}\n",
    "label_dict_all = {}\n",
    "color_dict_all = {}\n",
    "G_dict_all = {}\n",
    "edge_labels_dict_all = {}"
   ]
  },
  {
   "cell_type": "raw",
   "metadata": {},
   "source": [
    "for i in range(1,I_set+1):\n",
    "    #G=nx.Graph()\n",
    "    G = nx.DiGraph()\n",
    "    label_dict = {}\n",
    "    color_map = []\n",
    "    \n",
    "    global ordered_df\n",
    "    global recieved_df\n",
    "    \n",
    "    time_coordinates = range(1,T_set+1)\n",
    "    ordered_amount_coordinates = np.array(ordered_df[(ordered_df['supplier'] == i)]['units_to_order'])\n",
    "    recieved_amount_coordinates = np.array(recieved_df[(recieved_df['supplier'] == i)]['expected_units_recieved'])\n",
    "\n",
    "    for t in range(T_set):\n",
    "        ordered_amount = ordered_amount_coordinates[t]\n",
    "        recieved_amount = recieved_amount_coordinates[t]\n",
    "\n",
    "        if (ordered_amount > 0):\n",
    "            name = 'ordered at ' + str(t+1) + ' from supplier ' + str(i)\n",
    "            G.add_node(name, pos = (t+1,1))\n",
    "            label_dict[name] = int(round(ordered_amount,0))\n",
    "            color_map.append('plum')\n",
    "\n",
    "        if (recieved_amount > 0):\n",
    "            name = 'recieved at ' + str(t+1)+ ' from supplier ' + str(i)\n",
    "            G.add_node(name, pos = (t+1,2))\n",
    "            label_dict[name] = int(round(recieved_amount,0))\n",
    "            color_map.append('palegreen')\n",
    "\n",
    "    pos=nx.get_node_attributes(G,'pos')\n",
    "    label_dict_all['supplier' + str(i)] = label_dict\n",
    "    color_dict_all['supplier' + str(i)] = color_map\n",
    "    pos_dict_all['supplier' + str(i)] = pos\n",
    "    G_dict_all['supplier' + str(i)] = G\n",
    "    \n",
    "    ordered_df_filtered = ordered_df[(ordered_df['supplier'] == i) \n",
    "                                     & (ordered_df['units_to_order'] > 0)]\n",
    "    \n",
    "    for t_tilde in ordered_df_filtered['time_interval']:\n",
    "        for t in range(T_set+1):\n",
    "            if t_tilde <= t:\n",
    "                prob = f_k_i_tDiff_dict.get(tuple([1,i,t-t_tilde]))\n",
    "                if (prob > 0):\n",
    "                    temp = ordered_df_filtered[ordered_df_filtered['time_interval'] == t_tilde]\n",
    "                    edge_start = 'ordered at ' + str(t_tilde) + ' from supplier ' + str(i)\n",
    "                    edge_end = 'recieved at ' + str(t)+ ' from supplier ' + str(i)\n",
    "                    amount = round((prob*temp['units_to_order'].values[0]),0).astype(int)\n",
    "                    G.add_edge(edge_start, edge_end, label=amount)\n",
    "\n",
    "    edge_labels_dict_all['supplier' + str(i)]  = nx.get_edge_attributes(G, 'label')"
   ]
  },
  {
   "cell_type": "raw",
   "metadata": {},
   "source": [
    "ordered_df_filtered = ordered_df[(ordered_df['supplier'] == 2) \n",
    "                                     & (ordered_df['units_to_order'] > 0)]"
   ]
  },
  {
   "cell_type": "raw",
   "metadata": {},
   "source": [
    "for k in edge_labels_dict_all.get('supplier' + str(i)).keys():\n",
    "    temp1 = edge_labels_dict_all.get('supplier' + str(i)).get(k)\n",
    "    temp2 = {k:temp1}\n",
    "\n",
    "os.chdir('/Users/chelseagreene/github/epi_supplychain_optimization/inventory_management/model/publication/Final/outputs/3_2_2_ordering_plans')"
   ]
  },
  {
   "cell_type": "raw",
   "metadata": {},
   "source": [
    "names_supplier_SKU=['Supplier 1 - SKU: N95-MG \\nMedical-grade N-95 masks', 'Supplier 1 - SKU: N95-MG\\nNon-medical-grade N-95 masks',\n",
    "                  'Supplier 2 - SKU: SUR-MG\\nMedical-grade surgical masks', 'Supplier 2 - SKU: SUR-Non\\nNon-medical-grade surgical masks']"
   ]
  },
  {
   "cell_type": "raw",
   "metadata": {},
   "source": [
    "for i in range(1, I_set+1):\n",
    "    fig, ax = plot.subplots(figsize=(11.5,6))\n",
    "          \n",
    "    nx.draw(G_dict_all.get('supplier' + str(i)),\n",
    "            pos_dict_all.get('supplier' + str(i)), \n",
    "            labels=label_dict_all.get('supplier' + str(i)), \n",
    "            node_size=2000, font_size=15, with_labels = True, \n",
    "            node_color=color_dict_all.get('supplier' + str(i)), \n",
    "            ax = ax,\n",
    "           font_weight = 'bold')\n",
    "    \n",
    "    label_pos_temp = .7\n",
    "    \n",
    "    for k in edge_labels_dict_all.get('supplier' + str(i)).keys():\n",
    "        temp1 = edge_labels_dict_all.get('supplier' + str(i)).get(k)\n",
    "        temp2 = {k:temp1}\n",
    "        \n",
    "        if(label_pos_temp == .7):\n",
    "            label_pos_temp = .3\n",
    "        else:\n",
    "            label_pos_temp = .7\n",
    "            \n",
    "        nx.draw_networkx_edge_labels(G_dict_all.get('supplier' + str(i)), \n",
    "                                     pos_dict_all.get('supplier' + str(i)), \n",
    "                                     temp2,\n",
    "                                     label_pos = label_pos_temp,\n",
    "                                    #arrows = True,\n",
    "                                    font_size = 13)\n",
    "        \n",
    "        #nx.draw_networkx_edge_labels(G_dict_all.get('supplier' + str(i)), pos_dict_all.get('supplier' + str(i)), \n",
    "        #                             edge_labels_dict_all.get('supplier' + str(i)),\n",
    "        #                            label_pos = pos_dict_all_labels)\n",
    "    \n",
    "    \n",
    "    ax.set_xlabel('Ordering period (week)',\n",
    "                 fontsize = 15)\n",
    "    ax.set_ylabel('Units to order          Units recieved\\n                                  (projected)',\n",
    "                 fontsize = 15)\n",
    "    ax.set(ylim=(.5, 2.5))\n",
    "    ax.xaxis.set_ticks(np.arange(1, T_set+1, 1))\n",
    "    #ax.set_title('Time Interval Order is Placed and Recieved \\n for Supplier '+ str(i)+' for Item 1',\n",
    "    #            fontsize = 20)\n",
    "    #ax.set_title('Ordering schedule for ' + names_supplier_SKU[i-1],# + ' with reliability level '+ \"{:.0%}\".format(reliability_level),\n",
    "    #            fontsize='x-large')\n",
    "    ax.tick_params(left=False, bottom=True, labelleft=False, labelbottom=True)\n",
    "    limits=plot.axis('on')\n",
    "    if i == 1:\n",
    "        plot.savefig('S1_MG.jpg')\n",
    "    if i == 2:\n",
    "        plot.savefig('S1_Non.jpg')\n",
    "    if i == 3:\n",
    "        plot.savefig('S2_MG.jpg')\n",
    "    if i == 4:\n",
    "        plot.savefig('S2_Non.jpg')"
   ]
  },
  {
   "cell_type": "markdown",
   "metadata": {},
   "source": []
  }
 ],
 "metadata": {
  "kernelspec": {
   "display_name": "Python 3",
   "language": "python",
   "name": "python3"
  },
  "language_info": {
   "codemirror_mode": {
    "name": "ipython",
    "version": 3
   },
   "file_extension": ".py",
   "mimetype": "text/x-python",
   "name": "python",
   "nbconvert_exporter": "python",
   "pygments_lexer": "ipython3",
   "version": "3.8.6"
  }
 },
 "nbformat": 4,
 "nbformat_minor": 4
}
