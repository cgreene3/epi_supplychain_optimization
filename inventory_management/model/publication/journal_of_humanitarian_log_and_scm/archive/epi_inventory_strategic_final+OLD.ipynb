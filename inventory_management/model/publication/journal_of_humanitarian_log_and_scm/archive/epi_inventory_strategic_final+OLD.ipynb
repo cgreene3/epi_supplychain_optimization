{
 "cells": [
  {
   "cell_type": "code",
   "execution_count": 18,
   "metadata": {},
   "outputs": [
    {
     "ename": "ImportError",
     "evalue": "cannot import name 'glpsol' from 'pyomo.opt' (/Users/chelseagreene/opt/anaconda3/envs/epi_supplychain_env/lib/python3.8/site-packages/pyomo/opt/__init__.py)",
     "output_type": "error",
     "traceback": [
      "\u001b[0;31m---------------------------------------------------------------------------\u001b[0m",
      "\u001b[0;31mImportError\u001b[0m                               Traceback (most recent call last)",
      "\u001b[0;32m<ipython-input-18-b16acbb0fd5e>\u001b[0m in \u001b[0;36m<module>\u001b[0;34m\u001b[0m\n\u001b[1;32m     14\u001b[0m \u001b[0;32mfrom\u001b[0m \u001b[0mpyomo\u001b[0m\u001b[0;34m.\u001b[0m\u001b[0menviron\u001b[0m \u001b[0;32mimport\u001b[0m \u001b[0;34m*\u001b[0m\u001b[0;34m\u001b[0m\u001b[0;34m\u001b[0m\u001b[0m\n\u001b[1;32m     15\u001b[0m \u001b[0;32mfrom\u001b[0m \u001b[0mpyomo\u001b[0m\u001b[0;34m.\u001b[0m\u001b[0mopt\u001b[0m \u001b[0;32mimport\u001b[0m \u001b[0mSolverFactory\u001b[0m\u001b[0;34m\u001b[0m\u001b[0;34m\u001b[0m\u001b[0m\n\u001b[0;32m---> 16\u001b[0;31m \u001b[0;32mfrom\u001b[0m \u001b[0mpyomo\u001b[0m\u001b[0;34m.\u001b[0m\u001b[0mopt\u001b[0m \u001b[0;32mimport\u001b[0m \u001b[0mglpsol\u001b[0m\u001b[0;34m\u001b[0m\u001b[0;34m\u001b[0m\u001b[0m\n\u001b[0m\u001b[1;32m     17\u001b[0m \u001b[0;32mfrom\u001b[0m \u001b[0mgurobipy\u001b[0m \u001b[0;32mimport\u001b[0m \u001b[0mGRB\u001b[0m\u001b[0;34m\u001b[0m\u001b[0;34m\u001b[0m\u001b[0m\n",
      "\u001b[0;31mImportError\u001b[0m: cannot import name 'glpsol' from 'pyomo.opt' (/Users/chelseagreene/opt/anaconda3/envs/epi_supplychain_env/lib/python3.8/site-packages/pyomo/opt/__init__.py)"
     ]
    }
   ],
   "source": [
    "import numpy as np\n",
    "import pandas as pd\n",
    "import random as r\n",
    "import math\n",
    "import os\n",
    "from datetime import timedelta\n",
    "import statistics as stats \n",
    "\n",
    "import matplotlib.pyplot as plot\n",
    "import matplotlib.ticker as mtick\n",
    "import networkx as nx\n",
    "import seaborn as sns\n",
    "\n",
    "from pyomo.environ import *\n",
    "from pyomo.opt import SolverFactory\n",
    "#from gurobipy import GRB"
   ]
  },
  {
   "cell_type": "code",
   "execution_count": 2,
   "metadata": {},
   "outputs": [],
   "source": [
    "#id directories\n",
    "results_dir = os.getcwd()+'/outputs/strategic_decisions'"
   ]
  },
  {
   "cell_type": "code",
   "execution_count": 3,
   "metadata": {},
   "outputs": [],
   "source": [
    "os.chdir(results_dir)"
   ]
  },
  {
   "cell_type": "code",
   "execution_count": 4,
   "metadata": {},
   "outputs": [],
   "source": [
    "I_set = 4\n",
    "K_set = 1\n",
    "T_set = 12\n",
    "\n",
    "I_K_dict = {1: [1,2,3,4]}\n",
    "\n",
    "model = ConcreteModel()\n",
    "\n",
    "#####define sets#######\n",
    "model.K = Set(initialize = range(1,K_set+1))\n",
    "model.I = Set(initialize = range(1,I_set+1))\n",
    "model.T = Set(initialize = range(1,T_set+1))\n",
    "model.T_0 = Set(initialize = range(0,T_set+1))\n",
    "model.I_K = Set(model.K)\n",
    "for k in model.K:\n",
    "    for i in range(0,len(I_K_dict[k])):\n",
    "        model.I_K[k].add(I_K_dict[k][i])"
   ]
  },
  {
   "cell_type": "code",
   "execution_count": 5,
   "metadata": {},
   "outputs": [],
   "source": [
    "budget_levels = range(0,30+1)\n",
    "level_amount_incrememented = 10000\n",
    "\n",
    "reliability_levels = [.5,.75,.95]\n",
    "\n",
    "warehouse_cap_level = 1 #time intervals average amount of supply that can be stored\n",
    "\n",
    "trade_off_dict = {}"
   ]
  },
  {
   "cell_type": "code",
   "execution_count": 6,
   "metadata": {},
   "outputs": [],
   "source": [
    "def triangular_dist_demand(a,b,c,prob):\n",
    "    if prob <= (c-a)/(b-a):\n",
    "        return(a+((((prob)*(b-a)*(c-a)))**(1/2)))\n",
    "    else:\n",
    "        return(b-(((1-prob)*(b-a)*(b-c))**(1/2)))"
   ]
  },
  {
   "cell_type": "code",
   "execution_count": 7,
   "metadata": {},
   "outputs": [],
   "source": [
    "def triangular_dist_supply(a,b,c,prob):\n",
    "    if 1-prob <= (c-a)/(b-a):\n",
    "        return(a+((((1-prob)*(b-a)*(c-a)))**(1/2)))\n",
    "    else:\n",
    "        return(b-(((prob)*(b-a)*(b-c))**(1/2)))"
   ]
  },
  {
   "cell_type": "code",
   "execution_count": 8,
   "metadata": {},
   "outputs": [],
   "source": [
    "def lead_time_dist(a,b,c):\n",
    "    lead_time_dist_array = np.zeros(T_set+1)\n",
    "    cum_prob = 0\n",
    "    t = 0\n",
    "    \n",
    "    while t < b+1:\n",
    "        if t+1 <= a:\n",
    "            t = t+1 \n",
    "        elif (a < t+1 & t+1 <= c):\n",
    "            cum_prob_temp = ((t+1-a)**2)/((b+1-a)*(c-a))\n",
    "            prob = cum_prob_temp - cum_prob\n",
    "            lead_time_dist_array[t] = prob\n",
    "            cum_prob = cum_prob_temp\n",
    "            t = t+1\n",
    "        elif c < t+1 & t+1 <= b+1:\n",
    "            cum_prob_temp = 1-((b+1-(t+1))**2)/((b+1-a)*(b+1-c))\n",
    "            prob = cum_prob_temp - cum_prob\n",
    "            lead_time_dist_array[t] = prob\n",
    "            cum_prob = cum_prob_temp\n",
    "            t = t+1\n",
    "    \n",
    "    return(lead_time_dist_array)"
   ]
  },
  {
   "cell_type": "code",
   "execution_count": 9,
   "metadata": {},
   "outputs": [],
   "source": [
    "#define demand attributes      \n",
    "dem_dictionary_k = {1: [40000, 80000, 50000]\n",
    "}\n",
    "\n",
    "#define supply attributes\n",
    "#capacity\n",
    "cap_dictionary_supplier_SKU = {1: [9000,11000,10000], #min, max, likely, a,b,c\n",
    "                     2: [10000,20000,15000], \n",
    "                     3: [17000,20000,17000],\n",
    "                     4: [40000,100000,60000]}\n",
    "\n",
    "\n",
    "#lead-time\n",
    "lead_time_dictionary_supplier_SKU = {1: [3,5,4], #min, max, likely, a,b,c\n",
    "                     2: [1,3,2], \n",
    "                     3: [4,6,3],\n",
    "                     4: [0,2,0]}\n",
    "\n",
    "#dynamic adj\n",
    "dynamic_adj_dem = [0.5, 0.55, 0.6, 1, 1.1, 1.5, 1.6, 1.2, 1.1, 0.85]\n",
    "dynamic_adj_supply = np.zeros(T_set)\n",
    "for t in range(1, T_set+1):\n",
    "    if dynamic_adj_dem[t-1] < 1:\n",
    "        dynamic_adj_supply[t-1] = 1+(1-dynamic_adj_dem[t-1])\n",
    "    else:\n",
    "        dynamic_adj_supply[t-1] = 2-dynamic_adj_dem[t-1]\n",
    "\n",
    "budget = 1700000\n",
    "reliability_level = .75\n",
    "dynamic = True\n",
    "\n",
    "#supplier-SKU names\n",
    "names_supplier_SKU = ['Supplier 1 - SKU: N95-MG', 'Supplier 1 - SKU: N95-N', \n",
    " 'Supplier 2 - SKU: SUR-MG', 'Supplier 2 - SKU: SUR-N']"
   ]
  },
  {
   "cell_type": "code",
   "execution_count": 10,
   "metadata": {},
   "outputs": [],
   "source": [
    "def initialize_model(reliability_level, \n",
    "                     budget_level):\n",
    "\n",
    "    #define parameters\n",
    "    k = 1\n",
    "\n",
    "    ###health care commodity metric parameters####\n",
    "    #rank\n",
    "    r_k_dict = {\n",
    "        1 : 1\n",
    "    }\n",
    "\n",
    "    #quality \n",
    "    q_i_dict = {\n",
    "        1 : 1,\n",
    "        2: .5,\n",
    "        3: .5,\n",
    "        4: .2\n",
    "    }\n",
    "\n",
    "\n",
    "    ####Supply Parameters#####\n",
    "\n",
    "    #lead time (supplier 3 has the lowest lead time)\n",
    "    f_i_tDiff_dict = {}\n",
    "    for i in range(1,I_set+1):\n",
    "        lead_time_dist_array = lead_time_dist(lead_time_dictionary_supplier_SKU.get(i)[0],\n",
    "                                             lead_time_dictionary_supplier_SKU.get(i)[1],\n",
    "                                             lead_time_dictionary_supplier_SKU.get(i)[2])\n",
    "        for t in range(0,T_set+1):\n",
    "                    f_i_tDiff_dict[tuple([i,t])] = lead_time_dist_array[t]\n",
    "\n",
    "\n",
    "    #incoming orders\n",
    "    o_i_t_init_dict = {}\n",
    "\n",
    "\n",
    "    for i in range(1,I_set+1):\n",
    "        for t in range(1,T_set+1):\n",
    "            if t <= 2:\n",
    "                o_i_t_init_dict[tuple([i,t])] = 0 #20000/4 #5000\n",
    "            else:\n",
    "                o_i_t_init_dict[tuple([i,t])] = 0\n",
    "\n",
    "\n",
    "\n",
    "    #lead time (supplier 1 has the higest capacity)\n",
    "    CAP_i_t_dict = {}\n",
    "\n",
    "    for i in range(1,I_set+1):\n",
    "        cap_temp = triangular_dist_supply(cap_dictionary_supplier_SKU.get(i)[0],\n",
    "                                          cap_dictionary_supplier_SKU.get(i)[1],\n",
    "                                          cap_dictionary_supplier_SKU.get(i)[2],\n",
    "                                          reliability_level)\n",
    "        if (dynamic == True):\n",
    "            for t in range(1,T_set+1):\n",
    "                cap_temp_2 = cap_temp*dynamic_adj_supply[t-1]\n",
    "                CAP_i_t_dict[tuple([i,t])] = cap_temp_2\n",
    "        else:\n",
    "            for t in range(1,T_set+1):\n",
    "                CAP_i_t_dict[tuple([i,t])] = cap_temp\n",
    "\n",
    "    ####Demand Parameters####\n",
    "    n_k_init_dict = {\n",
    "        1 : 0\n",
    "    }\n",
    "\n",
    "\n",
    "    #demand RV\n",
    "    D_k_t_dict = {}\n",
    "    demand_temp = triangular_dist_demand(dem_dictionary_k.get(k)[0],\n",
    "                                         dem_dictionary_k.get(k)[1],\n",
    "                                         dem_dictionary_k.get(k)[2],\n",
    "                                         reliability_level)\n",
    "\n",
    "    if (dynamic == True):\n",
    "        for t in range(1,T_set+1):\n",
    "            demand_temp_2 =demand_temp*dynamic_adj_dem[t-1]\n",
    "            D_k_t_dict[tuple([k,t])] = demand_temp_2\n",
    "    else:\n",
    "        for t in range(1,T_set+1):\n",
    "            D_k_t_dict[tuple([k,t])] = demand_temp\n",
    "\n",
    "\n",
    "    #starting inventory\n",
    "    z_i_init_dict = {\n",
    "        1 : 8000,\n",
    "        2 : 8000,\n",
    "        3 : 8000,\n",
    "        4 : 8000\n",
    "    }\n",
    "\n",
    "    #size\n",
    "    s_i_dict = {\n",
    "        1 : 1,\n",
    "        2 : 1,\n",
    "        3 : 1,\n",
    "        4 : 1\n",
    "    }\n",
    "\n",
    "    #warehouse capacity\n",
    "    h = 80000*warehouse_cap_level \n",
    "\n",
    "    #cost (supplier 2 has the lowest cost)\n",
    "    c_i_dict = {\n",
    "        1 : 10,\n",
    "        2 : 5,\n",
    "        3 : 6,\n",
    "        4 : .8\n",
    "    }\n",
    "\n",
    "    b = 100000*budget_level\n",
    "    \n",
    "    model = ConcreteModel()\n",
    "\n",
    "    #####define sets#######\n",
    "    model.K = Set(initialize = range(1,K_set+1))\n",
    "    model.I = Set(initialize = range(1,I_set+1))\n",
    "    model.T = Set(initialize = range(1,T_set+1))\n",
    "    model.T_0 = Set(initialize = range(0,T_set+1))\n",
    "\n",
    "    ####initialize parameters####\n",
    "\n",
    "    def rank_param_initialize(model, k):\n",
    "        return(r_k_dict.get(k))\n",
    "\n",
    "    model.r_k = Param(model.K, initialize = rank_param_initialize)\n",
    "\n",
    "    def discount_param_initialize(model, k, t):\n",
    "        discount_temp = 1/model.r_k[k]\n",
    "        numerator = ((1+discount_temp)**T_set)\n",
    "        denominator = ((1+discount_temp)**(t-1))\n",
    "\n",
    "        return(numerator/denominator)\n",
    "\n",
    "    model.tau_k_t = Param(model.K, model.T, initialize = discount_param_initialize)\n",
    "\n",
    "    #model.tau_k_t.pprint()\n",
    "\n",
    "    def quality_param_initialize(model, i):\n",
    "        return(q_i_dict.get(i))\n",
    "\n",
    "    model.q_i = Param(model.I, initialize = quality_param_initialize)\n",
    "\n",
    "    #model.q_k_i.pprint()\n",
    "\n",
    "    def delay_dist_param_initialize(model, i, t):\n",
    "        return(f_i_tDiff_dict.get(tuple([i,t])))\n",
    "\n",
    "    model.f_i_tDiff = Param(model.I, model.T_0, \n",
    "                              initialize = delay_dist_param_initialize)\n",
    "\n",
    "    #model.f_k_i_tDiff.pprint()\n",
    "\n",
    "    def incoming_orders_initialize(model, i, t):\n",
    "        return(o_i_t_init_dict.get(tuple([i,t])))\n",
    "\n",
    "    model.o_i_t_init = Param(model.I, model.T, initialize = incoming_orders_initialize)\n",
    "\n",
    "    #model.o_k_i_t.pprint()\n",
    "\n",
    "    def supplier_cap_param_initialize(model, i, t):\n",
    "        return(CAP_i_t_dict.get(tuple([i,t])))\n",
    "\n",
    "    model.cap_i_t = Param(model.I, model.T, initialize = supplier_cap_param_initialize)\n",
    "\n",
    "    #model.cap_k_i_t.pprint()\n",
    "\n",
    "    def unfulfilled_demand_param_initialize(model, k):\n",
    "        return(n_k_init_dict.get(k))\n",
    "\n",
    "    model.n_k_init = Param(model.K, initialize = unfulfilled_demand_param_initialize)\n",
    "\n",
    "    #model.n_k_intialize.pprint()\n",
    "\n",
    "    #assume preparing for one sd above the mean\n",
    "    def demand_param_initialize(model, k, t):\n",
    "        return(D_k_t_dict.get(tuple([k,t])))\n",
    "\n",
    "    model.d_k_t = Param(model.K, model.T, initialize = demand_param_initialize)\n",
    "\n",
    "    #model.d_k_t.pprint()\n",
    "\n",
    "    def beg_inv_param_initialize(model, i):\n",
    "        return(z_i_init_dict.get(i))\n",
    "\n",
    "    model.z_i_init = Param(model.I, initialize = beg_inv_param_initialize)\n",
    "\n",
    "    #model.z_k_i_init.pprint()\n",
    "\n",
    "    def item_size_param_initialize(model, i):\n",
    "        return(s_i_dict.get(i))\n",
    "\n",
    "    model.s_i = Param(model.I, initialize = item_size_param_initialize)\n",
    "\n",
    "    #model.s_k.pprint()\n",
    "\n",
    "    def warehouse_cap_param_initialize(model):\n",
    "        return(h)\n",
    "\n",
    "    model.h = Param(initialize = h)\n",
    "\n",
    "    #model.h.pprint()\n",
    "\n",
    "    def cost_param_initialize(model, i):\n",
    "        return(c_i_dict.get(1))\n",
    "\n",
    "    model.c_i = Param(model.I, initialize = cost_param_initialize)\n",
    "\n",
    "    #model.c_k_i.pprint()\n",
    "\n",
    "    def budget_param_initialize(model):\n",
    "        return(b)\n",
    "\n",
    "    model.b = Param(initialize = budget_param_initialize)\n",
    "\n",
    "    #model.b.pprint()\n",
    "\n",
    "    ####initialize variables####\n",
    "    model.x_i_t = Var(model.I, model.T, within = NonNegativeReals) #amount ordered\n",
    "    model.y_i_t = Var(model.I, model.T, within = NonNegativeReals) #amount recieved\n",
    "    model.z_i_t = Var(model.I, model.T, within = NonNegativeReals)\n",
    "    model.n_k_t = Var(model.K, model.T, within = NonNegativeReals)\n",
    "    model.m_k_i_t = Var(model.K, model.I, model.T, within = NonNegativeReals)\n",
    "    \n",
    "    return(model)"
   ]
  },
  {
   "cell_type": "code",
   "execution_count": 11,
   "metadata": {},
   "outputs": [],
   "source": [
    "def initialize_objective(model):\n",
    "    model.Objective = Objective(expr = \n",
    "                                (sum(model.q_i[i]*sum(model.tau_k_t[k,t]*model.m_k_i_t[k,i,t] \n",
    "                                                          for t in model.T) \n",
    "                                     for i in model.I for k in model.K)),\n",
    "                                sense = maximize)\n",
    "    \n",
    "    return(model)"
   ]
  },
  {
   "cell_type": "code",
   "execution_count": 12,
   "metadata": {},
   "outputs": [],
   "source": [
    "def initialize_constraints(model):\n",
    "    def initalize_unsatisfied_demand_constraint_initialize(model, k):\n",
    "        return(model.n_k_t[k,1] == model.n_k_init[k])\n",
    "\n",
    "    model.initalize_unsatisfied_demand_constraint= \\\n",
    "    Constraint(model.K, rule = initalize_unsatisfied_demand_constraint_initialize)\n",
    "\n",
    "    def calculate_unsatisfied_demand_constraint_initialize(model,k,t):\n",
    "        if (t == 1):\n",
    "            return(sum(model.m_k_i_t[k,i,t] for i in model.I) <= model.n_k_t[k,t] + model.d_k_t[k,t])\n",
    "        else:\n",
    "            return(model.n_k_t[k,t] == model.n_k_t[k,t-1] + model.d_k_t[k,t] \\\n",
    "                   - sum(model.m_k_i_t[k,i,t] for i in model.I))\n",
    "\n",
    "    model.calculate_unsatisfied_demand_constraint = \\\n",
    "    Constraint(model.K, model.T, rule = calculate_unsatisfied_demand_constraint_initialize)\n",
    "\n",
    "    def supplier_constraint_initialize(model, i, t):\n",
    "        return(model.x_i_t[i,t] <= model.cap_i_t[i,t])\n",
    "\n",
    "    model.supplier_constraint = \\\n",
    "    Constraint( model.I, model.T, rule = supplier_constraint_initialize)\n",
    "\n",
    "    def incoming_orders_constraint_initialize(model, i, t):\n",
    "        return(model.y_i_t[i,t] - \n",
    "               sum(model.f_i_tDiff[i, t-t_ordered_time]*model.x_i_t[i,t_ordered_time] \n",
    "                   for t_ordered_time in range(1,t+1)) - model.o_i_t_init[i,t] == 0)\n",
    "\n",
    "    model.incoming_ordered_constraint = Constraint(model.I, model.T, \n",
    "                                                   rule = incoming_orders_constraint_initialize)\n",
    "\n",
    "    def beggining_inventory_constraint_initialize(model, i):\n",
    "        return(model.z_i_t[i,1] == model.z_i_init[i])\n",
    "\n",
    "    model.beggining_inventory_constraint = Constraint(model.I, \n",
    "                                                      rule = beggining_inventory_constraint_initialize)\n",
    "\n",
    "    def calculate_available_inventory_constraint_initialize(model, i, t):\n",
    "        if (t > 1):\n",
    "            return(model.z_i_t[i,t] == model.z_i_t[i,t-1] + model.y_i_t[i,t-1] - \\\n",
    "                   sum(model.m_k_i_t[k,i,t-1] for k in model.K))\n",
    "        else:\n",
    "            return(Constraint.Skip)\n",
    "\n",
    "    model.calculate_available_inventory_constraint = Constraint(model.I, model.T,\n",
    "                                                                rule = \n",
    "                                                                calculate_available_inventory_constraint_initialize)\n",
    "\n",
    "    def cannot_fulfill_more_than_available_constraint_initialize(model, i, t):\n",
    "        return(sum(model.m_k_i_t[k,i,t] for k in model.K) - model.z_i_t[i,t] <= 0)\n",
    "\n",
    "    model.cannot_fulfill_more_than_available_constraint = \\\n",
    "    Constraint(model.I, model.T, rule = cannot_fulfill_more_than_available_constraint_initialize)\n",
    "\n",
    "    def warehouse_capacity_constraint_initialize(model, t):\n",
    "        return(sum(model.s_i[i]*model.z_i_t[i,t] for i in model.I) <= model.h)\n",
    "\n",
    "    model.warehouse_capacity_constraint = \\\n",
    "    Constraint(model.T, rule = warehouse_capacity_constraint_initialize)\n",
    "\n",
    "    def budget_constraint_initialize(model):\n",
    "        return(sum(model.c_i[i]*model.x_i_t[i,t] \n",
    "                   for i in model.I for t in model.T) \n",
    "               <= model.b)\n",
    "\n",
    "    model.budget_constraint = \\\n",
    "    Constraint(rule = budget_constraint_initialize)\n",
    "    \n",
    "    return(model)"
   ]
  },
  {
   "cell_type": "code",
   "execution_count": 13,
   "metadata": {},
   "outputs": [],
   "source": [
    "def extract_data(model, reliability_level, budget, \n",
    "                 unsatisfied_df, fulfilled_df, ordered_df, actual,\n",
    "                HCC_dict):\n",
    "    \n",
    "    #extract from unsatisfied_df\n",
    "    def unsatisfied_df_update(unsatisfied_df):\n",
    "        if unsatisfied_df.empty:\n",
    "            unsatisfied_df = pd.DataFrame(list(model.n_k_t.extract_values().items()),\\\n",
    "                                          columns = ['sets','units_unsatisfied'])\n",
    "            unsatisfied_df = unsatisfied_df[unsatisfied_df['units_unsatisfied'].notnull()]            \n",
    "            unsatisfied_df.loc[:,'item_type']=unsatisfied_df.sets.map(lambda x:x[0])\n",
    "            unsatisfied_df.loc[:,'time_interval']=unsatisfied_df.sets.map(lambda x:x[1])\n",
    "            unsatisfied_df = unsatisfied_df[['item_type', 'time_interval', \n",
    "                                             'units_unsatisfied']]\n",
    "            unsatisfied_df ['reliability_level'] = [reliability_level]*len(unsatisfied_df)\n",
    "            unsatisfied_df['budget'] = [budget]*len(unsatisfied_df)\n",
    "            return(unsatisfied_df)\n",
    "        else:\n",
    "            unsatisfied_df_temp = pd.DataFrame(list(model.n_k_t.extract_values().items()),\\\n",
    "                                          columns = ['sets','units_unsatisfied'])\n",
    "            unsatisfied_df_temp.loc[:,'item_type']=unsatisfied_df_temp.sets.map(lambda x:x[0])\n",
    "            unsatisfied_df_temp.loc[:,'time_interval']=unsatisfied_df_temp.sets.map(lambda x:x[1])\n",
    "            unsatisfied_df_temp = unsatisfied_df_temp[['item_type', 'time_interval', \n",
    "                                                       'units_unsatisfied']]\n",
    "            unsatisfied_df_temp ['reliability_level'] = [reliability_level]*len(unsatisfied_df_temp)\n",
    "            unsatisfied_df_temp['budget'] = [budget]*len(unsatisfied_df_temp)\n",
    "            unsatisfied_df_temp = unsatisfied_df_temp[unsatisfied_df_temp['units_unsatisfied'].notnull()]\n",
    "\n",
    "            return(unsatisfied_df.append(unsatisfied_df_temp, ignore_index=True))\n",
    "        \n",
    "    #extract from satisfied_df\n",
    "    def fulfilled_df_update(fulfilled_df):\n",
    "        if fulfilled_df.empty:\n",
    "            fulfilled_df = pd.DataFrame(list(model.m_k_i_t.extract_values().items()),columns = ['sets','units_fulfilled'])\n",
    "            fulfilled_df.loc[:,'item_type']=fulfilled_df.sets.map(lambda x:x[0])\n",
    "            fulfilled_df.loc[:,'supplier']=fulfilled_df.sets.map(lambda x:x[1])\n",
    "            fulfilled_df.loc[:,'time_interval']=fulfilled_df.sets.map(lambda x:x[2])\n",
    "            fulfilled_df['reliability_level'] = [reliability_level]*len(fulfilled_df)\n",
    "            fulfilled_df['budget'] = [budget]*len(fulfilled_df)\n",
    "            fulfilled_df = fulfilled_df[fulfilled_df['units_fulfilled'].notnull()]\n",
    "            return(fulfilled_df)\n",
    "        else:\n",
    "            fulfilled_df_temp = pd.DataFrame(list(model.m_k_i_t.extract_values().items()),columns = ['sets','units_fulfilled'])\n",
    "            fulfilled_df_temp.loc[:,'item_type']=fulfilled_df_temp.sets.map(lambda x:x[0])\n",
    "            fulfilled_df_temp.loc[:,'supplier']=fulfilled_df_temp.sets.map(lambda x:x[1])\n",
    "            fulfilled_df_temp.loc[:,'time_interval']=fulfilled_df_temp.sets.map(lambda x:x[2])\n",
    "            fulfilled_df_temp['reliability_level'] = [reliability_level]*len(fulfilled_df_temp)\n",
    "            fulfilled_df_temp['budget'] = [budget]*len(fulfilled_df_temp)\n",
    "            fulfilled_df_temp = fulfilled_df_temp[fulfilled_df_temp['units_fulfilled'].notnull()]\n",
    "\n",
    "            return(fulfilled_df.append(fulfilled_df_temp, ignore_index=True))\n",
    "        \n",
    "    def ordered_df_update(ordered_df):\n",
    "        if ordered_df.empty:\n",
    "            ordered_df = pd.DataFrame(list(model.x_i_t.extract_values().items()),columns = ['sets','units_to_order'])\n",
    "            ordered_df.loc[:,'supplier']=ordered_df.sets.map(lambda x:x[0])\n",
    "            ordered_df.loc[:,'time_interval']=ordered_df.sets.map(lambda x:x[1])\n",
    "            ordered_df['reliability_level'] = [reliability_level]*len(ordered_df)\n",
    "            ordered_df['budget'] = [budget]*len(ordered_df)\n",
    "            \n",
    "            return(ordered_df)\n",
    "        else:\n",
    "            ordered_df_temp = pd.DataFrame(list(model.x_i_t.extract_values().items()),columns = ['sets','units_to_order'])\n",
    "            ordered_df_temp.loc[:,'supplier']=ordered_df_temp.sets.map(lambda x:x[0])\n",
    "            ordered_df_temp.loc[:,'time_interval']=ordered_df_temp.sets.map(lambda x:x[1])\n",
    "            ordered_df_temp['reliability_level'] = [reliability_level]*len(ordered_df_temp)\n",
    "            ordered_df_temp['budget'] = [budget]*len(ordered_df_temp)\n",
    "            \n",
    "            return(ordered_df.append(ordered_df_temp, ignore_index = True))\n",
    "    \n",
    "    HCC_dict[tuple([budget, reliability_level])] = model.Objective.expr()\n",
    "    \n",
    "    unsatisfied_df = unsatisfied_df_update(unsatisfied_df)\n",
    "    fulfilled_df = fulfilled_df_update(fulfilled_df)\n",
    "    ordered_df = ordered_df_update(ordered_df)\n",
    "    \n",
    "    return(unsatisfied_df, fulfilled_df, ordered_df, HCC_dict)"
   ]
  },
  {
   "cell_type": "code",
   "execution_count": 16,
   "metadata": {},
   "outputs": [
    {
     "name": "stdout",
     "output_type": "stream",
     "text": [
      "WARNING: Could not locate the 'glpsol' executable, which is required for\n",
      "    solver 'glpk'\n"
     ]
    },
    {
     "ename": "ApplicationError",
     "evalue": "No executable found for solver 'glpk'",
     "output_type": "error",
     "traceback": [
      "\u001b[0;31m---------------------------------------------------------------------------\u001b[0m",
      "\u001b[0;31mApplicationError\u001b[0m                          Traceback (most recent call last)",
      "\u001b[0;32m<ipython-input-16-f48e71275898>\u001b[0m in \u001b[0;36m<module>\u001b[0;34m\u001b[0m\n\u001b[1;32m     16\u001b[0m         \u001b[0;31m#opt.solve(model)\u001b[0m\u001b[0;34m\u001b[0m\u001b[0;34m\u001b[0m\u001b[0;34m\u001b[0m\u001b[0m\n\u001b[1;32m     17\u001b[0m         \u001b[0mopt\u001b[0m \u001b[0;34m=\u001b[0m \u001b[0mpyomo\u001b[0m\u001b[0;34m.\u001b[0m\u001b[0mopt\u001b[0m\u001b[0;34m.\u001b[0m\u001b[0mSolverFactory\u001b[0m\u001b[0;34m(\u001b[0m\u001b[0;34m\"glpk\"\u001b[0m\u001b[0;34m)\u001b[0m\u001b[0;34m\u001b[0m\u001b[0;34m\u001b[0m\u001b[0m\n\u001b[0;32m---> 18\u001b[0;31m         \u001b[0mresults\u001b[0m \u001b[0;34m=\u001b[0m \u001b[0mopt\u001b[0m\u001b[0;34m.\u001b[0m\u001b[0msolve\u001b[0m\u001b[0;34m(\u001b[0m\u001b[0mmodel\u001b[0m\u001b[0;34m)\u001b[0m\u001b[0;34m\u001b[0m\u001b[0;34m\u001b[0m\u001b[0m\n\u001b[0m\u001b[1;32m     19\u001b[0m         \u001b[0mopt\u001b[0m\u001b[0;34m.\u001b[0m\u001b[0msolve\u001b[0m\u001b[0;34m(\u001b[0m\u001b[0mmodel\u001b[0m\u001b[0;34m)\u001b[0m\u001b[0;34m\u001b[0m\u001b[0;34m\u001b[0m\u001b[0m\n\u001b[1;32m     20\u001b[0m \u001b[0;34m\u001b[0m\u001b[0m\n",
      "\u001b[0;32m~/opt/anaconda3/envs/epi_supplychain_env/lib/python3.8/site-packages/pyomo/opt/base/solvers.py\u001b[0m in \u001b[0;36msolve\u001b[0;34m(self, *args, **kwds)\u001b[0m\n\u001b[1;32m    514\u001b[0m         \u001b[0;34m\"\"\" Solve the problem \"\"\"\u001b[0m\u001b[0;34m\u001b[0m\u001b[0;34m\u001b[0m\u001b[0m\n\u001b[1;32m    515\u001b[0m \u001b[0;34m\u001b[0m\u001b[0m\n\u001b[0;32m--> 516\u001b[0;31m         \u001b[0mself\u001b[0m\u001b[0;34m.\u001b[0m\u001b[0mavailable\u001b[0m\u001b[0;34m(\u001b[0m\u001b[0mexception_flag\u001b[0m\u001b[0;34m=\u001b[0m\u001b[0;32mTrue\u001b[0m\u001b[0;34m)\u001b[0m\u001b[0;34m\u001b[0m\u001b[0;34m\u001b[0m\u001b[0m\n\u001b[0m\u001b[1;32m    517\u001b[0m         \u001b[0;31m#\u001b[0m\u001b[0;34m\u001b[0m\u001b[0;34m\u001b[0m\u001b[0;34m\u001b[0m\u001b[0m\n\u001b[1;32m    518\u001b[0m         \u001b[0;31m# If the inputs are models, then validate that they have been\u001b[0m\u001b[0;34m\u001b[0m\u001b[0;34m\u001b[0m\u001b[0;34m\u001b[0m\u001b[0m\n",
      "\u001b[0;32m~/opt/anaconda3/envs/epi_supplychain_env/lib/python3.8/site-packages/pyomo/opt/solver/shellcmd.py\u001b[0m in \u001b[0;36mavailable\u001b[0;34m(self, exception_flag)\u001b[0m\n\u001b[1;32m    116\u001b[0m             \u001b[0;32mif\u001b[0m \u001b[0mexception_flag\u001b[0m\u001b[0;34m:\u001b[0m\u001b[0;34m\u001b[0m\u001b[0;34m\u001b[0m\u001b[0m\n\u001b[1;32m    117\u001b[0m                 \u001b[0mmsg\u001b[0m \u001b[0;34m=\u001b[0m \u001b[0;34m\"No executable found for solver '%s'\"\u001b[0m\u001b[0;34m\u001b[0m\u001b[0;34m\u001b[0m\u001b[0m\n\u001b[0;32m--> 118\u001b[0;31m                 \u001b[0;32mraise\u001b[0m \u001b[0mApplicationError\u001b[0m\u001b[0;34m(\u001b[0m\u001b[0mmsg\u001b[0m \u001b[0;34m%\u001b[0m \u001b[0mself\u001b[0m\u001b[0;34m.\u001b[0m\u001b[0mname\u001b[0m\u001b[0;34m)\u001b[0m\u001b[0;34m\u001b[0m\u001b[0;34m\u001b[0m\u001b[0m\n\u001b[0m\u001b[1;32m    119\u001b[0m             \u001b[0;32mreturn\u001b[0m \u001b[0;32mFalse\u001b[0m\u001b[0;34m\u001b[0m\u001b[0;34m\u001b[0m\u001b[0m\n\u001b[1;32m    120\u001b[0m         \u001b[0;32mreturn\u001b[0m \u001b[0;32mTrue\u001b[0m\u001b[0;34m\u001b[0m\u001b[0;34m\u001b[0m\u001b[0m\n",
      "\u001b[0;31mApplicationError\u001b[0m: No executable found for solver 'glpk'"
     ]
    }
   ],
   "source": [
    "fulfilled_df_plan = pd.DataFrame()\n",
    "unsatisfied_df_plan = pd.DataFrame()\n",
    "ordered_df_plan = pd.DataFrame()\n",
    "HCC_dict = {}\n",
    "\n",
    "for r in reliability_levels:\n",
    "    \n",
    "    objective_itr = [0,1]\n",
    "    b = 1\n",
    "    while(objective_itr[b-1] < objective_itr[b]):    \n",
    "        model = initialize_model(r, b)\n",
    "        model = initialize_objective(model)\n",
    "        model = initialize_constraints(model)\n",
    "        #opt = SolverFactory('gurobi_persistent')\n",
    "        #opt.set_instance(model)\n",
    "        #opt.solve(model)\n",
    "        opt = pyomo.opt.SolverFactory(\"glpk\")\n",
    "        results = opt.solve(model)\n",
    "        opt.solve(model)\n",
    "        \n",
    "        if (objective_itr[b-1] < objective_itr[b]):\n",
    "            #extract data\n",
    "            trade_off_dict[tuple([r,b*100000])] = value(model.Objective) #model.Objective.value()\n",
    "            objective_itr.append(value(model.Objective))#model.Objective.value())\n",
    "\n",
    "            unsatisfied_df_plan, fulfilled_df_plan, ordered_df_plan, HCC_dict = \\\n",
    "            extract_data(model, r, b*100000, unsatisfied_df_plan, \n",
    "                         fulfilled_df_plan, ordered_df_plan, 'NA',\n",
    "                         HCC_dict)\n",
    "        \n",
    "        b = b + 1"
   ]
  },
  {
   "cell_type": "code",
   "execution_count": null,
   "metadata": {},
   "outputs": [],
   "source": [
    "#with open('test.csv', 'w') as f:\n",
    "#    for key in trade_off_dict.keys():\n",
    "#        f.write(\"%s,%s\\n\"%(key,trade_off_dict[key]))"
   ]
  },
  {
   "cell_type": "code",
   "execution_count": 2,
   "metadata": {},
   "outputs": [
    {
     "ename": "NameError",
     "evalue": "name 'trade_off_dict' is not defined",
     "output_type": "error",
     "traceback": [
      "\u001b[0;31m---------------------------------------------------------------------------\u001b[0m",
      "\u001b[0;31mNameError\u001b[0m                                 Traceback (most recent call last)",
      "\u001b[0;32m<ipython-input-2-86199131c7d3>\u001b[0m in \u001b[0;36m<module>\u001b[0;34m\u001b[0m\n\u001b[1;32m      3\u001b[0m \u001b[0mobj_value\u001b[0m \u001b[0;34m=\u001b[0m \u001b[0;34m[\u001b[0m\u001b[0;34m]\u001b[0m\u001b[0;34m\u001b[0m\u001b[0;34m\u001b[0m\u001b[0m\n\u001b[1;32m      4\u001b[0m \u001b[0;34m\u001b[0m\u001b[0m\n\u001b[0;32m----> 5\u001b[0;31m \u001b[0;32mfor\u001b[0m \u001b[0mk\u001b[0m \u001b[0;32min\u001b[0m \u001b[0mtrade_off_dict\u001b[0m\u001b[0;34m.\u001b[0m\u001b[0mkeys\u001b[0m\u001b[0;34m(\u001b[0m\u001b[0;34m)\u001b[0m\u001b[0;34m:\u001b[0m\u001b[0;34m\u001b[0m\u001b[0;34m\u001b[0m\u001b[0m\n\u001b[0m\u001b[1;32m      6\u001b[0m     \u001b[0mobj_value\u001b[0m\u001b[0;34m.\u001b[0m\u001b[0mappend\u001b[0m\u001b[0;34m(\u001b[0m\u001b[0mtrade_off_dict\u001b[0m\u001b[0;34m.\u001b[0m\u001b[0mget\u001b[0m\u001b[0;34m(\u001b[0m\u001b[0mk\u001b[0m\u001b[0;34m)\u001b[0m\u001b[0;34m)\u001b[0m\u001b[0;34m\u001b[0m\u001b[0;34m\u001b[0m\u001b[0m\n\u001b[1;32m      7\u001b[0m     \u001b[0mbudget\u001b[0m\u001b[0;34m.\u001b[0m\u001b[0mappend\u001b[0m\u001b[0;34m(\u001b[0m\u001b[0mk\u001b[0m\u001b[0;34m[\u001b[0m\u001b[0;36m1\u001b[0m\u001b[0;34m]\u001b[0m\u001b[0;34m)\u001b[0m\u001b[0;34m\u001b[0m\u001b[0;34m\u001b[0m\u001b[0m\n",
      "\u001b[0;31mNameError\u001b[0m: name 'trade_off_dict' is not defined"
     ]
    }
   ],
   "source": [
    "budget = []\n",
    "reliability = []\n",
    "obj_value = []\n",
    "\n",
    "for k in trade_off_dict.keys():\n",
    "    obj_value.append(trade_off_dict.get(k))\n",
    "    budget.append(k[1])\n",
    "    reliability.append(\"{:.0%}\".format(k[0]))"
   ]
  },
  {
   "cell_type": "code",
   "execution_count": null,
   "metadata": {},
   "outputs": [],
   "source": [
    "plot.rcParams['legend.title_fontsize'] = 'Large'"
   ]
  },
  {
   "cell_type": "code",
   "execution_count": null,
   "metadata": {},
   "outputs": [],
   "source": [
    "trade_off_df = pd.DataFrame([budget,reliability, obj_value]).transpose()\n",
    "trade_off_df.columns = ['budget', 'reliability', 'obj_value']"
   ]
  },
  {
   "cell_type": "code",
   "execution_count": null,
   "metadata": {},
   "outputs": [],
   "source": [
    "fulfilled_df_item_time = fulfilled_df_plan.groupby(['item_type', 'time_interval', \n",
    "                      'reliability_level', 'budget'])['units_fulfilled'].sum().reset_index()\n",
    "\n",
    "unsatisfied_df_item_time = unsatisfied_df_plan.groupby(['item_type', 'time_interval', \n",
    "                      'reliability_level', 'budget'])['units_unsatisfied'].sum().reset_index()\n",
    "\n",
    "reliability_df = pd.merge(fulfilled_df_item_time[['item_type', 'time_interval', 'units_fulfilled',\n",
    "                                                  'reliability_level', 'budget']], \n",
    "                          unsatisfied_df_item_time[['item_type', 'time_interval', 'units_unsatisfied',\n",
    "                                          'reliability_level', 'budget']], \n",
    "                          how='left', on=['item_type','time_interval',\n",
    "                                         'reliability_level', 'budget'])\n",
    "\n",
    "reliability_df['total_number_of_open_requests'] = reliability_df['units_fulfilled'] +\\\n",
    "reliability_df['units_unsatisfied'] \n",
    "\n",
    "reliability_df['percent_unsatisfied'] = \\\n",
    "reliability_df['units_unsatisfied']/reliability_df['total_number_of_open_requests']"
   ]
  },
  {
   "cell_type": "code",
   "execution_count": null,
   "metadata": {},
   "outputs": [],
   "source": [
    "unsatisfied_df_plan[['item_type', 'time_interval', 'units_unsatisfied',\n",
    "                                          'reliability_level', 'budget']]"
   ]
  },
  {
   "cell_type": "code",
   "execution_count": null,
   "metadata": {},
   "outputs": [],
   "source": [
    "reliability_df_grouped = \\\n",
    "reliability_df.groupby(['reliability_level', 'budget'])['percent_unsatisfied'].sum().reset_index()"
   ]
  },
  {
   "cell_type": "code",
   "execution_count": null,
   "metadata": {},
   "outputs": [],
   "source": [
    "reliability_df = pd.merge(fulfilled_df_item_time[['item_type', 'time_interval', 'units_fulfilled',\n",
    "                                                  'reliability_level', 'budget']], \n",
    "                          unsatisfied_df_plan[['item_type', 'time_interval', 'units_unsatisfied',\n",
    "                                          'reliability_level', 'budget']], \n",
    "                          how='left', on=['item_type','time_interval',\n",
    "                                         'reliability_level', 'budget'])"
   ]
  },
  {
   "cell_type": "code",
   "execution_count": null,
   "metadata": {},
   "outputs": [],
   "source": [
    "reliability_df_grouped['risk_of_understock'] = (reliability_df_grouped['percent_unsatisfied']/(T_set*K_set))"
   ]
  },
  {
   "cell_type": "code",
   "execution_count": null,
   "metadata": {},
   "outputs": [],
   "source": [
    "reliability_df_grouped['budget_thousands'] = reliability_df_grouped['budget']/1000\n",
    "reliability_df_grouped = reliability_df_grouped[reliability_df_grouped['budget_thousands'] <= 1300]\n",
    "reliability_df_grouped['percent_unsatisfied'] = (reliability_df_grouped['risk_of_understock']*100).astype(int)"
   ]
  },
  {
   "cell_type": "code",
   "execution_count": null,
   "metadata": {},
   "outputs": [],
   "source": [
    "os.getcwd()"
   ]
  },
  {
   "cell_type": "code",
   "execution_count": null,
   "metadata": {},
   "outputs": [],
   "source": [
    "fig, ax = plot.subplots(figsize=(6,6))\n",
    "\n",
    "\n",
    "ax.plot('budget_thousands', 'percent_unsatisfied', \n",
    "          data=reliability_df_grouped[reliability_df_grouped['reliability_level'] == reliability_levels[0]],\n",
    "         marker='X', color = 'black', label = '50%', markersize=8)#r'$\\theta^D = \\theta^{CAP}$ = 0' + ' (Assuming Expected Demand and Supplier Capacity)')\n",
    "ax.plot('budget_thousands', 'percent_unsatisfied', \n",
    "          data=reliability_df_grouped[reliability_df_grouped['reliability_level'] == reliability_levels[1]],\n",
    "         marker='o', color = 'black', label = '75%', markersize=8, mfc = 'white') #r'$\\theta^D = \\theta^{CAP}$ = 1' + ' (Assuming Some Variability in Demand and Supplier Capacity)')\n",
    "ax.plot('budget_thousands', 'percent_unsatisfied', \n",
    "          data=reliability_df_grouped[reliability_df_grouped['reliability_level'] == reliability_levels[2]],\n",
    "         marker='D', color = 'gray', label = '95%', markersize = 8)#r'$\\theta^D = \\theta^{CAP}$ = 2' + ' (high reliability)')\n",
    "\n",
    "ax.set_xlabel('Budget (in thousands)', fontsize = 13)\n",
    "ax.set_ylabel('Overall Percent of Unsatisfied Demand', fontsize = 13)\n",
    "\n",
    "#ax.set(ylim=(0, 1), xlim=(0, max(reliability_df_grouped['budget'])))\n",
    "ax.set(ylim=(0, 100), xlim=(0, 1500))\n",
    "#ax.set_title(r'$\\bf{Overall ~ Expected ~Percent ~of ~Unsatisfied ~Demand}$'+\n",
    "#             '\\n'+ r'$\\bf{Under ~Various~ Budgets ~and ~Variability~ in~Demand ~and ~Supplier~Capacity~Assumptions~}$' +\n",
    "#             '\\n \\n \\n where the expected percent of unsatisfied demand for each item during week'#+ r'$(t)$' + ', represented by: \\n'+\\\n",
    "              #r'$\\psi_{k,t} = \\frac{\\alpha_{k,t}}{\\alpha_{k,t} + \\sum_{i \\in I} \\beta_{k,i,t}} \\forall k \\in K, t \\in T$' +\n",
    "#             '\\n ...is averaged over all items and time intervals to obtain the '#+  r'$(K)$'+ ' and time intervals '+  r'$(T)$'+ ' to obtain the:'\\\n",
    "#             '\\n overall expected percent of unsatisfied demand',# + r'$\\frac{\\sum_{t \\in T} \\sum_{k \\in K} \\psi_{k,t}}{K \\times T}$',\n",
    "#             fontsize = 16)\n",
    "\n",
    "ax.yaxis.set_major_formatter(mtick.PercentFormatter())\n",
    "\n",
    "plot.legend(title = 'Demand and Supply \\n Capacity Reliability', \n",
    "            fontsize=13, \n",
    "            fancybox=True)._legend_box.align='center'\n",
    "\n",
    "plot.grid(color='gray', linestyle='-', linewidth=.4, axis = 'y')\n",
    "\n",
    "\n",
    "#os.chdir(os.getcwd()+'/outputs/3_2_1_strategic_decisions')\n",
    "#plot.savefig('budget_high_WH.jpg')\n",
    "plot.savefig('budget_low_WH.jpg')"
   ]
  },
  {
   "cell_type": "code",
   "execution_count": null,
   "metadata": {},
   "outputs": [],
   "source": [
    "stats_df = fulfilled_df_plan[(fulfilled_df_plan['reliability_level'] == .75)&\n",
    "                 (fulfilled_df_plan['budget'] >= 900000)&\n",
    "                 (fulfilled_df_plan['budget'] <= 1300000)&\n",
    "                            ((fulfilled_df_plan['units_fulfilled'] > 0))].reset_index()\n",
    "stats_df = stats_df[['budget','supplier', 'time_interval', 'units_fulfilled']]\n",
    "stats_df['quality'] = [model.q_i[x] for x in stats_df['supplier']]\n",
    "stats_df['quality_norm'] = stats_df['quality']*stats_df['units_fulfilled']"
   ]
  },
  {
   "cell_type": "code",
   "execution_count": null,
   "metadata": {},
   "outputs": [],
   "source": [
    "model.q_i.pprint()"
   ]
  },
  {
   "cell_type": "code",
   "execution_count": null,
   "metadata": {},
   "outputs": [],
   "source": [
    "stats_df_grouped = stats_df.groupby(['budget'])\\\n",
    ".agg({'quality_norm':'sum', \n",
    "     'units_fulfilled':'sum'}).reset_index()"
   ]
  },
  {
   "cell_type": "code",
   "execution_count": null,
   "metadata": {},
   "outputs": [],
   "source": [
    "stats_df_grouped"
   ]
  },
  {
   "cell_type": "code",
   "execution_count": null,
   "metadata": {},
   "outputs": [],
   "source": [
    "overall_percent_stat_df = reliability_df_grouped[(reliability_df_grouped['reliability_level']==.75) \n",
    "                       & (reliability_df_grouped['budget']>=900000)]"
   ]
  },
  {
   "cell_type": "code",
   "execution_count": null,
   "metadata": {},
   "outputs": [],
   "source": [
    "stats_df_grouped = stats_df_grouped.merge(overall_percent_stat_df[['budget', 'risk_of_understock']])"
   ]
  },
  {
   "cell_type": "code",
   "execution_count": null,
   "metadata": {},
   "outputs": [],
   "source": [
    "stats_df_grouped"
   ]
  },
  {
   "cell_type": "code",
   "execution_count": null,
   "metadata": {},
   "outputs": [],
   "source": [
    "stats_df_grouped['quality_norm'] = stats_df_grouped['quality_norm']/stats_df_grouped['units_fulfilled']"
   ]
  },
  {
   "cell_type": "code",
   "execution_count": null,
   "metadata": {},
   "outputs": [],
   "source": [
    "stats_df_grouped"
   ]
  },
  {
   "cell_type": "code",
   "execution_count": null,
   "metadata": {},
   "outputs": [],
   "source": [
    "len(stats_df_grouped)"
   ]
  },
  {
   "cell_type": "code",
   "execution_count": null,
   "metadata": {},
   "outputs": [],
   "source": [
    "def triangular_dist_demand(a,b,c,prob):\n",
    "    if prob <= (c-a)/(b-a):\n",
    "        return(a+((((prob)*(b-a)*(c-a)))**(1/2)))\n",
    "    else:\n",
    "        return(b-(((1-prob)*(b-a)*(b-c))**(1/2)))"
   ]
  },
  {
   "cell_type": "code",
   "execution_count": null,
   "metadata": {},
   "outputs": [],
   "source": [
    "dem_dictionary_k = {1: [40000, 80000, 50000]}\n",
    "\n",
    "#demand RV\n",
    "D_k_t = np.zeros(T_set)\n",
    "\n",
    "demand_temp = triangular_dist_demand(dem_dictionary_k.get(1)[0],\n",
    "                                     dem_dictionary_k.get(1)[1],\n",
    "                                     dem_dictionary_k.get(1)[2],\n",
    "                                     .75)\n",
    "\n",
    "for t in range(T_set):\n",
    "    demand_temp_2 =demand_temp*dynamic_adj_dem[t]\n",
    "    if t == 0:\n",
    "        D_k_t[t] = demand_temp_2\n",
    "    else:\n",
    "        D_k_t[t] = demand_temp_2 + D_k_t[t-1]"
   ]
  },
  {
   "cell_type": "code",
   "execution_count": null,
   "metadata": {},
   "outputs": [],
   "source": [
    "D_k_t2 = []\n",
    "\n",
    "\n",
    "for b in range(len(stats_df_grouped)):\n",
    "    for d in D_k_t:\n",
    "        D_k_t2.append(d)"
   ]
  },
  {
   "cell_type": "code",
   "execution_count": null,
   "metadata": {},
   "outputs": [],
   "source": [
    "D_k_t2"
   ]
  },
  {
   "cell_type": "code",
   "execution_count": null,
   "metadata": {},
   "outputs": [],
   "source": [
    "delay_stats_df = stats_df[stats_df['budget']>=900000][['budget', \n",
    "                                       'time_interval', \n",
    "                                       'units_fulfilled']].groupby(['budget', \n",
    "                                                                    'time_interval']).sum('units_fulfilled').reset_index()"
   ]
  },
  {
   "cell_type": "code",
   "execution_count": null,
   "metadata": {},
   "outputs": [],
   "source": [
    "stats_df_grouped"
   ]
  },
  {
   "cell_type": "code",
   "execution_count": null,
   "metadata": {},
   "outputs": [],
   "source": [
    "cum_fulfilled = []\n",
    "\n",
    "for b in stats_df_grouped['budget']:\n",
    "    temp = delay_stats_df[delay_stats_df['budget'] == b]\n",
    "    fulfilled_counter = 0\n",
    "    for t in range(T_set):\n",
    "        temp2 = temp[temp['time_interval'] == t+1]\n",
    "        \n",
    "        fulfilled_counter = fulfilled_counter + temp2['units_fulfilled'].values\n",
    "        \n",
    "        cum_fulfilled.append(fulfilled_counter)"
   ]
  },
  {
   "cell_type": "code",
   "execution_count": null,
   "metadata": {},
   "outputs": [],
   "source": [
    "len(D_k_t2)"
   ]
  },
  {
   "cell_type": "code",
   "execution_count": null,
   "metadata": {},
   "outputs": [],
   "source": [
    "delay_stats_df"
   ]
  },
  {
   "cell_type": "code",
   "execution_count": null,
   "metadata": {},
   "outputs": [],
   "source": [
    "delay_stats_df['cum_demand'] = D_k_t2\n",
    "delay_stats_df['cum_fulfilled'] = pd.DataFrame(cum_fulfilled)"
   ]
  },
  {
   "cell_type": "code",
   "execution_count": null,
   "metadata": {},
   "outputs": [],
   "source": [
    "delay_stats_df['n_delayed'] = delay_stats_df['cum_demand'] - delay_stats_df['cum_fulfilled']"
   ]
  },
  {
   "cell_type": "code",
   "execution_count": null,
   "metadata": {},
   "outputs": [],
   "source": [
    "stats_df_grouped"
   ]
  },
  {
   "cell_type": "code",
   "execution_count": null,
   "metadata": {},
   "outputs": [],
   "source": [
    "delay_stats_df.loc[delay_stats_df['time_interval'] ==T_set , \n",
    "                   'n_delay0'] = 0\n",
    "\n",
    "delay_stats_df.loc[delay_stats_df['time_interval'] < T_set , \n",
    "                   'n_delay0'] = delay_stats_df['n_delayed']"
   ]
  },
  {
   "cell_type": "code",
   "execution_count": null,
   "metadata": {},
   "outputs": [],
   "source": [
    "delay_calc = []\n",
    "\n",
    "for b in stats_df_grouped['budget']:\n",
    "    temp = delay_stats_df[delay_stats_df['budget'] == b]\n",
    "    temp2 = max(temp['cum_fulfilled'])\n",
    "    \n",
    "    delay_calc.append(sum(temp['n_delay0'])/temp2)"
   ]
  },
  {
   "cell_type": "code",
   "execution_count": null,
   "metadata": {},
   "outputs": [],
   "source": [
    "delay_calc"
   ]
  },
  {
   "cell_type": "code",
   "execution_count": null,
   "metadata": {},
   "outputs": [],
   "source": [
    "perc_improv = []\n",
    "for b in stats_df_grouped['budget']:\n",
    "    start = HCC_dict.get(tuple([b-100000, .75]))/1000\n",
    "    finish = HCC_dict.get(tuple([b, .75]))/1000\n",
    "    \n",
    "    print(((finish-start)/start))"
   ]
  },
  {
   "cell_type": "code",
   "execution_count": null,
   "metadata": {},
   "outputs": [],
   "source": [
    "stats_df_grouped['budget']"
   ]
  },
  {
   "cell_type": "code",
   "execution_count": null,
   "metadata": {},
   "outputs": [],
   "source": [
    "delay_stats_df"
   ]
  },
  {
   "cell_type": "code",
   "execution_count": null,
   "metadata": {},
   "outputs": [],
   "source": []
  }
 ],
 "metadata": {
  "kernelspec": {
   "display_name": "Python 3",
   "language": "python",
   "name": "python3"
  },
  "language_info": {
   "codemirror_mode": {
    "name": "ipython",
    "version": 3
   },
   "file_extension": ".py",
   "mimetype": "text/x-python",
   "name": "python",
   "nbconvert_exporter": "python",
   "pygments_lexer": "ipython3",
   "version": "3.8.6"
  }
 },
 "nbformat": 4,
 "nbformat_minor": 4
}
