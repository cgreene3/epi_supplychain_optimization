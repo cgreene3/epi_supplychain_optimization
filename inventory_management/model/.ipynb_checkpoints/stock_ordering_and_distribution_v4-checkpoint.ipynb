{
 "cells": [
  {
   "cell_type": "code",
   "execution_count": 1,
   "metadata": {},
   "outputs": [],
   "source": [
    "#inventory management + v5"
   ]
  },
  {
   "cell_type": "code",
   "execution_count": 2,
   "metadata": {},
   "outputs": [],
   "source": [
    "import numpy as np\n",
    "import pandas as pd\n",
    "import random as r\n",
    "import math\n",
    "import os\n",
    "from datetime import timedelta\n",
    "\n",
    "import matplotlib.pyplot as plot\n",
    "import networkx as nx\n",
    "\n",
    "from pyomo.environ import *\n",
    "from pyomo.opt import SolverFactory\n",
    "from gurobipy import GRB"
   ]
  },
  {
   "cell_type": "code",
   "execution_count": 3,
   "metadata": {},
   "outputs": [],
   "source": [
    "#id directories\n",
    "data_dir = os.getcwd().replace('/model', '/data')\n",
    "results_dir = os.getcwd().replace('/model', '/results')"
   ]
  },
  {
   "cell_type": "code",
   "execution_count": 4,
   "metadata": {},
   "outputs": [],
   "source": [
    "#define sets\n",
    "K = 1\n",
    "I = 3\n",
    "T = 10\n",
    "\n",
    "#define parameters\n",
    "r_k_dict = {\n",
    "    1 : 1\n",
    "}\n",
    "\n",
    "q_k_i_dict = {\n",
    "    tuple([1,1]) : 3,\n",
    "    tuple([1,2]): 2,\n",
    "    tuple([1,3]): 2\n",
    "}\n",
    "\n",
    "z_k_i_init_dict = {\n",
    "    tuple([1,1]) : 2,\n",
    "    tuple([1,2]) : 1,\n",
    "    tuple([1,3]) : 3\n",
    "}\n",
    "\n",
    "f_k_i_tDiff_dict = {\n",
    "    tuple([1,1,0]) : 0.9,\n",
    "    tuple([1,2,0]) : .1,\n",
    "    tuple([1,3,0]) : .2,\n",
    "    tuple([1,1,1]) : .1,\n",
    "    tuple([1,2,1]) : 0,\n",
    "    tuple([1,3,1]) : 0,\n",
    "    tuple([1,1,2]) : 0,\n",
    "    tuple([1,2,2]) : 0,\n",
    "    tuple([1,3,2]) : .2,\n",
    "    tuple([1,1,3]) : 0,\n",
    "    tuple([1,2,3]) : .2,\n",
    "    tuple([1,3,3]) : .3,\n",
    "    tuple([1,1,4]) : 0,\n",
    "    tuple([1,2,4]) : .2,\n",
    "    tuple([1,3,4]) : .1,\n",
    "    tuple([1,1,5]) : 0,\n",
    "    tuple([1,2,5]) : .1,\n",
    "    tuple([1,3,5]) : .1,\n",
    "    tuple([1,1,6]) : 0,\n",
    "    tuple([1,2,6]) : .1,\n",
    "    tuple([1,3,6]) : .1,\n",
    "    tuple([1,1,7]) : 0,\n",
    "    tuple([1,2,7]) : .1,\n",
    "    tuple([1,3,7]) : 0,\n",
    "    tuple([1,1,8]) : 0,\n",
    "    tuple([1,2,8]) : 0,\n",
    "    tuple([1,3,8]) : 0,\n",
    "    tuple([1,1,9]) : 0,\n",
    "    tuple([1,2,9]) : 0,\n",
    "    tuple([1,3,9]) : 0,\n",
    "    tuple([1,1,10]) : 0,\n",
    "    tuple([1,2,10]) : 0,\n",
    "    tuple([1,3,10]) : 0\n",
    "}\n",
    "\n",
    "\n",
    "o_k_i_t_dict = {\n",
    "    tuple([1,1,1]) : 3,\n",
    "    tuple([1,2,1]) : 0,\n",
    "    tuple([1,3,1]) : 0,\n",
    "    tuple([1,1,2]) : 0,\n",
    "    tuple([1,2,2]) : 2,\n",
    "    tuple([1,3,2]) : 0,\n",
    "    tuple([1,1,3]) : 0,\n",
    "    tuple([1,2,3]) : 1,\n",
    "    tuple([1,3,3]) : 0,\n",
    "    tuple([1,1,4]) : 0,\n",
    "    tuple([1,2,4]) : 3,\n",
    "    tuple([1,3,4]) : 0,\n",
    "    tuple([1,1,5]) : 3,\n",
    "    tuple([1,2,5]) : 0,\n",
    "    tuple([1,3,5]) : 0,\n",
    "    tuple([1,1,6]) : 0,\n",
    "    tuple([1,2,6]) : 0,\n",
    "    tuple([1,3,6]) : 0,\n",
    "    tuple([1,1,7]) : 0,\n",
    "    tuple([1,2,7]) : 0,\n",
    "    tuple([1,3,7]) : 0,\n",
    "    tuple([1,1,8]) : 0,\n",
    "    tuple([1,2,8]) : 0,\n",
    "    tuple([1,3,8]) : 0,\n",
    "    tuple([1,1,9]) : 0,\n",
    "    tuple([1,2,9]) : 0,\n",
    "    tuple([1,3,9]) : 0,\n",
    "    tuple([1,1,10]) : 0,\n",
    "    tuple([1,2,10]) : 0,\n",
    "    tuple([1,3,10]) : 0\n",
    "}\n",
    "\n",
    "\n",
    "\n",
    "alpha_k_dict = {\n",
    "    1 : 0\n",
    "}\n",
    "\n",
    "D_k_t_dict_mu_sd = {\n",
    "    tuple([1,1]) : [2, 1],\n",
    "    tuple([1,2]) : [2, 1],\n",
    "    tuple([1,3]) : [10, 1],\n",
    "    tuple([1,4]) : [2, 1],\n",
    "    tuple([1,5]) : [20, 1],\n",
    "    tuple([1,6]) : [2, 1],\n",
    "    tuple([1,7]) : [1, .5],\n",
    "    tuple([1,8]) : [2, 1],\n",
    "    tuple([1,9]) : [10, 2],\n",
    "    tuple([1,10]) : [2, 1]\n",
    "}\n",
    "\n",
    "s_k_dict = {\n",
    "    1 : .5\n",
    "}\n",
    "\n",
    "h = 200\n",
    "\n",
    "c_k_i_dict = {\n",
    "    tuple([1,1]) : 1,\n",
    "    tuple([1,2]) : .8,\n",
    "    tuple([1,3]) : .5\n",
    "}\n",
    "\n",
    "b = 100\n",
    "\n",
    "CAP_i_t_dict_mu_sd = {\n",
    "    tuple([1,1]) : [10, 1],\n",
    "    tuple([1,2]) : [10, 1],\n",
    "    tuple([1,3]) : [10, 1],\n",
    "    tuple([1,4]) : [10, 1],\n",
    "    tuple([1,5]) : [10, 1],\n",
    "    tuple([1,6]) : [10, 1],\n",
    "    tuple([1,7]) : [10, 1],\n",
    "    tuple([1,8]) : [10, 1],\n",
    "    tuple([1,9]) : [10, 1],\n",
    "    tuple([1,10]) : [10, 1],\n",
    "    tuple([2,1]) : [8, 1],\n",
    "    tuple([2,2]) : [8, 1],\n",
    "    tuple([2,3]) : [8, 1],\n",
    "    tuple([2,4]) : [8, 1],\n",
    "    tuple([2,5]) : [8, 1],\n",
    "    tuple([2,6]) : [8, 1],\n",
    "    tuple([2,7]) : [8, 1],\n",
    "    tuple([2,8]) : [8, 1],\n",
    "    tuple([2,9]) : [8, 1],\n",
    "    tuple([2,10]) : [20, 1],\n",
    "    tuple([3,1]) : [10, 1],\n",
    "    tuple([3,2]) : [20, 1],\n",
    "    tuple([3,3]) : [5, 1],\n",
    "    tuple([3,4]) : [5, 1],\n",
    "    tuple([3,5]) : [5, 1],\n",
    "    tuple([3,6]) : [30, 1],\n",
    "    tuple([3,7]) : [5, .5],\n",
    "    tuple([3,8]) : [5, 1],\n",
    "    tuple([3,9]) : [5, 2],\n",
    "    tuple([3,10]) : [5, 1]\n",
    "}"
   ]
  },
  {
   "cell_type": "code",
   "execution_count": 5,
   "metadata": {},
   "outputs": [],
   "source": [
    "model = ConcreteModel()\n",
    "\n",
    "#####define sets#######\n",
    "model.K = Set(initialize = range(1,K+1))\n",
    "model.I = Set(initialize = range(1,I+1))\n",
    "model.T = Set(initialize = range(1,T+1))\n",
    "#model.T_beg = Set(initialize = range(0,T+1))\n",
    "\n",
    "####initialize parameters####\n",
    "\n",
    "#essentiality rank param\n",
    "def rank_param_initialize(model, k):\n",
    "    return(r_k_dict.get(k))\n",
    "\n",
    "model.r_k = Param(model.K, initialize = rank_param_initialize)\n",
    "\n",
    "#quality param\n",
    "def quality_param_initialize(model, k, i):\n",
    "    return(q_k_i_dict.get(tuple([k,i])))\n",
    "\n",
    "model.q_k_i = Param(model.K, model.I, initialize = quality_param_initialize)\n",
    "\n",
    "#incoming orders\n",
    "def incoming_orders_initialize(model, k, i, t):\n",
    "    return(o_k_i_t_dict.get(tuple([k,i,t])))\n",
    "\n",
    "model.o_k_i_t = Param(model.K, model.I, model.T, initialize = incoming_orders_initialize)\n",
    "\n",
    "#beggining inventory\n",
    "def beg_inv_param_initialize(model, k, i):\n",
    "    return(z_k_i_init_dict.get(tuple([k,i])))\n",
    "\n",
    "model.z_k_i_init = Param(model.K, model.I, initialize = beg_inv_param_initialize)\n",
    "\n",
    "def delay_dist_param_initialize(model, k, i, t):\n",
    "    return(f_k_i_tDiff_dict.get(tuple([k,i,t])))\n",
    "\n",
    "model.f_k_i_tDiff = Param(model.K, model.I, model.T, initialize = delay_dist_param_initialize)\n",
    "\n",
    "def unfulfilled_demand_param_initialize(model, k):\n",
    "    return(alpha_k_dict.get(k))\n",
    "\n",
    "model.alpha_k_intialize = Param(model.K, initialize = unfulfilled_demand_param_initialize)\n",
    "\n",
    "#assume preparing for one sd above the mean\n",
    "def mu_plus_sigma_demand_param_initialize(model, k, t):\n",
    "    return(sum(D_k_t_dict_mu_sd.get(tuple([k,t]))))\n",
    "\n",
    "model.d_k_t = Param(model.K, model.T, initialize = mu_plus_sigma_demand_param_initialize)\n",
    "\n",
    "def item_size_param_initialize(model, k):\n",
    "    return(s_k_dict.get(k))\n",
    "\n",
    "model.s_k = Param(model.K, initialize = item_size_param_initialize)\n",
    "\n",
    "def warehouse_cap_param_initialize(model):\n",
    "    return(h)\n",
    "\n",
    "model.h = Param(initialize = h)\n",
    "\n",
    "def cost_param_initialize(model, k, i):\n",
    "    return(c_k_i_dict.get(tuple([k,i])))\n",
    "\n",
    "model.c_k_i = Param(model.K, model.I, initialize = cost_param_initialize)\n",
    "\n",
    "def budget_param_initialize(model):\n",
    "    return(b)\n",
    "\n",
    "model.b = Param(initialize = budget_param_initialize)\n",
    "\n",
    "def supplier_cap_param_initialize(model, i, t):\n",
    "    return(sum(CAP_i_t_dict_mu_sd.get(tuple([i,t]))))\n",
    "\n",
    "model.cap = Param(model.I, model.T, initialize = supplier_cap_param_initialize)\n",
    "\n",
    "####initialize variables####\n",
    "model.x_k_i_t = Var(model.K, model.I, model.T, within = NonNegativeReals) #amount ordered\n",
    "model.y_k_i_t = Var(model.K, model.I, model.T, within = NonNegativeReals) #amount recieved\n",
    "model.z_k_i_t = Var(model.K, model.I, model.T, within = NonNegativeReals)\n",
    "model.alpha_k_t = Var(model.K, model.T, within = NonNegativeReals)\n",
    "model.beta_k_i_t = Var(model.K, model.I, model.T, within = NonNegativeReals)"
   ]
  },
  {
   "cell_type": "code",
   "execution_count": 6,
   "metadata": {},
   "outputs": [],
   "source": [
    "#def initialize_objective(model):\n",
    "model.Objective = Objective(expr = \n",
    "                            (sum(model.r_k[k]*sum((1/t)*model.q_k_i[k,i]*model.beta_k_i_t[k,i,t] \n",
    "                                                  for i in model.I for t in model.T) for k in model.K)),\n",
    "                            sense = maximize)"
   ]
  },
  {
   "cell_type": "raw",
   "metadata": {},
   "source": [
    "#def initialize_objective(model):\n",
    "model.Objective = Objective(expr = \n",
    "                            (sum(1/model.r_k[k]*sum(model.alpha_k_t[k,t] for t in model.T) for k in model.K)),\n",
    "                            sense = minimize)"
   ]
  },
  {
   "cell_type": "code",
   "execution_count": 7,
   "metadata": {},
   "outputs": [],
   "source": [
    "def beggining_inventory_constraint_initialize(model, k, i):\n",
    "    return(model.z_k_i_t[k,i,1] == model.z_k_i_init[k,i])\n",
    "    \n",
    "model.beggining_inventory_constraint = Constraint(model.K, model.I, \n",
    "                                                  rule = beggining_inventory_constraint_initialize)"
   ]
  },
  {
   "cell_type": "code",
   "execution_count": 8,
   "metadata": {},
   "outputs": [],
   "source": [
    "def initalize_unsatisfied_demand_constraint_initialize(model, k):\n",
    "    return(model.alpha_k_t[k,1] == model.alpha_k_intialize[k])\n",
    "\n",
    "model.initalize_unsatisfied_demand_constraint_initialize = \\\n",
    "Constraint(model.K, rule = initalize_unsatisfied_demand_constraint_initialize)"
   ]
  },
  {
   "cell_type": "code",
   "execution_count": 9,
   "metadata": {},
   "outputs": [],
   "source": [
    "def incoming_orders_constraint_initialize(model, k, i, t):\n",
    "    return(model.y_k_i_t[k,i,t] - sum(model.f_k_i_tDiff[k, i, t-t_ordered_time]*model.x_k_i_t[k,i,t_ordered_time] for t_ordered_time in range(1,t)) - \n",
    "           model.o_k_i_t[k,i,t] == 0)\n",
    "\n",
    "model.incoming_ordered_constraint = Constraint(model.K, model.I, model.T, \n",
    "                                               rule = incoming_orders_constraint_initialize)"
   ]
  },
  {
   "cell_type": "code",
   "execution_count": 10,
   "metadata": {},
   "outputs": [],
   "source": [
    "def calculate_available_inventory_constraint_initialize(model, k, i, t):\n",
    "    if (t > 1):\n",
    "        return(model.z_k_i_t[k,i,t] - model.z_k_i_t[k,i,t-1] - model.y_k_i_t[k,i,t-1] + model.beta_k_i_t[k,i,t-1] == 0)\n",
    "    else:\n",
    "        return(Constraint.Skip)\n",
    "    \n",
    "model.calculate_available_inventory_constraint = Constraint(model.K, model.I, model.T,\n",
    "                                                            rule = \n",
    "                                                            calculate_available_inventory_constraint_initialize)"
   ]
  },
  {
   "cell_type": "code",
   "execution_count": 11,
   "metadata": {},
   "outputs": [],
   "source": [
    "def cannot_fulfill_more_than_available_constraint_initialize(model, k,i,t):\n",
    "    return(model.beta_k_i_t[k,i,t] - model.z_k_i_t[k,i,t] <= 0)\n",
    "\n",
    "model.cannot_fulfill_more_than_available_constraint = \\\n",
    "Constraint(model.K, model.I, model.T, rule = cannot_fulfill_more_than_available_constraint_initialize)"
   ]
  },
  {
   "cell_type": "code",
   "execution_count": 12,
   "metadata": {},
   "outputs": [],
   "source": [
    "def calculate_unsatisfied_demand_constraint_initialize(model,k,t):\n",
    "    if t > 1:\n",
    "        return(model.alpha_k_t[k,t] - model.alpha_k_t[k,t-1] + sum(model.beta_k_i_t[k,i,t] for i in model.I) == \\\n",
    "               model.d_k_t[k,t])\n",
    "    else:\n",
    "        return(Constraint.Skip)\n",
    "\n",
    "model.calculate_unsatisfied_demand_constraint = \\\n",
    "Constraint(model.K, model.T, rule = calculate_unsatisfied_demand_constraint_initialize)"
   ]
  },
  {
   "cell_type": "code",
   "execution_count": 13,
   "metadata": {},
   "outputs": [],
   "source": [
    "def warehouse_capacity_constraint_initialize(model, t):\n",
    "    return(sum(model.s_k[k]*model.z_k_i_t[k,i,t] for k in model.K for i in model.I) <= model.h)\n",
    "\n",
    "model.warehouse_capacity_constraint = \\\n",
    "Constraint(model.T, rule = warehouse_capacity_constraint_initialize)"
   ]
  },
  {
   "cell_type": "code",
   "execution_count": 14,
   "metadata": {},
   "outputs": [],
   "source": [
    "def budget_constraint_initialize(model, t):\n",
    "    return(sum(model.c_k_i[k,i]*model.x_k_i_t[k,i,t] for k in model.K for i in model.I) <= model.b)\n",
    "\n",
    "model.budget_constraint = \\\n",
    "Constraint(model.T, rule = budget_constraint_initialize)"
   ]
  },
  {
   "cell_type": "code",
   "execution_count": 15,
   "metadata": {},
   "outputs": [],
   "source": [
    "def supplier_constraint_initialize(model, i, t):\n",
    "    return(sum(model.x_k_i_t[k,i,t] for k in model.K) <= model.cap[i,t])\n",
    "\n",
    "model.supplier_constraint = \\\n",
    "Constraint(model.I, model.T, rule = supplier_constraint_initialize)"
   ]
  },
  {
   "cell_type": "code",
   "execution_count": 16,
   "metadata": {},
   "outputs": [
    {
     "name": "stdout",
     "output_type": "stream",
     "text": [
      "Using license file /Users/chelseagreene/gurobi.lic\n",
      "Academic license - for non-commercial use only\n"
     ]
    },
    {
     "data": {
      "text/plain": [
       "{'Problem': [{'Name': 'unknown', 'Lower bound': 40.28424603174604, 'Upper bound': 40.28424603174604, 'Number of objectives': 1, 'Number of constraints': 150, 'Number of variables': 130, 'Number of binary variables': 0, 'Number of integer variables': 0, 'Number of continuous variables': 130, 'Number of nonzeros': 401, 'Sense': -1, 'Number of solutions': 1}], 'Solver': [{'Name': 'Gurobi 9.01', 'Status': 'ok', 'Wallclock time': 0.0019309520721435547, 'Termination condition': 'optimal', 'Termination message': 'Model was solved to optimality (subject to tolerances), and an optimal solution is available.'}], 'Solution': [OrderedDict([('number of solutions', 0), ('number of solutions displayed', 0)])]}"
      ]
     },
     "execution_count": 16,
     "metadata": {},
     "output_type": "execute_result"
    }
   ],
   "source": [
    "opt = SolverFactory('gurobi_persistent')\n",
    "opt.set_instance(model)\n",
    "opt.solve(model)"
   ]
  },
  {
   "cell_type": "code",
   "execution_count": 17,
   "metadata": {},
   "outputs": [],
   "source": [
    "#extract ordering df\n",
    "ordered_df = pd.DataFrame(list(model.x_k_i_t.extract_values().items()),columns = ['sets','units_to_order'])\n",
    "ordered_df.loc[:,'item_type']=ordered_df.sets.map(lambda x:x[0])\n",
    "ordered_df.loc[:,'supplier']=ordered_df.sets.map(lambda x:x[1])\n",
    "ordered_df.loc[:,'time_interval']=ordered_df.sets.map(lambda x:x[2])"
   ]
  },
  {
   "cell_type": "code",
   "execution_count": 18,
   "metadata": {},
   "outputs": [],
   "source": [
    "#extract expected arrivals df\n",
    "recieved_df = pd.DataFrame(list(model.y_k_i_t.extract_values().items()),columns = ['sets','expected_units_recieved'])\n",
    "recieved_df.loc[:,'item_type']=recieved_df.sets.map(lambda x:x[0])\n",
    "recieved_df.loc[:,'supplier']=recieved_df.sets.map(lambda x:x[1])\n",
    "recieved_df.loc[:,'time_interval']=recieved_df.sets.map(lambda x:x[2])"
   ]
  },
  {
   "cell_type": "code",
   "execution_count": 19,
   "metadata": {},
   "outputs": [],
   "source": [
    "#extract expected fulfilled df\n",
    "fulfilled_df = pd.DataFrame(list(model.beta_k_i_t.extract_values().items()),columns = ['sets','units_fulfilled'])\n",
    "fulfilled_df.loc[:,'item_type']=fulfilled_df.sets.map(lambda x:x[0])\n",
    "fulfilled_df.loc[:,'supplier']=fulfilled_df.sets.map(lambda x:x[1])\n",
    "fulfilled_df.loc[:,'time_interval']=fulfilled_df.sets.map(lambda x:x[2])"
   ]
  },
  {
   "cell_type": "code",
   "execution_count": 20,
   "metadata": {},
   "outputs": [],
   "source": [
    "#extract expected available df\n",
    "available_df = pd.DataFrame(list(model.beta_k_i_t.extract_values().items()),columns = ['sets','units_available'])\n",
    "available_df.loc[:,'item_type']=available_df.sets.map(lambda x:x[0])\n",
    "available_df.loc[:,'supplier']=available_df.sets.map(lambda x:x[1])\n",
    "available_df.loc[:,'time_interval']=available_df.sets.map(lambda x:x[2])"
   ]
  },
  {
   "cell_type": "code",
   "execution_count": 21,
   "metadata": {},
   "outputs": [],
   "source": [
    "#extract expected unsatisfied df\n",
    "unsatisfied_df = pd.DataFrame(list(model.alpha_k_t.extract_values().items()),columns = ['sets','units_unsatisfied'])\n",
    "unsatisfied_df.loc[:,'item_type']=unsatisfied_df.sets.map(lambda x:x[0])\n",
    "unsatisfied_df.loc[:,'time_interval']=unsatisfied_df.sets.map(lambda x:x[1])"
   ]
  },
  {
   "cell_type": "code",
   "execution_count": 22,
   "metadata": {},
   "outputs": [],
   "source": [
    "demand_df = pd.DataFrame(list(model.d_k_t.extract_values().items()), columns = ['sets', 'demand_in_units'])\n",
    "demand_df.loc[:,'item_type']=demand_df.sets.map(lambda x:x[0])\n",
    "demand_df.loc[:,'time_interval']=demand_df.sets.map(lambda x:x[1])"
   ]
  },
  {
   "cell_type": "code",
   "execution_count": 23,
   "metadata": {},
   "outputs": [],
   "source": [
    "ordered_and_recieved_df = ordered_df[['item_type', 'supplier', 'time_interval', 'sets']]\n",
    "ordered_and_recieved_df = ordered_and_recieved_df.merge(recieved_df[['sets', 'expected_units_recieved']],\n",
    "                                                        on='sets', how='left')\n",
    "ordered_and_recieved_df = ordered_and_recieved_df.merge(ordered_df[['sets', 'units_to_order']],\n",
    "                                                        on='sets', how='left')\n",
    "\n",
    "ordered_and_recieved_df = ordered_and_recieved_df[['item_type', 'supplier', \n",
    "                                                   'time_interval','units_to_order', \n",
    "                                                   'expected_units_recieved']]\n",
    "\n",
    "ordered_and_recieved_df['units_to_order'] = (round(ordered_and_recieved_df['units_to_order'])).astype(int)\n",
    "ordered_and_recieved_df['expected_units_recieved'] = (round(ordered_and_recieved_df['expected_units_recieved'])).astype(int)"
   ]
  },
  {
   "cell_type": "code",
   "execution_count": 24,
   "metadata": {},
   "outputs": [],
   "source": [
    "os.chdir(results_dir)\n",
    "ordered_and_recieved_df.to_csv('ordering_and_recieving_schedule.csv')"
   ]
  },
  {
   "cell_type": "code",
   "execution_count": 25,
   "metadata": {},
   "outputs": [
    {
     "data": {
      "image/png": "[encoded data removed]",
      "text/plain": [
       "<Figure size 432x288 with 1 Axes>"
      ]
     },
     "metadata": {
      "needs_background": "light"
     },
     "output_type": "display_data"
    }
   ],
   "source": [
    "available_overtime_df = available_df.groupby(['time_interval'])[\"units_available\"].sum().reset_index()\n",
    "plot.plot(available_overtime_df['time_interval'], available_overtime_df['units_available'], label='units available') #available\n",
    "plot.plot(unsatisfied_df['time_interval'], unsatisfied_df['units_unsatisfied'], label='units unsatisfied') #orange\n",
    "\n",
    "plot.xlabel('Time Interval')\n",
    "plot.ylabel('Units of Item 1')\n",
    "plot.title('Available Units and Unsatisfied Units of Item 1 at each Time Interval')\n",
    "plot.legend()\n",
    "plot.savefig('available_and_unsatisfied_lineplot.jpg')"
   ]
  },
  {
   "cell_type": "code",
   "execution_count": 26,
   "metadata": {},
   "outputs": [],
   "source": [
    "pos_dict_all = {}\n",
    "label_dict_all = {}\n",
    "color_dict_all = {}\n",
    "G_dict_all = {}"
   ]
  },
  {
   "cell_type": "code",
   "execution_count": 27,
   "metadata": {},
   "outputs": [],
   "source": [
    "for i in range(1,I+1):\n",
    "    G=nx.Graph()\n",
    "    label_dict = {}\n",
    "    color_map = []\n",
    "    \n",
    "    global ordered_df\n",
    "    global recieved_df\n",
    "    \n",
    "    time_coordinates = range(1,T+1)\n",
    "    ordered_amount_coordinates = np.array(ordered_df[(ordered_df['supplier'] == i)]['units_to_order'])\n",
    "    recieved_amount_coordinates = np.array(recieved_df[(recieved_df['supplier'] == i)]['expected_units_recieved'])\n",
    "\n",
    "    for t in range(T):\n",
    "        ordered_amount = ordered_amount_coordinates[t]\n",
    "        recieved_amount = recieved_amount_coordinates[t]\n",
    "\n",
    "        if (ordered_amount > 0):\n",
    "            name = str(t) + 'planned units to order' + str(ordered_amount)\n",
    "            G.add_node(name, pos = (t+1,1))\n",
    "            label_dict[name] = round(ordered_amount).astype(int)\n",
    "            color_map.append('blue')\n",
    "\n",
    "        if (recieved_amount > 0):\n",
    "            name = str(t) + 'expected number of units recieved' + str(recieved_amount)\n",
    "            G.add_node(name, pos = (t+1,2))\n",
    "            label_dict[name] = round(recieved_amount).astype(int)\n",
    "            color_map.append('green')\n",
    "\n",
    "    pos=nx.get_node_attributes(G,'pos')\n",
    "    label_dict_all['supplier' + str(i)] = label_dict\n",
    "    color_dict_all['supplier' + str(i)] = color_map\n",
    "    pos_dict_all['supplier' + str(i)] = pos\n",
    "    G_dict_all['supplier' + str(i)] = G"
   ]
  },
  {
   "cell_type": "code",
   "execution_count": 28,
   "metadata": {},
   "outputs": [
    {
     "data": {
      "image/png": "[encoded data removed]",
      "text/plain": [
       "<Figure size 432x288 with 1 Axes>"
      ]
     },
     "metadata": {},
     "output_type": "display_data"
    },
    {
     "data": {
      "image/png": "[encoded data removed]",
      "text/plain": [
       "<Figure size 432x288 with 1 Axes>"
      ]
     },
     "metadata": {},
     "output_type": "display_data"
    },
    {
     "data": {
      "image/png": "[encoded data removed]",
      "text/plain": [
       "<Figure size 432x288 with 1 Axes>"
      ]
     },
     "metadata": {},
     "output_type": "display_data"
    }
   ],
   "source": [
    "for i in range(1, I+1):\n",
    "\n",
    "    fig, ax = plot.subplots()\n",
    "    nx.draw(G_dict_all.get('supplier' + str(i)),\n",
    "            pos_dict_all.get('supplier' + str(i)), \n",
    "            labels=label_dict_all.get('supplier' + str(i)), \n",
    "            node_size=600, font_size=16, with_labels = True, \n",
    "            node_color=color_dict_all.get('supplier' + str(i)), \n",
    "            ax = ax)\n",
    "    ax.set_xlabel('Time Interval Ordered and Recieved')\n",
    "    ax.set_ylabel('Place Order             Recieved Order')\n",
    "    ax.set(ylim=(.5, 2.5))\n",
    "    ax.set_title('Time Interval Order is Placed and Recieved \\n for Supplier '+ str(i)+' for Item 1')\n",
    "    ax.tick_params(left=True, bottom=True, labelleft=False, labelbottom=True)\n",
    "    limits=plot.axis('on')\n",
    "    plot.savefig('Item_1_Supplier' + str(i)+'.jpg')"
   ]
  },
  {
   "cell_type": "raw",
   "metadata": {},
   "source": [
    "G=nx.Graph()\n",
    "label_dict = {}\n",
    "color_map = []\n",
    "\n",
    "#for i in range(I):\n",
    "i = 1\n",
    "time_coordinates = range(1,T+1)\n",
    "ordered_amount_coordinates = ordered_df[(ordered_df['supplier'] == i)]['amount_ordered']\n",
    "recieved_amount_coordinates = recieved_df[(recieved_df['supplier'] == i)]['amount_recieved']\n",
    "    \n",
    "for t in range(T):\n",
    "    ordered_amount = ordered_amount_coordinates[t]\n",
    "    recieved_amount = recieved_amount_coordinates[t]\n",
    "\n",
    "    if (ordered_amount > 0):\n",
    "        name = str(t) + 'ordered amount' + str(ordered_amount)\n",
    "        G.add_node(name, pos = (t+1,1))\n",
    "        label_dict[name] = round(ordered_amount).astype(int)\n",
    "        color_map.append('blue')\n",
    "\n",
    "    if (recieved_amount > 0):\n",
    "        name = str(t) + 'recieved amount' + str(recieved_amount)\n",
    "        G.add_node(name, pos = (t+1,2))\n",
    "        label_dict[name] = round(recieved_amount).astype(int)\n",
    "        color_map.append('green')\n",
    "\n",
    "pos=nx.get_node_attributes(G,'pos')\n",
    "        \n",
    "fig, ax = plot.subplots()\n",
    "nx.draw(G,pos, labels=label_dict, node_size=600, font_size=16, with_labels = True, node_color=color_map, ax = ax)\n",
    "ax.set_ylabel('Recieve Order             Place Order')\n",
    "ax.set_xlabel('Time Interval Ordered and Recieved')\n",
    "ax.set(ylim=(.5, 2.5))\n",
    "ax.tick_params(left=True, bottom=True, labelleft=False, labelbottom=True)\n",
    "limits=plot.axis('on')\n",
    "plot.show()"
   ]
  },
  {
   "cell_type": "raw",
   "metadata": {},
   "source": [
    "fig, ax = plot.subplots(3)\n",
    "ax[0].set_xlabel('Time Interval Ordered and Recieved')\n",
    "ax[1].set_xlabel('Time Interval Ordered and Recieved')\n",
    "ax[2].set_xlabel('Time Interval Ordered and Recieved')\n",
    "\n",
    "#for i in [1]:\n",
    "nx.draw(G_dict_all.get('supplier' + str(1)),\n",
    "        pos_dict_all.get('supplier' + str(1)), \n",
    "        labels=label_dict_all.get('supplier' + str(1)), \n",
    "        node_size=600, font_size=16, with_labels = True, \n",
    "        node_color=color_dict_all.get('supplier' + str(1)), \n",
    "        ax = ax[0])\n",
    "\n",
    "ax[0].set_ylabel('Recieve Order             Place Order')\n",
    "ax[0].set(ylim=(.5, 2.5))\n",
    "ax[0].tick_params(left=True, bottom=True, labelleft=False, labelbottom=True)\n",
    "\n",
    "nx.draw(G_dict_all.get('supplier' + str(2)),\n",
    "        pos_dict_all.get('supplier' + str(2)), \n",
    "        labels=label_dict_all.get('supplier' + str(2)), \n",
    "        node_size=600, font_size=16, with_labels = True, \n",
    "        node_color=color_dict_all.get('supplier' + str(2)), \n",
    "        ax = ax[1])\n",
    "\n",
    "ax[1].set(ylim=(.5, 2.5))\n",
    "\n",
    "nx.draw(G_dict_all.get('supplier' + str(3)),\n",
    "        pos_dict_all.get('supplier' + str(3)), \n",
    "        labels=label_dict_all.get('supplier' + str(3)), \n",
    "        node_size=600, font_size=16, with_labels = True, \n",
    "        node_color=color_dict_all.get('supplier' + str(3)), \n",
    "        ax = ax[2])\n",
    "\n",
    "ax[2].set(ylim=(.5, 2.5))\n",
    "\n",
    "#limits=plot.axis('on')\n",
    "plot.show()"
   ]
  }
 ],
 "metadata": {
  "kernelspec": {
   "display_name": "Python 3",
   "language": "python",
   "name": "python3"
  },
  "language_info": {
   "codemirror_mode": {
    "name": "ipython",
    "version": 3
   },
   "file_extension": ".py",
   "mimetype": "text/x-python",
   "name": "python",
   "nbconvert_exporter": "python",
   "pygments_lexer": "ipython3",
   "version": "3.7.3"
  }
 },
 "nbformat": 4,
 "nbformat_minor": 4
}
